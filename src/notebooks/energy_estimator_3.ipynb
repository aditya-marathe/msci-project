{
 "cells": [
  {
   "cell_type": "markdown",
   "metadata": {},
   "source": [
    "# Energy Estimator (updated, again)\n",
    "\n",
    "---\n",
    "\n",
    "Aditya Marathe"
   ]
  },
  {
   "cell_type": "markdown",
   "metadata": {},
   "source": [
    "## Imports"
   ]
  },
  {
   "cell_type": "code",
   "execution_count": 1,
   "metadata": {},
   "outputs": [],
   "source": [
    "import os\n",
    "import sys\n",
    "\n",
    "import pathlib"
   ]
  },
  {
   "cell_type": "code",
   "execution_count": 2,
   "metadata": {},
   "outputs": [],
   "source": [
    "%matplotlib inline\n",
    "\n",
    "import dotenv\n",
    "\n",
    "import h5py\n",
    "# import dask\n",
    "# import dask.dataframe as dd\n",
    "# import dask.array as da\n",
    "import pandas as pd\n",
    "\n",
    "import json\n",
    "\n",
    "import numpy as np\n",
    "import numpy.typing as npt\n",
    "\n",
    "import tensorflow as tf\n",
    "from tensorflow import keras\n",
    "import keras.backend as kb\n",
    "\n",
    "from sklearn import preprocessing\n",
    "\n",
    "import matplotlib as mpl\n",
    "import matplotlib.pyplot as plt"
   ]
  },
  {
   "cell_type": "markdown",
   "metadata": {},
   "source": [
    "**Local Imports**"
   ]
  },
  {
   "cell_type": "code",
   "execution_count": 3,
   "metadata": {},
   "outputs": [],
   "source": [
    "sys.path.insert(1, './../')\n",
    "\n",
    "from cuts import *\n",
    "from utils import *\n",
    "from labbook import *"
   ]
  },
  {
   "cell_type": "markdown",
   "metadata": {},
   "source": [
    "**Version and Hardware**"
   ]
  },
  {
   "cell_type": "code",
   "execution_count": 4,
   "metadata": {},
   "outputs": [
    {
     "name": "stdout",
     "output_type": "stream",
     "text": [
      "Python 3.10.11 (tags/v3.10.11:7d4cc5a, Apr  5 2023, 00:38:17) [MSC v.1929 64 bit (AMD64)]\n",
      "\n",
      "H5Py 3.10.0\n",
      "Pandas 2.1.2\n",
      "NumPy 1.26.1\n",
      "Matplotlib 3.8.1\n"
     ]
    }
   ],
   "source": [
    "print(f'Python {sys.version}\\n')\n",
    "print(f'H5Py {h5py.__version__}')\n",
    "# print(f'Dask {dask.__version__}')\n",
    "print(f'Pandas {pd.__version__}')\n",
    "print(f'NumPy {np.__version__}')\n",
    "print(f'Matplotlib {mpl.__version__}')"
   ]
  },
  {
   "cell_type": "code",
   "execution_count": 5,
   "metadata": {},
   "outputs": [],
   "source": [
    "# The '.env' file contains the directory to the data.\n",
    "dotenv.load_dotenv();"
   ]
  },
  {
   "cell_type": "markdown",
   "metadata": {},
   "source": [
    "## Setting up logging..."
   ]
  },
  {
   "cell_type": "code",
   "execution_count": 6,
   "metadata": {},
   "outputs": [],
   "source": [
    "config = {\n",
    "    'Cuts': list(),\n",
    "    'Transforms': list(),\n",
    "    'XDataCols': list(),\n",
    "    'YDataCols': list()\n",
    "}"
   ]
  },
  {
   "cell_type": "markdown",
   "metadata": {},
   "source": [
    "## 1. Loading the 'mini' dataset"
   ]
  },
  {
   "cell_type": "code",
   "execution_count": 7,
   "metadata": {},
   "outputs": [],
   "source": [
    "DATA_FILE_DIR = pathlib.Path(os.environ['MINI_DATA_DIR'])"
   ]
  },
  {
   "cell_type": "code",
   "execution_count": 8,
   "metadata": {},
   "outputs": [],
   "source": [
    "useful_vars = [\n",
    "    # Cuts (not used for training / testing)\n",
    "    'numuBasicQuality',\n",
    "    'numuQuality',\n",
    "    'numucontain',\n",
    "    'numu2020pid',\n",
    "    'numucosrej',\n",
    "    '3flavourveto',\n",
    "    'numufull',\n",
    "    # MC Truth\n",
    "    'isNuMuCC',\n",
    "    'trueEnu',\n",
    "    # Derived Quant.\n",
    "    'pmu',\n",
    "    'pt',\n",
    "    'ptp',\n",
    "    'recoq2',\n",
    "    'cosBeamFirst',\n",
    "    # Predicted energies\n",
    "    'rec.energy.numu.hadclust.calE',\n",
    "    'rec.energy.numu.hadclust.nhit',\n",
    "    'rec.energy.numu.hadtrkE',\n",
    "    'rec.energy.numu.lstmmuon',\n",
    "    'rec.energy.numu.lstmnu',\n",
    "    # Pre-selection CVN\n",
    "    'rec.sel.cvnloosepreselptp.cosmicid',\n",
    "    'rec.sel.cvnloosepreselptp.ncid',\n",
    "    'rec.sel.cvnloosepreselptp.nueid',\n",
    "    'rec.sel.cvnloosepreselptp.numuid',\n",
    "    # Selection and PIDs\n",
    "    'rec.sel.contain.cosbakcell',\n",
    "    'rec.sel.remid.pid',\n",
    "    'rec.sel.scann.scpid',\n",
    "    # Time Slice\n",
    "    'rec.slc.ncontplanes',\n",
    "    'rec.slc.nhit',\n",
    "    # Reconstructed Tracks\n",
    "    'rec.trk.kalman.ntracks'\n",
    "]"
   ]
  },
  {
   "cell_type": "code",
   "execution_count": 9,
   "metadata": {},
   "outputs": [],
   "source": [
    "def load_dataset(n_events: int = 2_000_000) -> pd.DataFrame:\n",
    "    \"\"\"\n",
    "    Loads the first n events from the total data.\n",
    "\n",
    "    Args\n",
    "    ----\n",
    "    n_events: int\n",
    "        The number of events to load.\n",
    "\n",
    "    Returns\n",
    "    -------\n",
    "    pd.DataFrame\n",
    "        Pandas `DataFrame` object containing the loaded data.\n",
    "    \"\"\"\n",
    "    with h5py.File(DATA_FILE_DIR, 'r') as file:\n",
    "        df = pd.DataFrame(\n",
    "            data={key: file[key][:n_events] for key in file.keys()}\n",
    "        )\n",
    "\n",
    "    # Filter out the unwanted columns + rearrange the columns\n",
    "    return df[useful_vars]\n"
   ]
  },
  {
   "cell_type": "markdown",
   "metadata": {},
   "source": [
    "## 2. Data pre-processing"
   ]
  },
  {
   "cell_type": "code",
   "execution_count": 10,
   "metadata": {},
   "outputs": [],
   "source": [
    "def quality_cut_transform(df: pd.DataFrame) -> pd.DataFrame:\n",
    "    \"\"\"\\\n",
    "    Applies basic quality cuts to a Pandas `DataFrame`.\n",
    "\n",
    "    Args\n",
    "    ----\n",
    "    df: pd.DataFrame\n",
    "        The target Pandas `DataFrame` object.\n",
    "\n",
    "    Returns\n",
    "    -------\n",
    "    pd.DataFrame\n",
    "        Pandas `DataFrame` with the applied transfromation.\n",
    "    \"\"\"\n",
    "    df_copy = df.copy()\n",
    "\n",
    "    # Detector + data quality cuts\n",
    "    df_copy = df_copy[df_copy['numuQuality'] & df_copy['numuBasicQuality']]\n",
    "\n",
    "    config['Cuts'].extend(['numuQuality', 'numuBasicQuality'])\n",
    "\n",
    "    # Possibly redundant code to ensure positive energies\n",
    "    targets = [\n",
    "        'rec.energy.numu.hadclust.calE',\n",
    "        'rec.energy.numu.hadtrkE',\n",
    "        'rec.energy.numu.lstmmuon',\n",
    "        'rec.energy.numu.lstmnu',\n",
    "    ]\n",
    "\n",
    "    for target in targets:\n",
    "        df_copy = df_copy[df_copy[target] >= 0.]\n",
    "\n",
    "    return df_copy"
   ]
  },
  {
   "cell_type": "code",
   "execution_count": 11,
   "metadata": {},
   "outputs": [],
   "source": [
    "def pid_cut_transform(df: pd.DataFrame) -> pd.DataFrame:\n",
    "    \"\"\"\\\n",
    "    Applies PID cut to a Pandas `DataFrame`.\n",
    "\n",
    "    Args\n",
    "    ----\n",
    "    df: pd.DataFrame\n",
    "        The target Pandas `DataFrame` object.\n",
    "\n",
    "    Returns\n",
    "    -------\n",
    "    pd.DataFrame\n",
    "        Pandas `DataFrame` with the applied transfromation.\n",
    "    \"\"\"\n",
    "    df_copy = df[df['numu2020pid']].copy()\n",
    "\n",
    "    config['Cuts'].append('numu2020pid')\n",
    "\n",
    "    return df_copy"
   ]
  },
  {
   "cell_type": "code",
   "execution_count": 12,
   "metadata": {},
   "outputs": [],
   "source": [
    "def vaild_pid_transform(df: pd.DataFrame) -> pd.DataFrame:\n",
    "    \"\"\"\\\n",
    "    Ensures valid PID scores which fall between 0 and 1.\n",
    "\n",
    "    Args\n",
    "    ----\n",
    "    df: pd.DataFrame\n",
    "        The target Pandas `DataFrame` object.\n",
    "\n",
    "    Returns\n",
    "    -------\n",
    "    pd.DataFrame\n",
    "        Pandas `DataFrame` with the applied transfromation.\n",
    "    \"\"\"\n",
    "    df_copy = df.copy()\n",
    "\n",
    "    # The PID Scores must be between 0 and 1\n",
    "    target_cols = [\n",
    "        'rec.sel.cvnloosepreselptp.cosmicid',\n",
    "        'rec.sel.cvnloosepreselptp.ncid',\n",
    "        'rec.sel.cvnloosepreselptp.nueid',\n",
    "        'rec.sel.cvnloosepreselptp.numuid',\n",
    "        'rec.sel.remid.pid',\n",
    "        'rec.sel.scann.scpid'\n",
    "    ]\n",
    "\n",
    "    for col in target_cols:\n",
    "        df_copy[(df_copy[col] < 0) & (df_copy[col] > 1)] = 0.\n",
    "\n",
    "    return df_copy"
   ]
  },
  {
   "cell_type": "code",
   "execution_count": 13,
   "metadata": {},
   "outputs": [],
   "source": [
    "def background_cut_transform(df: pd.DataFrame) -> pd.DataFrame:\n",
    "    \"\"\"\\\n",
    "    Cuts out all background data using MC truth information.\n",
    "\n",
    "    (I.e. we are only left with signal events...)\n",
    "\n",
    "    Args\n",
    "    ----\n",
    "    df: pd.DataFrame\n",
    "        The target Pandas `DataFrame` object.\n",
    "\n",
    "    Returns\n",
    "    -------\n",
    "    pd.DataFrame\n",
    "        Pandas `DataFrame` with the applied transfromation.\n",
    "    \"\"\"\n",
    "    df_copy = df[df['isNuMuCC']].copy()\n",
    "\n",
    "    config['Cuts'].append('isNuMuCC')\n",
    "\n",
    "    return df_copy"
   ]
  },
  {
   "cell_type": "code",
   "execution_count": 14,
   "metadata": {},
   "outputs": [],
   "source": [
    "def high_energy_cut_transform(df: pd.DataFrame) -> pd.DataFrame:\n",
    "    \"\"\"\\\n",
    "    Cuts out all data with energies above 5 GeV.\n",
    "\n",
    "    (I.e. we are only left with signal events...)\n",
    "\n",
    "    Args\n",
    "    ----\n",
    "    df: pd.DataFrame\n",
    "        The target Pandas `DataFrame` object.\n",
    "\n",
    "    Returns\n",
    "    -------\n",
    "    pd.DataFrame\n",
    "        Pandas `DataFrame` with the applied transfromation.\n",
    "    \"\"\"\n",
    "    df_copy = df.copy()\n",
    "\n",
    "    targets = [\n",
    "        'trueEnu',\n",
    "        'rec.energy.numu.lstmmuon',\n",
    "        'rec.energy.numu.lstmnu'\n",
    "    ]\n",
    "\n",
    "    for target in targets:\n",
    "        df_copy = df_copy[df_copy[target] <= 5.]\n",
    "\n",
    "    return df_copy"
   ]
  },
  {
   "cell_type": "markdown",
   "metadata": {},
   "source": [
    "## 3. Run 1"
   ]
  },
  {
   "cell_type": "markdown",
   "metadata": {},
   "source": [
    "### 3.1 Data analysis and prep."
   ]
  },
  {
   "cell_type": "code",
   "execution_count": 15,
   "metadata": {},
   "outputs": [],
   "source": [
    "df = load_dataset()"
   ]
  },
  {
   "cell_type": "code",
   "execution_count": 16,
   "metadata": {},
   "outputs": [],
   "source": [
    "# Apply transforms...\n",
    "transforms = [\n",
    "    quality_cut_transform,\n",
    "    vaild_pid_transform,\n",
    "    pid_cut_transform,\n",
    "    background_cut_transform,\n",
    "    high_energy_cut_transform\n",
    "]\n",
    "\n",
    "for transform in transforms:\n",
    "    df = transform(df)\n",
    "    config['Transforms'].append(transform.__name__)\n",
    "\n",
    "# Rest the indices...\n",
    "df.reset_index(inplace=True, drop=True)"
   ]
  },
  {
   "cell_type": "code",
   "execution_count": 17,
   "metadata": {},
   "outputs": [],
   "source": [
    "# Remove the unecessary params.\n",
    "for column_name in useful_vars[:8]:\n",
    "    try:\n",
    "        df.drop(columns=column_name, inplace=True)\n",
    "    except KeyError:\n",
    "        pass"
   ]
  },
  {
   "cell_type": "code",
   "execution_count": 18,
   "metadata": {},
   "outputs": [],
   "source": [
    "# Seperate the LSTM Enu column for later comparison...\n",
    "# (Of course this cannot be used for training either!)\n",
    "df_lstmnu = df.pop('rec.energy.numu.lstmnu')"
   ]
  },
  {
   "cell_type": "code",
   "execution_count": 19,
   "metadata": {},
   "outputs": [],
   "source": [
    "# Dict of the param. names and their correlations, ordered by how strong their\n",
    "# correlation is with the true Enu value...\n",
    "var_corr_dict = dict(\n",
    "    sorted(\n",
    "        dict(df.corr()['trueEnu'][1:]).items(), \n",
    "        key=lambda x: np.abs(x[1]), \n",
    "        reverse=True\n",
    "    )\n",
    ")\n",
    "\n",
    "# var_corr_dict"
   ]
  },
  {
   "cell_type": "code",
   "execution_count": 20,
   "metadata": {},
   "outputs": [],
   "source": [
    "# Get top n params. which are the most correlated to true Enu\n",
    "N_PARAMS: int = 7\n",
    "strongly_corr_params = list(var_corr_dict.keys())[:N_PARAMS]"
   ]
  },
  {
   "cell_type": "markdown",
   "metadata": {},
   "source": [
    "### 3.2 Training/testing data"
   ]
  },
  {
   "cell_type": "code",
   "execution_count": 21,
   "metadata": {},
   "outputs": [],
   "source": [
    "df_temp = df.copy()\n",
    "\n",
    "df_y = df_temp.pop('trueEnu')\n",
    "df_x = df_temp.copy()\n",
    "\n",
    "config['XDataCols'].extend(df_x.columns)\n",
    "config['YDataCols'].append(df_y.name)\n",
    "\n",
    "del df_temp"
   ]
  },
  {
   "cell_type": "code",
   "execution_count": 22,
   "metadata": {},
   "outputs": [],
   "source": [
    "def tt_split(\n",
    "        df_x: pd.DataFrame,\n",
    "        df_y: pd.Series,\n",
    "        train_size: float = 0.8,\n",
    "        shuffle: bool = False,\n",
    "        random_state: int = 42\n",
    "    ) -> dict[str, pd.DataFrame | pd.Series]:\n",
    "    \"\"\"\\\n",
    "    \"\"\"\n",
    "    if shuffle:\n",
    "        ...\n",
    "    \n",
    "    train_index = int(len(df) * 0.8)\n",
    "\n",
    "    return {\n",
    "        'TrainX': df_x[:train_index], \n",
    "        'TrainY': df_y[:train_index], \n",
    "        'TestX': df_x[train_index:], \n",
    "        'TestY': df_y[train_index:]\n",
    "    }"
   ]
  },
  {
   "cell_type": "code",
   "execution_count": 23,
   "metadata": {},
   "outputs": [],
   "source": [
    "tt_data = tt_split(df_x, df_y)"
   ]
  },
  {
   "cell_type": "code",
   "execution_count": 24,
   "metadata": {},
   "outputs": [],
   "source": [
    "std_scaler = preprocessing.StandardScaler()\n",
    "tt_data['ScaledTrainX'] = std_scaler.fit_transform(tt_data['TrainX'])\n",
    "tt_data['ScaledTestX'] = std_scaler.transform(tt_data['TestX'])"
   ]
  },
  {
   "cell_type": "code",
   "execution_count": 25,
   "metadata": {},
   "outputs": [
    {
     "data": {
      "image/png": "[encoded data removed]",
      "text/plain": [
       "<Figure size 640x480 with 1 Axes>"
      ]
     },
     "metadata": {},
     "output_type": "display_data"
    }
   ],
   "source": [
    "fig, ax = custom_subplots()\n",
    "\n",
    "labelled_hist(ax=ax, data=df_y, bins=np.linspace(0, 5, 50), alpha=0.5, label='MC Truth')\n",
    "labelled_hist(ax=ax, data=df_lstmnu, bins=np.linspace(0, 5, 50), alpha=0.5, label='LSTM')\n",
    "\n",
    "ax.set_xlabel(r'$E_\\nu$');"
   ]
  },
  {
   "cell_type": "code",
   "execution_count": 26,
   "metadata": {},
   "outputs": [],
   "source": [
    "alpha = 0.\n",
    "\n",
    "weight_1 = 100.\n",
    "weight_2 = 100.\n",
    "\n",
    "lower_threshold = 1.5  # GeV\n",
    "upper_threshold = 2.5  # GeV\n",
    "\n",
    "\n",
    "def mse_and_msle(y_true, y_pred):\n",
    "    # y_true = tf.cast(y_true, tf.float32)\n",
    "    # y_pred = tf.cast(y_pred, tf.float32)\n",
    "\n",
    "    loss = (\n",
    "        keras.losses.mean_squared_error(y_true, y_pred)\n",
    "        + alpha * keras.losses.mean_squared_logarithmic_error(y_true, y_pred)\n",
    "    )\n",
    "\n",
    "    # loss = tf.where(y_true <= lower_threshold, loss * weight_1, loss)\n",
    "    # loss = tf.where(y_true >= upper_threshold, loss * weight_2, loss)\n",
    "\n",
    "    return loss"
   ]
  },
  {
   "cell_type": "code",
   "execution_count": 27,
   "metadata": {},
   "outputs": [],
   "source": [
    "model_config = {\n",
    "    'SequentialLayers': [\n",
    "        keras.layers.InputLayer(input_shape=(len(config['XDataCols']),)),\n",
    "        keras.layers.Dense(units=16, activation='relu'),\n",
    "        keras.layers.Dense(units=32, activation='relu'),\n",
    "        keras.layers.Dropout(0.4),\n",
    "        keras.layers.Dense(units=1, activation=keras.activations.linear)\n",
    "    ],\n",
    "    'Optimizer': keras.optimizers.Adam(learning_rate=1E-3),\n",
    "    'LossFunction': keras.losses.mean_squared_error\n",
    "}"
   ]
  },
  {
   "cell_type": "code",
   "execution_count": 28,
   "metadata": {},
   "outputs": [],
   "source": [
    "def init_model() -> keras.Sequential:\n",
    "    \"\"\"\\\n",
    "    \"\"\"\n",
    "    model = keras.Sequential(layers=model_config['SequentialLayers'])\n",
    "\n",
    "    model.compile(\n",
    "        optimizer=model_config['Optimizer'],\n",
    "        loss=model_config['LossFunction'],\n",
    "        metrics=[\n",
    "            keras.metrics.MeanSquaredError(),\n",
    "            keras.metrics.MeanAbsoluteError()\n",
    "        ],\n",
    "        weighted_metrics=[]\n",
    "    )\n",
    "\n",
    "    return model"
   ]
  },
  {
   "cell_type": "code",
   "execution_count": 29,
   "metadata": {},
   "outputs": [],
   "source": [
    "EPOCHS = 100\n",
    "\n",
    "early_stopping = keras.callbacks.EarlyStopping(\n",
    "    monitor='val_loss', \n",
    "    patience=10,\n",
    "    restore_best_weights=True\n",
    ")\n",
    "\n",
    "sample_weight = np.ones(shape=tt_data['TrainY'].shape)\n",
    "sample_weight[tt_data['TrainY'] <= 1.5] = 6.\n",
    "sample_weight[tt_data['TrainY'] >= 2.2] = 2."
   ]
  },
  {
   "cell_type": "code",
   "execution_count": 30,
   "metadata": {},
   "outputs": [
    {
     "name": "stdout",
     "output_type": "stream",
     "text": [
      "Model: \"sequential\"\n",
      "_________________________________________________________________\n",
      " Layer (type)                Output Shape              Param #   \n",
      "=================================================================\n",
      " dense (Dense)               (None, 16)                320       \n",
      "                                                                 \n",
      " dense_1 (Dense)             (None, 32)                544       \n",
      "                                                                 \n",
      " dropout (Dropout)           (None, 32)                0         \n",
      "                                                                 \n",
      " dense_2 (Dense)             (None, 1)                 33        \n",
      "                                                                 \n",
      "=================================================================\n",
      "Total params: 897\n",
      "Trainable params: 897\n",
      "Non-trainable params: 0\n",
      "_________________________________________________________________\n"
     ]
    }
   ],
   "source": [
    "model = init_model()\n",
    "model.summary()"
   ]
  },
  {
   "cell_type": "code",
   "execution_count": 31,
   "metadata": {},
   "outputs": [
    {
     "name": "stdout",
     "output_type": "stream",
     "text": [
      "Epoch 1/100\n",
      "5475/5475 [==============================] - 20s 4ms/step - loss: 10059.4570 - mean_squared_error: 5989.7852 - mean_absolute_error: 54.0343 - val_loss: 3743.7334 - val_mean_squared_error: 2023.0782 - val_mean_absolute_error: 28.5048\n",
      "Epoch 2/100\n",
      "5475/5475 [==============================] - 8s 2ms/step - loss: 5497.1396 - mean_squared_error: 3175.7402 - mean_absolute_error: 41.4947 - val_loss: 3526.0491 - val_mean_squared_error: 1899.0552 - val_mean_absolute_error: 27.2335\n",
      "Epoch 3/100\n",
      "5475/5475 [==============================] - 8s 2ms/step - loss: 5317.5688 - mean_squared_error: 3073.0735 - mean_absolute_error: 40.8171 - val_loss: 3331.8364 - val_mean_squared_error: 1750.7067 - val_mean_absolute_error: 26.9666\n",
      "Epoch 4/100\n",
      "5475/5475 [==============================] - 9s 2ms/step - loss: 5237.5913 - mean_squared_error: 3011.6936 - mean_absolute_error: 40.4152 - val_loss: 3317.9026 - val_mean_squared_error: 1770.0635 - val_mean_absolute_error: 26.5944\n",
      "Epoch 5/100\n",
      "5475/5475 [==============================] - 8s 2ms/step - loss: 5172.9033 - mean_squared_error: 2971.5300 - mean_absolute_error: 40.0575 - val_loss: 3268.8623 - val_mean_squared_error: 1738.8339 - val_mean_absolute_error: 26.6435\n",
      "Epoch 6/100\n",
      "5475/5475 [==============================] - 8s 2ms/step - loss: 5109.7222 - mean_squared_error: 2926.7334 - mean_absolute_error: 39.7141 - val_loss: 3348.0271 - val_mean_squared_error: 1794.2490 - val_mean_absolute_error: 26.3509\n",
      "Epoch 7/100\n",
      "5475/5475 [==============================] - 8s 2ms/step - loss: 5004.4507 - mean_squared_error: 2877.9189 - mean_absolute_error: 39.3296 - val_loss: 3254.3926 - val_mean_squared_error: 1729.3055 - val_mean_absolute_error: 26.0958\n",
      "Epoch 8/100\n",
      "5475/5475 [==============================] - 8s 2ms/step - loss: 4950.3584 - mean_squared_error: 2835.3674 - mean_absolute_error: 39.0070 - val_loss: 3147.2231 - val_mean_squared_error: 1682.4891 - val_mean_absolute_error: 26.2447\n",
      "Epoch 9/100\n",
      "5475/5475 [==============================] - 9s 2ms/step - loss: 4796.2871 - mean_squared_error: 2749.4114 - mean_absolute_error: 38.4772 - val_loss: 3043.3708 - val_mean_squared_error: 1626.8497 - val_mean_absolute_error: 26.0088\n",
      "Epoch 10/100\n",
      "5475/5475 [==============================] - 9s 2ms/step - loss: 4732.2456 - mean_squared_error: 2706.7893 - mean_absolute_error: 38.1095 - val_loss: 3024.3491 - val_mean_squared_error: 1630.8199 - val_mean_absolute_error: 25.6450\n",
      "Epoch 11/100\n",
      "5475/5475 [==============================] - 9s 2ms/step - loss: 4683.6846 - mean_squared_error: 2676.6223 - mean_absolute_error: 37.8865 - val_loss: 3042.2864 - val_mean_squared_error: 1612.2694 - val_mean_absolute_error: 25.4338\n",
      "Epoch 12/100\n",
      "5475/5475 [==============================] - 9s 2ms/step - loss: 4609.3477 - mean_squared_error: 2631.8376 - mean_absolute_error: 37.3816 - val_loss: 2972.9705 - val_mean_squared_error: 1551.5212 - val_mean_absolute_error: 24.9999\n",
      "Epoch 13/100\n",
      "5475/5475 [==============================] - 9s 2ms/step - loss: 4518.6245 - mean_squared_error: 2580.8022 - mean_absolute_error: 37.0411 - val_loss: 2943.7603 - val_mean_squared_error: 1559.8917 - val_mean_absolute_error: 24.9336\n",
      "Epoch 14/100\n",
      "5475/5475 [==============================] - 9s 2ms/step - loss: 4395.2148 - mean_squared_error: 2503.7134 - mean_absolute_error: 36.5242 - val_loss: 2841.2427 - val_mean_squared_error: 1500.6940 - val_mean_absolute_error: 24.6257\n",
      "Epoch 15/100\n",
      "5475/5475 [==============================] - 9s 2ms/step - loss: 4270.5039 - mean_squared_error: 2432.6165 - mean_absolute_error: 35.8807 - val_loss: 2959.4514 - val_mean_squared_error: 1586.9680 - val_mean_absolute_error: 25.0966\n",
      "Epoch 16/100\n",
      "5475/5475 [==============================] - 9s 2ms/step - loss: 4266.0293 - mean_squared_error: 2429.9922 - mean_absolute_error: 35.6078 - val_loss: 2794.7874 - val_mean_squared_error: 1485.9287 - val_mean_absolute_error: 24.7215\n",
      "Epoch 17/100\n",
      "5475/5475 [==============================] - 9s 2ms/step - loss: 4166.9736 - mean_squared_error: 2361.7642 - mean_absolute_error: 35.1879 - val_loss: 2863.1145 - val_mean_squared_error: 1536.7740 - val_mean_absolute_error: 24.6454\n",
      "Epoch 18/100\n",
      "5475/5475 [==============================] - 9s 2ms/step - loss: 4108.8618 - mean_squared_error: 2335.6980 - mean_absolute_error: 35.0218 - val_loss: 2685.9163 - val_mean_squared_error: 1442.3461 - val_mean_absolute_error: 24.9153\n",
      "Epoch 19/100\n",
      "5475/5475 [==============================] - 9s 2ms/step - loss: 4073.0508 - mean_squared_error: 2305.1094 - mean_absolute_error: 34.6865 - val_loss: 2725.6094 - val_mean_squared_error: 1466.5828 - val_mean_absolute_error: 24.3481\n",
      "Epoch 20/100\n",
      "5475/5475 [==============================] - 9s 2ms/step - loss: 4001.4211 - mean_squared_error: 2275.7385 - mean_absolute_error: 34.3614 - val_loss: 2665.0046 - val_mean_squared_error: 1419.8193 - val_mean_absolute_error: 24.2108\n",
      "Epoch 21/100\n",
      "5475/5475 [==============================] - 13s 2ms/step - loss: 3965.4119 - mean_squared_error: 2248.3135 - mean_absolute_error: 34.1116 - val_loss: 2720.5720 - val_mean_squared_error: 1440.2646 - val_mean_absolute_error: 24.4612\n",
      "Epoch 22/100\n",
      "5475/5475 [==============================] - 13s 2ms/step - loss: 3910.4407 - mean_squared_error: 2215.3931 - mean_absolute_error: 33.9301 - val_loss: 2672.4822 - val_mean_squared_error: 1438.8970 - val_mean_absolute_error: 24.3447\n",
      "Epoch 23/100\n",
      "5475/5475 [==============================] - 13s 2ms/step - loss: 3835.6626 - mean_squared_error: 2177.5417 - mean_absolute_error: 33.5576 - val_loss: 2655.8892 - val_mean_squared_error: 1426.7085 - val_mean_absolute_error: 24.2919\n",
      "Epoch 24/100\n",
      "5475/5475 [==============================] - 13s 2ms/step - loss: 3820.1030 - mean_squared_error: 2164.7959 - mean_absolute_error: 33.2896 - val_loss: 2694.4121 - val_mean_squared_error: 1443.7310 - val_mean_absolute_error: 24.0803\n",
      "Epoch 25/100\n",
      "5475/5475 [==============================] - 13s 2ms/step - loss: 3770.2969 - mean_squared_error: 2133.0105 - mean_absolute_error: 33.0789 - val_loss: 2758.4731 - val_mean_squared_error: 1489.5024 - val_mean_absolute_error: 24.3663\n",
      "Epoch 26/100\n",
      "5475/5475 [==============================] - 13s 2ms/step - loss: 3732.0911 - mean_squared_error: 2106.4336 - mean_absolute_error: 32.8707 - val_loss: 2695.3645 - val_mean_squared_error: 1436.5320 - val_mean_absolute_error: 24.0285\n",
      "Epoch 27/100\n",
      "5475/5475 [==============================] - 13s 2ms/step - loss: 3687.2512 - mean_squared_error: 2075.5940 - mean_absolute_error: 32.5037 - val_loss: 2602.8037 - val_mean_squared_error: 1399.3768 - val_mean_absolute_error: 24.0157\n",
      "Epoch 28/100\n",
      "5475/5475 [==============================] - 12s 2ms/step - loss: 3674.2109 - mean_squared_error: 2069.0061 - mean_absolute_error: 32.3697 - val_loss: 2670.6326 - val_mean_squared_error: 1421.4688 - val_mean_absolute_error: 23.8044\n",
      "Epoch 29/100\n",
      "5475/5475 [==============================] - 13s 2ms/step - loss: 3641.8372 - mean_squared_error: 2045.2092 - mean_absolute_error: 32.1561 - val_loss: 2603.0876 - val_mean_squared_error: 1403.7847 - val_mean_absolute_error: 24.3735\n",
      "Epoch 30/100\n",
      "5475/5475 [==============================] - 13s 2ms/step - loss: 3572.1140 - mean_squared_error: 2003.7677 - mean_absolute_error: 31.8053 - val_loss: 2622.2664 - val_mean_squared_error: 1402.3071 - val_mean_absolute_error: 24.1324\n",
      "Epoch 31/100\n",
      "5475/5475 [==============================] - 13s 2ms/step - loss: 3546.7214 - mean_squared_error: 1995.9397 - mean_absolute_error: 31.6561 - val_loss: 2631.3225 - val_mean_squared_error: 1405.1176 - val_mean_absolute_error: 23.8686\n",
      "Epoch 32/100\n",
      "5475/5475 [==============================] - 14s 2ms/step - loss: 3495.6692 - mean_squared_error: 1964.6400 - mean_absolute_error: 31.4199 - val_loss: 2644.8457 - val_mean_squared_error: 1413.7778 - val_mean_absolute_error: 23.6996\n",
      "Epoch 33/100\n",
      "5475/5475 [==============================] - 8s 1ms/step - loss: 3467.4385 - mean_squared_error: 1947.5376 - mean_absolute_error: 31.1821 - val_loss: 2608.4868 - val_mean_squared_error: 1407.8459 - val_mean_absolute_error: 24.3039\n",
      "Epoch 34/100\n",
      "5475/5475 [==============================] - 7s 1ms/step - loss: 3455.6851 - mean_squared_error: 1932.9199 - mean_absolute_error: 30.9841 - val_loss: 2614.6428 - val_mean_squared_error: 1401.1493 - val_mean_absolute_error: 23.8132\n",
      "Epoch 35/100\n",
      "5475/5475 [==============================] - 9s 2ms/step - loss: 3402.8962 - mean_squared_error: 1912.0071 - mean_absolute_error: 30.7557 - val_loss: 2593.5837 - val_mean_squared_error: 1383.5138 - val_mean_absolute_error: 23.6644\n",
      "Epoch 36/100\n",
      "5475/5475 [==============================] - 8s 2ms/step - loss: 3393.6682 - mean_squared_error: 1898.9286 - mean_absolute_error: 30.6008 - val_loss: 2607.2356 - val_mean_squared_error: 1393.2617 - val_mean_absolute_error: 23.5278\n",
      "Epoch 37/100\n",
      "5475/5475 [==============================] - 9s 2ms/step - loss: 3342.1997 - mean_squared_error: 1868.5947 - mean_absolute_error: 30.3245 - val_loss: 2595.6763 - val_mean_squared_error: 1388.7914 - val_mean_absolute_error: 23.7569\n",
      "Epoch 38/100\n",
      "5475/5475 [==============================] - 9s 2ms/step - loss: 3308.0125 - mean_squared_error: 1850.7600 - mean_absolute_error: 30.1460 - val_loss: 2579.3608 - val_mean_squared_error: 1403.3369 - val_mean_absolute_error: 23.7592\n",
      "Epoch 39/100\n",
      "5475/5475 [==============================] - 9s 2ms/step - loss: 3279.4521 - mean_squared_error: 1829.1410 - mean_absolute_error: 29.9190 - val_loss: 2541.2334 - val_mean_squared_error: 1356.8748 - val_mean_absolute_error: 23.5812\n",
      "Epoch 40/100\n",
      "5475/5475 [==============================] - 9s 2ms/step - loss: 3268.1335 - mean_squared_error: 1822.1252 - mean_absolute_error: 29.7894 - val_loss: 2553.7656 - val_mean_squared_error: 1362.6595 - val_mean_absolute_error: 23.7598\n",
      "Epoch 41/100\n",
      "5475/5475 [==============================] - 8s 2ms/step - loss: 3216.0925 - mean_squared_error: 1801.3854 - mean_absolute_error: 29.5830 - val_loss: 2539.0557 - val_mean_squared_error: 1373.6121 - val_mean_absolute_error: 23.6133\n",
      "Epoch 42/100\n",
      "5475/5475 [==============================] - 8s 2ms/step - loss: 3209.9954 - mean_squared_error: 1788.2024 - mean_absolute_error: 29.4242 - val_loss: 2558.5344 - val_mean_squared_error: 1363.4677 - val_mean_absolute_error: 23.4953\n",
      "Epoch 43/100\n",
      "5475/5475 [==============================] - 8s 2ms/step - loss: 3168.5386 - mean_squared_error: 1765.9703 - mean_absolute_error: 29.2343 - val_loss: 2513.9829 - val_mean_squared_error: 1343.8959 - val_mean_absolute_error: 23.6660\n",
      "Epoch 44/100\n",
      "5475/5475 [==============================] - 8s 2ms/step - loss: 3136.6992 - mean_squared_error: 1742.6133 - mean_absolute_error: 28.9989 - val_loss: 2543.6516 - val_mean_squared_error: 1352.0682 - val_mean_absolute_error: 23.6639\n",
      "Epoch 45/100\n",
      "5475/5475 [==============================] - 10s 2ms/step - loss: 3127.3948 - mean_squared_error: 1737.5540 - mean_absolute_error: 28.8975 - val_loss: 2544.4519 - val_mean_squared_error: 1357.9392 - val_mean_absolute_error: 23.7244\n",
      "Epoch 46/100\n",
      "5475/5475 [==============================] - 12s 2ms/step - loss: 3088.1680 - mean_squared_error: 1714.3728 - mean_absolute_error: 28.7306 - val_loss: 2509.6143 - val_mean_squared_error: 1348.5156 - val_mean_absolute_error: 23.8329\n",
      "Epoch 47/100\n",
      "5475/5475 [==============================] - 12s 2ms/step - loss: 3049.9287 - mean_squared_error: 1689.2925 - mean_absolute_error: 28.5186 - val_loss: 2571.4199 - val_mean_squared_error: 1391.9684 - val_mean_absolute_error: 23.5577\n",
      "Epoch 48/100\n",
      "5475/5475 [==============================] - 12s 2ms/step - loss: 3010.7671 - mean_squared_error: 1666.7379 - mean_absolute_error: 28.3307 - val_loss: 2498.5247 - val_mean_squared_error: 1362.9719 - val_mean_absolute_error: 23.9374\n",
      "Epoch 49/100\n",
      "5475/5475 [==============================] - 15s 3ms/step - loss: 2975.7927 - mean_squared_error: 1646.7579 - mean_absolute_error: 28.1515 - val_loss: 2558.7471 - val_mean_squared_error: 1375.8812 - val_mean_absolute_error: 23.7576\n",
      "Epoch 50/100\n",
      "5475/5475 [==============================] - 13s 2ms/step - loss: 2942.9617 - mean_squared_error: 1626.1438 - mean_absolute_error: 27.9324 - val_loss: 2502.8621 - val_mean_squared_error: 1354.1094 - val_mean_absolute_error: 23.3353\n",
      "Epoch 51/100\n",
      "5475/5475 [==============================] - 11s 2ms/step - loss: 2931.7385 - mean_squared_error: 1615.4142 - mean_absolute_error: 27.7826 - val_loss: 2517.6489 - val_mean_squared_error: 1357.5026 - val_mean_absolute_error: 23.4284\n",
      "Epoch 52/100\n",
      "5475/5475 [==============================] - 9s 2ms/step - loss: 2900.2158 - mean_squared_error: 1597.6581 - mean_absolute_error: 27.6018 - val_loss: 2473.8477 - val_mean_squared_error: 1317.5913 - val_mean_absolute_error: 23.1041\n",
      "Epoch 53/100\n",
      "5475/5475 [==============================] - 9s 2ms/step - loss: 2888.9646 - mean_squared_error: 1589.8754 - mean_absolute_error: 27.4737 - val_loss: 2458.5032 - val_mean_squared_error: 1309.5876 - val_mean_absolute_error: 23.1839\n",
      "Epoch 54/100\n",
      "5475/5475 [==============================] - 9s 2ms/step - loss: 2878.5564 - mean_squared_error: 1582.1548 - mean_absolute_error: 27.3619 - val_loss: 2422.3052 - val_mean_squared_error: 1306.9360 - val_mean_absolute_error: 23.4344\n",
      "Epoch 55/100\n",
      "5475/5475 [==============================] - 9s 2ms/step - loss: 2847.0144 - mean_squared_error: 1563.0331 - mean_absolute_error: 27.1911 - val_loss: 2550.2437 - val_mean_squared_error: 1372.3313 - val_mean_absolute_error: 23.3462\n",
      "Epoch 56/100\n",
      "5475/5475 [==============================] - 9s 2ms/step - loss: 2838.5117 - mean_squared_error: 1557.0059 - mean_absolute_error: 27.1026 - val_loss: 2442.5637 - val_mean_squared_error: 1310.8204 - val_mean_absolute_error: 23.3460\n",
      "Epoch 57/100\n",
      "5475/5475 [==============================] - 9s 2ms/step - loss: 2816.0850 - mean_squared_error: 1543.6731 - mean_absolute_error: 26.9345 - val_loss: 2449.2178 - val_mean_squared_error: 1307.0435 - val_mean_absolute_error: 23.3056\n",
      "Epoch 58/100\n",
      "5475/5475 [==============================] - 9s 2ms/step - loss: 2801.6455 - mean_squared_error: 1530.3253 - mean_absolute_error: 26.7706 - val_loss: 2481.1814 - val_mean_squared_error: 1323.9653 - val_mean_absolute_error: 23.5714\n",
      "Epoch 59/100\n",
      "5475/5475 [==============================] - 9s 2ms/step - loss: 2792.0435 - mean_squared_error: 1523.9508 - mean_absolute_error: 26.6935 - val_loss: 2452.8928 - val_mean_squared_error: 1330.5352 - val_mean_absolute_error: 23.8533\n",
      "Epoch 60/100\n",
      "5475/5475 [==============================] - 11s 2ms/step - loss: 2778.1802 - mean_squared_error: 1513.6854 - mean_absolute_error: 26.5925 - val_loss: 2429.6389 - val_mean_squared_error: 1304.6917 - val_mean_absolute_error: 23.3850\n",
      "Epoch 61/100\n",
      "5475/5475 [==============================] - 17s 3ms/step - loss: 2758.5979 - mean_squared_error: 1504.1069 - mean_absolute_error: 26.5037 - val_loss: 2450.3101 - val_mean_squared_error: 1326.5995 - val_mean_absolute_error: 23.6393\n",
      "Epoch 62/100\n",
      "5475/5475 [==============================] - 19s 3ms/step - loss: 2745.8794 - mean_squared_error: 1494.1593 - mean_absolute_error: 26.3770 - val_loss: 2441.4690 - val_mean_squared_error: 1302.6425 - val_mean_absolute_error: 23.0137\n",
      "Epoch 63/100\n",
      "5475/5475 [==============================] - 14s 2ms/step - loss: 2725.6423 - mean_squared_error: 1481.9553 - mean_absolute_error: 26.2517 - val_loss: 2439.2363 - val_mean_squared_error: 1309.0934 - val_mean_absolute_error: 23.4545\n",
      "Epoch 64/100\n",
      "5475/5475 [==============================] - 14s 3ms/step - loss: 2725.3901 - mean_squared_error: 1476.7917 - mean_absolute_error: 26.2175 - val_loss: 2403.2747 - val_mean_squared_error: 1277.6697 - val_mean_absolute_error: 23.3191\n",
      "Epoch 65/100\n",
      "5475/5475 [==============================] - 17s 3ms/step - loss: 2707.6636 - mean_squared_error: 1466.5952 - mean_absolute_error: 26.0680 - val_loss: 2443.1096 - val_mean_squared_error: 1310.6630 - val_mean_absolute_error: 23.1882\n",
      "Epoch 66/100\n",
      "5475/5475 [==============================] - 15s 3ms/step - loss: 2697.4658 - mean_squared_error: 1460.5148 - mean_absolute_error: 25.9291 - val_loss: 2491.6228 - val_mean_squared_error: 1339.8663 - val_mean_absolute_error: 23.1870\n",
      "Epoch 67/100\n",
      "5475/5475 [==============================] - 13s 2ms/step - loss: 2701.1892 - mean_squared_error: 1460.5841 - mean_absolute_error: 25.9324 - val_loss: 2404.4075 - val_mean_squared_error: 1292.7053 - val_mean_absolute_error: 23.4294\n",
      "Epoch 68/100\n",
      "5475/5475 [==============================] - 13s 2ms/step - loss: 2686.7612 - mean_squared_error: 1453.3735 - mean_absolute_error: 25.8929 - val_loss: 2457.7502 - val_mean_squared_error: 1309.4094 - val_mean_absolute_error: 23.1955\n",
      "Epoch 69/100\n",
      "5475/5475 [==============================] - 15s 3ms/step - loss: 2685.4529 - mean_squared_error: 1451.4635 - mean_absolute_error: 25.8035 - val_loss: 2415.2251 - val_mean_squared_error: 1276.2378 - val_mean_absolute_error: 22.8732\n",
      "Epoch 70/100\n",
      "5475/5475 [==============================] - 14s 3ms/step - loss: 2673.2144 - mean_squared_error: 1439.1168 - mean_absolute_error: 25.6651 - val_loss: 2446.7815 - val_mean_squared_error: 1285.5529 - val_mean_absolute_error: 23.1883\n",
      "Epoch 71/100\n",
      "5475/5475 [==============================] - 13s 2ms/step - loss: 2668.0007 - mean_squared_error: 1434.4221 - mean_absolute_error: 25.6083 - val_loss: 2408.1938 - val_mean_squared_error: 1269.5297 - val_mean_absolute_error: 22.9173\n",
      "Epoch 72/100\n",
      "5475/5475 [==============================] - 13s 2ms/step - loss: 2651.4443 - mean_squared_error: 1427.5643 - mean_absolute_error: 25.5568 - val_loss: 2408.7100 - val_mean_squared_error: 1282.8868 - val_mean_absolute_error: 23.3954\n",
      "Epoch 73/100\n",
      "5475/5475 [==============================] - 15s 3ms/step - loss: 2632.8843 - mean_squared_error: 1414.6588 - mean_absolute_error: 25.4177 - val_loss: 2399.9329 - val_mean_squared_error: 1282.5824 - val_mean_absolute_error: 23.2591\n",
      "Epoch 74/100\n",
      "5475/5475 [==============================] - 14s 3ms/step - loss: 2631.1445 - mean_squared_error: 1415.2676 - mean_absolute_error: 25.3976 - val_loss: 2477.7446 - val_mean_squared_error: 1314.2621 - val_mean_absolute_error: 23.3092\n",
      "Epoch 75/100\n",
      "5475/5475 [==============================] - 14s 2ms/step - loss: 2637.3914 - mean_squared_error: 1412.6752 - mean_absolute_error: 25.3917 - val_loss: 2415.6304 - val_mean_squared_error: 1294.6595 - val_mean_absolute_error: 23.6578\n",
      "Epoch 76/100\n",
      "5475/5475 [==============================] - 14s 2ms/step - loss: 2632.3889 - mean_squared_error: 1406.5980 - mean_absolute_error: 25.3212 - val_loss: 2456.8501 - val_mean_squared_error: 1318.2513 - val_mean_absolute_error: 23.0544\n",
      "Epoch 77/100\n",
      "5475/5475 [==============================] - 14s 3ms/step - loss: 2622.8125 - mean_squared_error: 1401.6429 - mean_absolute_error: 25.2266 - val_loss: 2389.4988 - val_mean_squared_error: 1261.0237 - val_mean_absolute_error: 23.0381\n",
      "Epoch 78/100\n",
      "5475/5475 [==============================] - 14s 2ms/step - loss: 2626.8843 - mean_squared_error: 1401.5471 - mean_absolute_error: 25.2118 - val_loss: 2388.9558 - val_mean_squared_error: 1280.8651 - val_mean_absolute_error: 23.0883\n",
      "Epoch 79/100\n",
      "5475/5475 [==============================] - 13s 2ms/step - loss: 2617.0981 - mean_squared_error: 1397.4015 - mean_absolute_error: 25.1735 - val_loss: 2416.9800 - val_mean_squared_error: 1277.0574 - val_mean_absolute_error: 22.9232\n",
      "Epoch 80/100\n",
      "5475/5475 [==============================] - 13s 2ms/step - loss: 2602.7856 - mean_squared_error: 1388.3610 - mean_absolute_error: 25.0753 - val_loss: 2411.1941 - val_mean_squared_error: 1284.4469 - val_mean_absolute_error: 23.3236\n",
      "Epoch 81/100\n",
      "5475/5475 [==============================] - 14s 3ms/step - loss: 2595.2683 - mean_squared_error: 1382.8478 - mean_absolute_error: 25.0566 - val_loss: 2408.9897 - val_mean_squared_error: 1274.1179 - val_mean_absolute_error: 22.8609\n",
      "Epoch 82/100\n",
      "5475/5475 [==============================] - 13s 2ms/step - loss: 2594.0984 - mean_squared_error: 1382.8586 - mean_absolute_error: 25.0130 - val_loss: 2415.9207 - val_mean_squared_error: 1288.7615 - val_mean_absolute_error: 23.2455\n",
      "Epoch 83/100\n",
      "5475/5475 [==============================] - 14s 3ms/step - loss: 2608.3059 - mean_squared_error: 1385.7684 - mean_absolute_error: 24.9963 - val_loss: 2414.4202 - val_mean_squared_error: 1265.4785 - val_mean_absolute_error: 23.0388\n",
      "Epoch 84/100\n",
      "5475/5475 [==============================] - 14s 3ms/step - loss: 2595.3501 - mean_squared_error: 1377.7987 - mean_absolute_error: 24.9482 - val_loss: 2444.2515 - val_mean_squared_error: 1302.6006 - val_mean_absolute_error: 23.0487\n",
      "Epoch 85/100\n",
      "5475/5475 [==============================] - 14s 3ms/step - loss: 2590.9456 - mean_squared_error: 1376.2748 - mean_absolute_error: 24.9559 - val_loss: 2401.8955 - val_mean_squared_error: 1269.4305 - val_mean_absolute_error: 23.2112\n",
      "Epoch 86/100\n",
      "5475/5475 [==============================] - 14s 3ms/step - loss: 2578.9309 - mean_squared_error: 1367.0216 - mean_absolute_error: 24.8343 - val_loss: 2468.9741 - val_mean_squared_error: 1336.7589 - val_mean_absolute_error: 23.3475\n",
      "Epoch 87/100\n",
      "5475/5475 [==============================] - 13s 2ms/step - loss: 2580.1116 - mean_squared_error: 1370.2256 - mean_absolute_error: 24.8464 - val_loss: 2401.6309 - val_mean_squared_error: 1282.8276 - val_mean_absolute_error: 23.3388\n",
      "Epoch 88/100\n",
      "5475/5475 [==============================] - 14s 3ms/step - loss: 2584.0945 - mean_squared_error: 1367.9172 - mean_absolute_error: 24.8316 - val_loss: 2389.2114 - val_mean_squared_error: 1276.3123 - val_mean_absolute_error: 23.7264\n"
     ]
    }
   ],
   "source": [
    "model_history = model.fit(\n",
    "    x=tt_data['ScaledTrainX'], \n",
    "    y=tt_data['TrainY'] * 100,\n",
    "    validation_split=0.2,\n",
    "    epochs=EPOCHS,\n",
    "    shuffle=True,\n",
    "    sample_weight=sample_weight,\n",
    "    callbacks=[\n",
    "        early_stopping\n",
    "    ]\n",
    ")"
   ]
  },
  {
   "cell_type": "code",
   "execution_count": 32,
   "metadata": {},
   "outputs": [
    {
     "name": "stdout",
     "output_type": "stream",
     "text": [
      "LabBook | 19-01-2024 00:33 | Logged.\n"
     ]
    }
   ],
   "source": [
    "comments = \"\"\"\\\n",
    "My first ever working(-ish) model! :D\n",
    "-------------------------------------\n",
    "\n",
    "Optimizer: Adam(learning rate = 1E-3)\n",
    "Loss: MSE\n",
    "\n",
    "Epochs: 100\n",
    "Callbacks: EarlyStopping(patience = 10)\n",
    "\n",
    "I am using sample weights that I initialised like so:\n",
    "```\n",
    "sample_weight = np.ones(shape=tt_data['TrainY'].shape)\n",
    "sample_weight[tt_data['TrainY'] <= 1.5] = 6.\n",
    "sample_weight[tt_data['TrainY'] >= 2.2] = 2.\n",
    "```\n",
    "\"\"\"\n",
    "\n",
    "generate_log(\n",
    "    comments=comments,\n",
    "    config_dict=config,\n",
    "    train_history=model_history,\n",
    "    model=model,\n",
    "    lb_dir='../../labbook/'\n",
    ")"
   ]
  },
  {
   "cell_type": "markdown",
   "metadata": {},
   "source": [
    "#### TESTING..."
   ]
  },
  {
   "cell_type": "code",
   "execution_count": null,
   "metadata": {},
   "outputs": [],
   "source": [
    "fig, axs = plt.subplots(1, 3, figsize=(7, 3))\n",
    "\n",
    "axs = axs.flatten()\n",
    "\n",
    "actual_epochs = range(1, len(model_history.history['loss']) + 1)\n",
    "\n",
    "axs[0].plot(actual_epochs, model_history.history['loss'], '.-')\n",
    "axs[0].plot(actual_epochs, model_history.history['val_loss'], '.-')\n",
    "axs[0].set_ylabel('Loss')\n",
    "\n",
    "axs[1].plot(actual_epochs, model_history.history['mean_squared_error'], '.-')\n",
    "axs[1].plot(actual_epochs, model_history.history['val_mean_squared_error'], '.-')\n",
    "axs[1].set_ylabel('MSE')\n",
    "\n",
    "axs[2].plot(actual_epochs, model_history.history['mean_absolute_error'], '.-')\n",
    "axs[2].plot(actual_epochs, model_history.history['val_mean_absolute_error'], '.-')\n",
    "axs[2].set_ylabel('MAE (GeV)')\n",
    "\n",
    "for ax in axs:\n",
    "    ax.set_xticks([])\n",
    "\n",
    "fig.text(0.5, -0.02, 'Epochs', ha='center')\n",
    "\n",
    "fig.legend(loc='upper center', bbox_to_anchor=(0.5, -0.05), ncol=2, labels=['Model', 'Validation'])\n",
    "\n",
    "fig.suptitle(f'Training history over {len(actual_epochs)} epochs (Training was set to {EPOCHS} epochs)')\n",
    "\n",
    "plt.tight_layout()"
   ]
  },
  {
   "cell_type": "code",
   "execution_count": null,
   "metadata": {},
   "outputs": [],
   "source": [
    "model_pred = model.predict(tt_data['ScaledTestX'])"
   ]
  },
  {
   "cell_type": "code",
   "execution_count": null,
   "metadata": {},
   "outputs": [],
   "source": [
    "fig, ax = custom_subplots()\n",
    "\n",
    "bins_conf = np.linspace(0, 5, 50 + 1)\n",
    "\n",
    "labelled_hist(ax, tt_data['TestY'], bins=bins_conf, alpha=0.6, label='Actual')\n",
    "labelled_hist(ax, model_pred / 100, bins=bins_conf, alpha=0.6, label='Prediction')\n",
    "\n",
    "ax.set_title(r'$\\nu$ Energies')\n",
    "\n",
    "ax.set_xlabel(r'Energy (GeV)')\n",
    "ax.set_ylabel(r'Events');"
   ]
  },
  {
   "cell_type": "code",
   "execution_count": null,
   "metadata": {},
   "outputs": [],
   "source": [
    "_i = 0\n",
    "\n",
    "_a = tt_data['TestY'].tolist()\n",
    "_b = (model_pred / 100).flatten()\n",
    "\n",
    "plt.plot(_b - np.array(_a), '.', alpha=0.1)"
   ]
  },
  {
   "cell_type": "code",
   "execution_count": null,
   "metadata": {},
   "outputs": [],
   "source": [
    "df_2 = load_dataset(n_events=6_000_000)"
   ]
  },
  {
   "cell_type": "code",
   "execution_count": null,
   "metadata": {},
   "outputs": [],
   "source": [
    "df_2 = df_2[\n",
    "    df_2['numuBasicQuality']\n",
    "    & df_2['numuQuality']\n",
    "    & df_2['numu2020pid']\n",
    "    & df_2['numucosrej']\n",
    "    & df_2['3flavourveto']\n",
    "    & (df_2['trueEnu'] < 5) \n",
    "    & (df_2['trueEnu'] > 0)\n",
    "    & (df_2['rec.energy.numu.lstmnu'] > 0)\n",
    "    & (df_2['rec.energy.numu.lstmnu'] < 5)\n",
    "].drop(columns=df_2.columns[:8])"
   ]
  },
  {
   "cell_type": "code",
   "execution_count": null,
   "metadata": {},
   "outputs": [],
   "source": [
    "df_2_trueEnu = df_2.pop('trueEnu')\n",
    "df_2_lstmnu = df_2.pop('rec.energy.numu.lstmnu')"
   ]
  },
  {
   "cell_type": "code",
   "execution_count": null,
   "metadata": {},
   "outputs": [],
   "source": [
    "df_2_pred = model.predict(std_scaler.transform(df_2))"
   ]
  },
  {
   "cell_type": "code",
   "execution_count": null,
   "metadata": {},
   "outputs": [],
   "source": [
    "fig, ax = custom_subplots()\n",
    "\n",
    "bins_conf = np.linspace(0, 5, 50 + 1)\n",
    "\n",
    "labelled_hist(ax, df_2_trueEnu, bins=bins_conf, alpha=0.6, label='MC Truth')\n",
    "# labelled_hist(ax, df_2_lstmnu, bins=bins_conf, alpha=0.6, label='LSTM Prediction')\n",
    "labelled_hist(ax, df_2_pred / 100, bins=bins_conf, alpha=0.6, label='ANN Prediction')\n",
    "\n",
    "# ax.set_title(r'$\\nu_\\mu$ Energies')\n",
    "\n",
    "ax.set_xlim(0, 5)\n",
    "\n",
    "ax.set_xlabel(r'Energy (GeV)')\n",
    "ax.set_ylabel(r'Events')\n",
    "\n",
    "plt.tight_layout();"
   ]
  },
  {
   "cell_type": "code",
   "execution_count": null,
   "metadata": {},
   "outputs": [],
   "source": [
    "np.std((df_2_trueEnu - df_2_pred.flatten() / 100) / df_2_trueEnu)"
   ]
  },
  {
   "cell_type": "code",
   "execution_count": null,
   "metadata": {},
   "outputs": [],
   "source": [
    "np.std((df_2_trueEnu - df_2_lstmnu) / df_2_trueEnu)"
   ]
  },
  {
   "cell_type": "code",
   "execution_count": null,
   "metadata": {},
   "outputs": [],
   "source": [
    "fig, ax = custom_subplots()\n",
    "\n",
    "ax.hist([1000, 10000, 10000])\n",
    "ax.hist((df_2_trueEnu - df_2_pred.flatten() / 100) / df_2_trueEnu, bins=np.linspace(-1, 1, 50), alpha=0.6, label='My ANN model')\n",
    "ax.hist((df_2_trueEnu - df_2_lstmnu) / df_2_trueEnu, bins=np.linspace(-1, 1, 50), alpha=0.6, label='NOvA LSTM model')\n",
    "\n",
    "ax.set_xlim(-1, 1)\n",
    "\n",
    "ax.set_yticks([])\n",
    "ax.set_xlabel('Energy resolution (%)')\n",
    "\n",
    "ax.legend()\n",
    "\n",
    "plt.tight_layout();"
   ]
  },
  {
   "cell_type": "code",
   "execution_count": null,
   "metadata": {},
   "outputs": [],
   "source": []
  }
 ],
 "metadata": {
  "kernelspec": {
   "display_name": ".venv",
   "language": "python",
   "name": "python3"
  },
  "language_info": {
   "codemirror_mode": {
    "name": "ipython",
    "version": 3
   },
   "file_extension": ".py",
   "mimetype": "text/x-python",
   "name": "python",
   "nbconvert_exporter": "python",
   "pygments_lexer": "ipython3",
   "version": "3.10.11"
  }
 },
 "nbformat": 4,
 "nbformat_minor": 2
}
