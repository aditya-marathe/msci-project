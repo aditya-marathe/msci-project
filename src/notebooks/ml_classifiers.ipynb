{
 "cells": [
  {
   "cell_type": "markdown",
   "metadata": {},
   "source": [
    "# ML Classifiers"
   ]
  },
  {
   "cell_type": "markdown",
   "metadata": {},
   "source": [
    "## Imports"
   ]
  },
  {
   "cell_type": "code",
   "execution_count": 2,
   "metadata": {},
   "outputs": [],
   "source": [
    "%matplotlib inline\n",
    "\n",
    "import sys\n",
    "\n",
    "import numpy as np\n",
    "\n",
    "import pandas as pd\n",
    "\n",
    "import sklearn as skl\n",
    "from sklearn.preprocessing import StandardScaler\n",
    "from sklearn.ensemble import GradientBoostingClassifier\n",
    "from sklearn.ensemble import RandomForestClassifier\n",
    "from sklearn.ensemble import AdaBoostClassifier\n",
    "from sklearn.ensemble import BaggingClassifier\n",
    "\n",
    "from sklearn.neighbors import KNeighborsClassifier\n",
    "\n",
    "# Metrics\n",
    "\n",
    "from sklearn.metrics import accuracy_score\n",
    "from sklearn.metrics import confusion_matrix\n",
    "from sklearn.metrics import precision_score\n",
    "from sklearn.metrics import recall_score\n",
    "from sklearn.metrics import ConfusionMatrixDisplay\n",
    "\n",
    "# Tuning\n",
    "\n",
    "from sklearn.model_selection import GridSearchCV\n",
    "from sklearn.model_selection import RandomizedSearchCV\n",
    "\n",
    "import matplotlib.pyplot as plt"
   ]
  },
  {
   "cell_type": "markdown",
   "metadata": {},
   "source": [
    "**Local:**"
   ]
  },
  {
   "cell_type": "code",
   "execution_count": 3,
   "metadata": {},
   "outputs": [],
   "source": [
    "sys.path.insert(1, './../')\n",
    "\n",
    "import ana\n",
    "import plotting\n",
    "import labbook"
   ]
  },
  {
   "cell_type": "markdown",
   "metadata": {},
   "source": [
    "**Version:**"
   ]
  },
  {
   "cell_type": "code",
   "execution_count": 4,
   "metadata": {},
   "outputs": [
    {
     "name": "stdout",
     "output_type": "stream",
     "text": [
      "Python 3.10.11 (tags/v3.10.11:7d4cc5a, Apr  5 2023, 00:38:17) [MSC v.1929 64 bit (AMD64)]\n",
      "\n",
      "NumPy 1.26.4\n",
      "Sci-kit Learn 1.4.0\n"
     ]
    }
   ],
   "source": [
    "print(f'Python {sys.version}\\n')\n",
    "print(f'NumPy {np.__version__}')\n",
    "print(f'Sci-kit Learn {skl.__version__}')"
   ]
  },
  {
   "cell_type": "markdown",
   "metadata": {},
   "source": [
    "## Configuration"
   ]
  },
  {
   "cell_type": "code",
   "execution_count": 5,
   "metadata": {},
   "outputs": [],
   "source": [
    "config = {\n",
    "    'Cuts': [\n",
    "        'Detector Quality',\n",
    "        'Data Quality',\n",
    "        'Cosmic Rej.',\n",
    "        'Veto',\n",
    "        'CVN PID Score',\n",
    "        'Not Containment'\n",
    "    ],\n",
    "    'Transforms': [\n",
    "        'tf_290124_positive_energies',\n",
    "        'tf_290124_valid_pid',\n",
    "        'tf_280224_encode_event_type',\n",
    "        'tf_280224_class_balance'\n",
    "    ],\n",
    "    'TestingTransforms': [\n",
    "        'tf_290124_positive_energies',\n",
    "        'tf_290124_valid_pid',\n",
    "        'tf_120224_first_prong',\n",
    "        'tf_280224_encode_event_type'\n",
    "    ],\n",
    "    'XDataCols': [\n",
    "        # Loose pre-selection IDs\n",
    "        'rec.sel.cvnloosepreselptp.cosmicid',\n",
    "        'rec.sel.cvnloosepreselptp.ncid',\n",
    "        'rec.sel.cvnloosepreselptp.numuid',\n",
    "        # REM and SCP IDs\n",
    "        'rec.sel.remid.pid',\n",
    "        'rec.sel.scann.scpid',\n",
    "        # Muon energies\n",
    "        'rec.energy.numu.lstmmuon'\n",
    "    ],\n",
    "    'YDataCols': [\n",
    "        'ana.cat.event_type'\n",
    "    ]\n",
    "}"
   ]
  },
  {
   "cell_type": "markdown",
   "metadata": {},
   "source": [
    "## Loading training dataset"
   ]
  },
  {
   "cell_type": "code",
   "execution_count": 6,
   "metadata": {},
   "outputs": [
    {
     "name": "stdout",
     "output_type": "stream",
     "text": [
      "Datasets | Found the following: MINI_DATA_DIR, DATA_V2_DIR, DATA_V3_DIR, REALLY_MINI_DIR, COPYMERGED_C8_DIR, COPYMERGED_C9_DIR, COPYMERGED_C10_DIR, COPYMERGED_C11_DIR, COPYMERGED_C13_DIR, COPYMERGED_C15_DIR, COPYMERGED_C16_DIR, COPYMERGED_C17_DIR, COPYMERGED_C19_DIR, COPYMERGED_C20_DIR, COPYMERGED_C21_DIR, COPYMERGED_C22_DIR\n"
     ]
    }
   ],
   "source": [
    "ds = ana.Datasets()"
   ]
  },
  {
   "cell_type": "code",
   "execution_count": 7,
   "metadata": {},
   "outputs": [
    {
     "name": "stdout",
     "output_type": "stream",
     "text": [
      "NOvAData | Loading tables from copymerged HDF5 files...\n",
      "NOvAData | Loaded table from copymerged HDF5 files (1 / 7).\n",
      "NOvAData | Loaded table from copymerged HDF5 files (2 / 7).\n",
      "NOvAData | Loaded table from copymerged HDF5 files (3 / 7).\n",
      "NOvAData | Loaded table from copymerged HDF5 files (4 / 7).\n",
      "NOvAData | Loaded table from copymerged HDF5 files (5 / 7).\n",
      "NOvAData | Loaded table from copymerged HDF5 files (6 / 7).\n",
      "NOvAData | Loaded table from copymerged HDF5 files (7 / 7).\n",
      "NOvAData | Initialised NOvAData(features=54, events=1_094_528).\n"
     ]
    }
   ],
   "source": [
    "data = ana.NOvAData.init_from_copymerge_h5(\n",
    "    h5dirs=[\n",
    "        ds.COPYMERGED_C8_DIR,  # type: ignore\n",
    "        ds.COPYMERGED_C9_DIR,  # type: ignore\n",
    "        ds.COPYMERGED_C10_DIR,  # type: ignore\n",
    "        ds.COPYMERGED_C11_DIR,  # type: ignore\n",
    "        ds.COPYMERGED_C13_DIR,  # type: ignore\n",
    "        ds.COPYMERGED_C15_DIR,  # type: ignore\n",
    "        ds.COPYMERGED_C16_DIR  # type: ignore\n",
    "    ]\n",
    ")"
   ]
  },
  {
   "cell_type": "code",
   "execution_count": 8,
   "metadata": {},
   "outputs": [
    {
     "name": "stdout",
     "output_type": "stream",
     "text": [
      "NOvAData | Filled MC truth flags.\n",
      "NOvAData | Filled track kinematics.\n",
      "NOvAData | Filled categorical data.\n"
     ]
    }
   ],
   "source": [
    "data.fill_ana_flags(inplace=True)\n",
    "data.fill_ana_track_kinematics(inplace=True)\n",
    "data.fill_categorical(inplace=True)"
   ]
  },
  {
   "cell_type": "code",
   "execution_count": 9,
   "metadata": {},
   "outputs": [],
   "source": [
    "cuts = ana.Cuts.init_nova_cuts()"
   ]
  },
  {
   "cell_type": "code",
   "execution_count": 10,
   "metadata": {},
   "outputs": [
    {
     "name": "stdout",
     "output_type": "stream",
     "text": [
      "Cuts     | Applied 'Detector Quality' cut (1_094_528 -> 919_711 events).\n",
      "Cuts     | Applied 'Data Quality' cut (919_711 -> 919_688 events).\n",
      "Cuts     | Applied 'Cosmic Rej.' cut (919_688 -> 351_421 events).\n",
      "Cuts     | Applied 'Veto' cut (351_421 -> 313_034 events).\n",
      "Cuts     | Applied 'CVN PID Score' cut (313_034 -> 196_427 events).\n",
      "Cuts     | Applied 'Containment' cut (196_427 -> 105_055 events).\n"
     ]
    }
   ],
   "source": [
    "# Cuts\n",
    "data.table = cuts.apply_cuts(config['Cuts'][:-1], data.table)\n",
    "data.table = cuts.apply_cut('Containment', data.table, passed=False)\n"
   ]
  },
  {
   "cell_type": "code",
   "execution_count": 11,
   "metadata": {},
   "outputs": [
    {
     "name": "stdout",
     "output_type": "stream",
     "text": [
      "NOvAData | Applied a transform which cuts out the negative energies caused by issues with the reco. models.\n",
      "NOvAData | Applied a transform which ensures that the PID score is between 0 and 1.\n",
      "NOvAData | Applied a transform which encodes the event type as 1 for (A-)NuMu CC and 0 for background.\n",
      "NOvAData | Applied a transform which balances the number of events for each class.\n"
     ]
    }
   ],
   "source": [
    "# Transforms\n",
    "data.apply_transforms(config['Transforms'], inplace=True)"
   ]
  },
  {
   "cell_type": "code",
   "execution_count": 12,
   "metadata": {},
   "outputs": [
    {
     "data": {
      "text/html": [
       "<div>\n",
       "<style scoped>\n",
       "    .dataframe tbody tr th:only-of-type {\n",
       "        vertical-align: middle;\n",
       "    }\n",
       "\n",
       "    .dataframe tbody tr th {\n",
       "        vertical-align: top;\n",
       "    }\n",
       "\n",
       "    .dataframe thead th {\n",
       "        text-align: right;\n",
       "    }\n",
       "</style>\n",
       "<table border=\"1\" class=\"dataframe\">\n",
       "  <thead>\n",
       "    <tr style=\"text-align: right;\">\n",
       "      <th></th>\n",
       "      <th></th>\n",
       "      <th></th>\n",
       "      <th></th>\n",
       "      <th></th>\n",
       "      <th></th>\n",
       "      <th>rec.energy.numu.E</th>\n",
       "      <th>rec.energy.numu.calccE</th>\n",
       "      <th>rec.energy.numu.hadcalE</th>\n",
       "      <th>rec.energy.numu.hadtrkE</th>\n",
       "      <th>rec.energy.numu.lstmmuon</th>\n",
       "      <th>rec.energy.numu.lstmnu</th>\n",
       "      <th>rec.energy.numu.regcvnhadE</th>\n",
       "      <th>rec.energy.numu.trkccE</th>\n",
       "      <th>rec.energy.numu.recomuonE</th>\n",
       "      <th>rec.energy.numu.hadclust.calE</th>\n",
       "      <th>...</th>\n",
       "      <th>ana.mc.flag.isANuMuCC</th>\n",
       "      <th>ana.mc.flag.isNuECC</th>\n",
       "      <th>ana.mc.flag.isANuECC</th>\n",
       "      <th>ana.trk.kalman.tracks.cosBeam</th>\n",
       "      <th>ana.trk.kalman.tracks.PtToPmu</th>\n",
       "      <th>ana.trk.kalman.tracks.Pmu</th>\n",
       "      <th>ana.trk.kalman.tracks.Pt</th>\n",
       "      <th>ana.trk.kalman.tracks.Qsquared</th>\n",
       "      <th>ana.trk.kalman.tracks.W</th>\n",
       "      <th>ana.cat.event_type</th>\n",
       "    </tr>\n",
       "    <tr>\n",
       "      <th>run</th>\n",
       "      <th>subrun</th>\n",
       "      <th>cycle</th>\n",
       "      <th>batch</th>\n",
       "      <th>evt</th>\n",
       "      <th>subevt</th>\n",
       "      <th></th>\n",
       "      <th></th>\n",
       "      <th></th>\n",
       "      <th></th>\n",
       "      <th></th>\n",
       "      <th></th>\n",
       "      <th></th>\n",
       "      <th></th>\n",
       "      <th></th>\n",
       "      <th></th>\n",
       "      <th></th>\n",
       "      <th></th>\n",
       "      <th></th>\n",
       "      <th></th>\n",
       "      <th></th>\n",
       "      <th></th>\n",
       "      <th></th>\n",
       "      <th></th>\n",
       "      <th></th>\n",
       "      <th></th>\n",
       "      <th></th>\n",
       "    </tr>\n",
       "  </thead>\n",
       "  <tbody>\n",
       "    <tr>\n",
       "      <th rowspan=\"2\" valign=\"top\">14746</th>\n",
       "      <th rowspan=\"2\" valign=\"top\">41</th>\n",
       "      <th rowspan=\"2\" valign=\"top\">0</th>\n",
       "      <th rowspan=\"2\" valign=\"top\">0</th>\n",
       "      <th>173</th>\n",
       "      <th>1</th>\n",
       "      <td>0.822706</td>\n",
       "      <td>0.816658</td>\n",
       "      <td>0.004180</td>\n",
       "      <td>0.009910</td>\n",
       "      <td>0.787001</td>\n",
       "      <td>0.870839</td>\n",
       "      <td>0.074651</td>\n",
       "      <td>0.822706</td>\n",
       "      <td>0.783632</td>\n",
       "      <td>0.007440</td>\n",
       "      <td>...</td>\n",
       "      <td>False</td>\n",
       "      <td>False</td>\n",
       "      <td>False</td>\n",
       "      <td>[0.93944854]</td>\n",
       "      <td>[0.34269005]</td>\n",
       "      <td>0.779876</td>\n",
       "      <td>[0.2672558]</td>\n",
       "      <td>[0.083492205]</td>\n",
       "      <td>[0.9768258]</td>\n",
       "      <td>0</td>\n",
       "    </tr>\n",
       "    <tr>\n",
       "      <th>652</th>\n",
       "      <th>1</th>\n",
       "      <td>0.822706</td>\n",
       "      <td>0.816658</td>\n",
       "      <td>0.004180</td>\n",
       "      <td>0.009910</td>\n",
       "      <td>0.787001</td>\n",
       "      <td>0.870839</td>\n",
       "      <td>0.074651</td>\n",
       "      <td>0.822706</td>\n",
       "      <td>0.783632</td>\n",
       "      <td>0.007440</td>\n",
       "      <td>...</td>\n",
       "      <td>False</td>\n",
       "      <td>False</td>\n",
       "      <td>False</td>\n",
       "      <td>[0.93944854]</td>\n",
       "      <td>[0.34269005]</td>\n",
       "      <td>0.779876</td>\n",
       "      <td>[0.2672558]</td>\n",
       "      <td>[0.083492205]</td>\n",
       "      <td>[0.9768258]</td>\n",
       "      <td>0</td>\n",
       "    </tr>\n",
       "    <tr>\n",
       "      <th rowspan=\"2\" valign=\"top\">14750</th>\n",
       "      <th rowspan=\"2\" valign=\"top\">20</th>\n",
       "      <th rowspan=\"2\" valign=\"top\">0</th>\n",
       "      <th rowspan=\"2\" valign=\"top\">0</th>\n",
       "      <th>699</th>\n",
       "      <th>1</th>\n",
       "      <td>1.001116</td>\n",
       "      <td>1.070769</td>\n",
       "      <td>0.190039</td>\n",
       "      <td>0.024564</td>\n",
       "      <td>0.554846</td>\n",
       "      <td>0.997018</td>\n",
       "      <td>0.612823</td>\n",
       "      <td>1.001116</td>\n",
       "      <td>0.560385</td>\n",
       "      <td>0.338270</td>\n",
       "      <td>...</td>\n",
       "      <td>False</td>\n",
       "      <td>False</td>\n",
       "      <td>False</td>\n",
       "      <td>[0.9324372]</td>\n",
       "      <td>[0.3613321]</td>\n",
       "      <td>0.544693</td>\n",
       "      <td>[0.19681512]</td>\n",
       "      <td>[0.082464255]</td>\n",
       "      <td>[1.2757915]</td>\n",
       "      <td>0</td>\n",
       "    </tr>\n",
       "    <tr>\n",
       "      <th>793</th>\n",
       "      <th>2</th>\n",
       "      <td>2.867611</td>\n",
       "      <td>3.288869</td>\n",
       "      <td>0.728458</td>\n",
       "      <td>0.010688</td>\n",
       "      <td>2.563976</td>\n",
       "      <td>3.151421</td>\n",
       "      <td>0.924363</td>\n",
       "      <td>2.867611</td>\n",
       "      <td>1.465072</td>\n",
       "      <td>1.296655</td>\n",
       "      <td>...</td>\n",
       "      <td>False</td>\n",
       "      <td>False</td>\n",
       "      <td>False</td>\n",
       "      <td>[0.7390402, 0.28997177]</td>\n",
       "      <td>[0.6736613, 0.9570352]</td>\n",
       "      <td>2.561798</td>\n",
       "      <td>[1.7257842, 2.451731]</td>\n",
       "      <td>[4.2161794, 11.467112]</td>\n",
       "      <td>[nan, nan]</td>\n",
       "      <td>0</td>\n",
       "    </tr>\n",
       "    <tr>\n",
       "      <th>14754</th>\n",
       "      <th>16</th>\n",
       "      <th>0</th>\n",
       "      <th>0</th>\n",
       "      <th>461</th>\n",
       "      <th>2</th>\n",
       "      <td>1.859418</td>\n",
       "      <td>1.658546</td>\n",
       "      <td>0.022085</td>\n",
       "      <td>0.007007</td>\n",
       "      <td>1.886155</td>\n",
       "      <td>2.024810</td>\n",
       "      <td>0.094978</td>\n",
       "      <td>1.859418</td>\n",
       "      <td>1.790292</td>\n",
       "      <td>0.039311</td>\n",
       "      <td>...</td>\n",
       "      <td>False</td>\n",
       "      <td>False</td>\n",
       "      <td>False</td>\n",
       "      <td>[0.9914725]</td>\n",
       "      <td>[0.13031621]</td>\n",
       "      <td>1.883193</td>\n",
       "      <td>[0.2454106]</td>\n",
       "      <td>[0.065862425]</td>\n",
       "      <td>[1.0366701]</td>\n",
       "      <td>0</td>\n",
       "    </tr>\n",
       "  </tbody>\n",
       "</table>\n",
       "<p>5 rows × 71 columns</p>\n",
       "</div>"
      ],
      "text/plain": [
       "                                     rec.energy.numu.E  \\\n",
       "run   subrun cycle batch evt subevt                      \n",
       "14746 41     0     0     173 1                0.822706   \n",
       "                         652 1                0.822706   \n",
       "14750 20     0     0     699 1                1.001116   \n",
       "                         793 2                2.867611   \n",
       "14754 16     0     0     461 2                1.859418   \n",
       "\n",
       "                                     rec.energy.numu.calccE  \\\n",
       "run   subrun cycle batch evt subevt                           \n",
       "14746 41     0     0     173 1                     0.816658   \n",
       "                         652 1                     0.816658   \n",
       "14750 20     0     0     699 1                     1.070769   \n",
       "                         793 2                     3.288869   \n",
       "14754 16     0     0     461 2                     1.658546   \n",
       "\n",
       "                                     rec.energy.numu.hadcalE  \\\n",
       "run   subrun cycle batch evt subevt                            \n",
       "14746 41     0     0     173 1                      0.004180   \n",
       "                         652 1                      0.004180   \n",
       "14750 20     0     0     699 1                      0.190039   \n",
       "                         793 2                      0.728458   \n",
       "14754 16     0     0     461 2                      0.022085   \n",
       "\n",
       "                                     rec.energy.numu.hadtrkE  \\\n",
       "run   subrun cycle batch evt subevt                            \n",
       "14746 41     0     0     173 1                      0.009910   \n",
       "                         652 1                      0.009910   \n",
       "14750 20     0     0     699 1                      0.024564   \n",
       "                         793 2                      0.010688   \n",
       "14754 16     0     0     461 2                      0.007007   \n",
       "\n",
       "                                     rec.energy.numu.lstmmuon  \\\n",
       "run   subrun cycle batch evt subevt                             \n",
       "14746 41     0     0     173 1                       0.787001   \n",
       "                         652 1                       0.787001   \n",
       "14750 20     0     0     699 1                       0.554846   \n",
       "                         793 2                       2.563976   \n",
       "14754 16     0     0     461 2                       1.886155   \n",
       "\n",
       "                                     rec.energy.numu.lstmnu  \\\n",
       "run   subrun cycle batch evt subevt                           \n",
       "14746 41     0     0     173 1                     0.870839   \n",
       "                         652 1                     0.870839   \n",
       "14750 20     0     0     699 1                     0.997018   \n",
       "                         793 2                     3.151421   \n",
       "14754 16     0     0     461 2                     2.024810   \n",
       "\n",
       "                                     rec.energy.numu.regcvnhadE  \\\n",
       "run   subrun cycle batch evt subevt                               \n",
       "14746 41     0     0     173 1                         0.074651   \n",
       "                         652 1                         0.074651   \n",
       "14750 20     0     0     699 1                         0.612823   \n",
       "                         793 2                         0.924363   \n",
       "14754 16     0     0     461 2                         0.094978   \n",
       "\n",
       "                                     rec.energy.numu.trkccE  \\\n",
       "run   subrun cycle batch evt subevt                           \n",
       "14746 41     0     0     173 1                     0.822706   \n",
       "                         652 1                     0.822706   \n",
       "14750 20     0     0     699 1                     1.001116   \n",
       "                         793 2                     2.867611   \n",
       "14754 16     0     0     461 2                     1.859418   \n",
       "\n",
       "                                     rec.energy.numu.recomuonE  \\\n",
       "run   subrun cycle batch evt subevt                              \n",
       "14746 41     0     0     173 1                        0.783632   \n",
       "                         652 1                        0.783632   \n",
       "14750 20     0     0     699 1                        0.560385   \n",
       "                         793 2                        1.465072   \n",
       "14754 16     0     0     461 2                        1.790292   \n",
       "\n",
       "                                     rec.energy.numu.hadclust.calE  ...  \\\n",
       "run   subrun cycle batch evt subevt                                 ...   \n",
       "14746 41     0     0     173 1                            0.007440  ...   \n",
       "                         652 1                            0.007440  ...   \n",
       "14750 20     0     0     699 1                            0.338270  ...   \n",
       "                         793 2                            1.296655  ...   \n",
       "14754 16     0     0     461 2                            0.039311  ...   \n",
       "\n",
       "                                     ana.mc.flag.isANuMuCC  \\\n",
       "run   subrun cycle batch evt subevt                          \n",
       "14746 41     0     0     173 1                       False   \n",
       "                         652 1                       False   \n",
       "14750 20     0     0     699 1                       False   \n",
       "                         793 2                       False   \n",
       "14754 16     0     0     461 2                       False   \n",
       "\n",
       "                                     ana.mc.flag.isNuECC  \\\n",
       "run   subrun cycle batch evt subevt                        \n",
       "14746 41     0     0     173 1                     False   \n",
       "                         652 1                     False   \n",
       "14750 20     0     0     699 1                     False   \n",
       "                         793 2                     False   \n",
       "14754 16     0     0     461 2                     False   \n",
       "\n",
       "                                     ana.mc.flag.isANuECC  \\\n",
       "run   subrun cycle batch evt subevt                         \n",
       "14746 41     0     0     173 1                      False   \n",
       "                         652 1                      False   \n",
       "14750 20     0     0     699 1                      False   \n",
       "                         793 2                      False   \n",
       "14754 16     0     0     461 2                      False   \n",
       "\n",
       "                                     ana.trk.kalman.tracks.cosBeam  \\\n",
       "run   subrun cycle batch evt subevt                                  \n",
       "14746 41     0     0     173 1                        [0.93944854]   \n",
       "                         652 1                        [0.93944854]   \n",
       "14750 20     0     0     699 1                         [0.9324372]   \n",
       "                         793 2             [0.7390402, 0.28997177]   \n",
       "14754 16     0     0     461 2                         [0.9914725]   \n",
       "\n",
       "                                     ana.trk.kalman.tracks.PtToPmu  \\\n",
       "run   subrun cycle batch evt subevt                                  \n",
       "14746 41     0     0     173 1                        [0.34269005]   \n",
       "                         652 1                        [0.34269005]   \n",
       "14750 20     0     0     699 1                         [0.3613321]   \n",
       "                         793 2              [0.6736613, 0.9570352]   \n",
       "14754 16     0     0     461 2                        [0.13031621]   \n",
       "\n",
       "                                     ana.trk.kalman.tracks.Pmu  \\\n",
       "run   subrun cycle batch evt subevt                              \n",
       "14746 41     0     0     173 1                        0.779876   \n",
       "                         652 1                        0.779876   \n",
       "14750 20     0     0     699 1                        0.544693   \n",
       "                         793 2                        2.561798   \n",
       "14754 16     0     0     461 2                        1.883193   \n",
       "\n",
       "                                     ana.trk.kalman.tracks.Pt  \\\n",
       "run   subrun cycle batch evt subevt                             \n",
       "14746 41     0     0     173 1                    [0.2672558]   \n",
       "                         652 1                    [0.2672558]   \n",
       "14750 20     0     0     699 1                   [0.19681512]   \n",
       "                         793 2          [1.7257842, 2.451731]   \n",
       "14754 16     0     0     461 2                    [0.2454106]   \n",
       "\n",
       "                                     ana.trk.kalman.tracks.Qsquared  \\\n",
       "run   subrun cycle batch evt subevt                                   \n",
       "14746 41     0     0     173 1                        [0.083492205]   \n",
       "                         652 1                        [0.083492205]   \n",
       "14750 20     0     0     699 1                        [0.082464255]   \n",
       "                         793 2               [4.2161794, 11.467112]   \n",
       "14754 16     0     0     461 2                        [0.065862425]   \n",
       "\n",
       "                                     ana.trk.kalman.tracks.W  \\\n",
       "run   subrun cycle batch evt subevt                            \n",
       "14746 41     0     0     173 1                   [0.9768258]   \n",
       "                         652 1                   [0.9768258]   \n",
       "14750 20     0     0     699 1                   [1.2757915]   \n",
       "                         793 2                    [nan, nan]   \n",
       "14754 16     0     0     461 2                   [1.0366701]   \n",
       "\n",
       "                                     ana.cat.event_type  \n",
       "run   subrun cycle batch evt subevt                      \n",
       "14746 41     0     0     173 1                        0  \n",
       "                         652 1                        0  \n",
       "14750 20     0     0     699 1                        0  \n",
       "                         793 2                        0  \n",
       "14754 16     0     0     461 2                        0  \n",
       "\n",
       "[5 rows x 71 columns]"
      ]
     },
     "execution_count": 12,
     "metadata": {},
     "output_type": "execute_result"
    }
   ],
   "source": [
    "data.table.head()"
   ]
  },
  {
   "cell_type": "code",
   "execution_count": 13,
   "metadata": {},
   "outputs": [],
   "source": [
    "std_scaler = StandardScaler()\n",
    "\n",
    "scale_vars = [\n",
    "    'rec.energy.numu.lstmmuon'\n",
    "]"
   ]
  },
  {
   "cell_type": "code",
   "execution_count": 14,
   "metadata": {},
   "outputs": [],
   "source": [
    "tt_split = data.train_test_split(\n",
    "    x_cols=config['XDataCols'],\n",
    "    y_cols=config['YDataCols'],\n",
    "    test_size=0.3\n",
    ")\n",
    "\n",
    "tt_split['XTrain'].loc[:, scale_vars] = std_scaler.fit_transform(\n",
    "    tt_split['XTrain'][scale_vars]\n",
    ")\n",
    "tt_split['XTest'].loc[:, scale_vars] = std_scaler.transform(\n",
    "    tt_split['XTest'][scale_vars]\n",
    ")\n",
    "tt_split['YTrain'] = tt_split['YTrain'].to_numpy().flatten()\n",
    "tt_split['YTest'] = tt_split['YTest'].to_numpy().flatten()"
   ]
  },
  {
   "cell_type": "markdown",
   "metadata": {},
   "source": [
    "## Loading testing dataset"
   ]
  },
  {
   "cell_type": "code",
   "execution_count": 15,
   "metadata": {},
   "outputs": [
    {
     "name": "stdout",
     "output_type": "stream",
     "text": [
      "NOvAData | Loading tables from copymerged HDF5 files...\n",
      "NOvAData | Loaded table from copymerged HDF5 files (1 / 4).\n",
      "NOvAData | Loaded table from copymerged HDF5 files (2 / 4).\n",
      "NOvAData | Loaded table from copymerged HDF5 files (3 / 4).\n",
      "NOvAData | Loaded table from copymerged HDF5 files (4 / 4).\n",
      "NOvAData | Initialised NOvAData(features=54, events=671_350).\n"
     ]
    }
   ],
   "source": [
    "test_data = ana.NOvAData.init_from_copymerge_h5(\n",
    "    h5dirs=[\n",
    "        ds.COPYMERGED_C19_DIR,  # type: ignore\n",
    "        ds.COPYMERGED_C20_DIR,  # type: ignore\n",
    "        ds.COPYMERGED_C21_DIR,  # type: ignore\n",
    "        ds.COPYMERGED_C22_DIR  # type: ignore\n",
    "    ]\n",
    ")"
   ]
  },
  {
   "cell_type": "code",
   "execution_count": 16,
   "metadata": {},
   "outputs": [
    {
     "name": "stdout",
     "output_type": "stream",
     "text": [
      "NOvAData | Filled MC truth flags.\n",
      "NOvAData | Filled categorical data.\n",
      "NOvAData | Filled track kinematics.\n"
     ]
    }
   ],
   "source": [
    "test_data.fill_ana_flags(inplace=True)\n",
    "test_data.fill_categorical(inplace=True)\n",
    "test_data.fill_ana_track_kinematics(inplace=True)"
   ]
  },
  {
   "cell_type": "code",
   "execution_count": 17,
   "metadata": {},
   "outputs": [
    {
     "name": "stdout",
     "output_type": "stream",
     "text": [
      "NOvAData | Applied a transform which cuts out the negative energies caused by issues with the reco. models.\n",
      "NOvAData | Applied a transform which ensures that the PID score is between 0 and 1.\n",
      "NOvAData | Applied a transform which only keeps data for the first prong.\n",
      "NOvAData | Applied a transform which encodes the event type as 1 for (A-)NuMu CC and 0 for background.\n"
     ]
    }
   ],
   "source": [
    "test_data.apply_transforms(config['TestingTransforms'], inplace=True)"
   ]
  },
  {
   "cell_type": "code",
   "execution_count": 18,
   "metadata": {},
   "outputs": [
    {
     "name": "stdout",
     "output_type": "stream",
     "text": [
      "Cuts     | Applied 'Detector Quality' cut (275_579 -> 264_421 events).\n",
      "Cuts     | Applied 'Data Quality' cut (264_421 -> 264_421 events).\n",
      "Cuts     | Applied 'Cosmic Rej.' cut (264_421 -> 149_447 events).\n",
      "Cuts     | Applied 'Veto' cut (149_447 -> 141_050 events).\n",
      "Cuts     | Applied 'CVN PID Score' cut (141_050 -> 95_669 events).\n",
      "Cuts     | Applied 'Containment' cut (95_669 -> 47_822 events).\n"
     ]
    }
   ],
   "source": [
    "# Cuts\n",
    "fail_cont_table = cuts.apply_cuts(config['Cuts'][:-1], test_data.table)\n",
    "fail_cont_table = cuts.apply_cut('Containment', fail_cont_table, passed=False)"
   ]
  },
  {
   "cell_type": "code",
   "execution_count": 19,
   "metadata": {},
   "outputs": [
    {
     "name": "stdout",
     "output_type": "stream",
     "text": [
      "Cuts     | Applied 'Detector Quality' cut (275_579 -> 264_421 events).\n",
      "Cuts     | Applied 'Data Quality' cut (264_421 -> 264_421 events).\n",
      "Cuts     | Applied 'CVN PID Score' cut (264_421 -> 101_766 events).\n",
      "Cuts     | Applied 'Containment' cut (101_766 -> 48_577 events).\n",
      "Cuts     | Applied 'Cosmic Rej.' cut (48_577 -> 47_955 events).\n",
      "Cuts     | Applied 'Veto' cut (47_955 -> 47_847 events).\n"
     ]
    }
   ],
   "source": [
    "# Cuts\n",
    "full_cut_table = cuts.apply_all_cuts(test_data.table)"
   ]
  },
  {
   "cell_type": "code",
   "execution_count": 20,
   "metadata": {},
   "outputs": [],
   "source": [
    "x_test_data = fail_cont_table[config['XDataCols']]\n",
    "y_test_data = fail_cont_table[config['YDataCols']].to_numpy()"
   ]
  },
  {
   "cell_type": "code",
   "execution_count": 21,
   "metadata": {},
   "outputs": [
    {
     "name": "stderr",
     "output_type": "stream",
     "text": [
      "C:\\Users\\Shrey\\AppData\\Local\\Temp\\ipykernel_3148\\1053093416.py:1: SettingWithCopyWarning: \n",
      "A value is trying to be set on a copy of a slice from a DataFrame\n",
      "\n",
      "See the caveats in the documentation: https://pandas.pydata.org/pandas-docs/stable/user_guide/indexing.html#returning-a-view-versus-a-copy\n",
      "  x_test_data.loc[:, scale_vars] = std_scaler.transform(x_test_data[scale_vars])\n"
     ]
    }
   ],
   "source": [
    "x_test_data.loc[:, scale_vars] = std_scaler.transform(x_test_data[scale_vars])"
   ]
  },
  {
   "cell_type": "markdown",
   "metadata": {},
   "source": [
    "## Model"
   ]
  },
  {
   "cell_type": "code",
   "execution_count": 22,
   "metadata": {},
   "outputs": [],
   "source": [
    "bdt_params = {\n",
    "    'ccp_alpha': 0.0,\n",
    "    'criterion': 'friedman_mse',\n",
    "    'init': None,\n",
    "    'learning_rate': 0.1,\n",
    "    'loss': 'log_loss',\n",
    "    'max_depth': 3,\n",
    "    'max_features': None,\n",
    "    'max_leaf_nodes': None,\n",
    "    'min_impurity_decrease': 0.0,\n",
    "    'min_samples_leaf': 1,\n",
    "    'min_samples_split': 2,\n",
    "    'min_weight_fraction_leaf': 0.0,\n",
    "    'n_estimators': 100,\n",
    "    'n_iter_no_change': None,\n",
    "    'random_state': None,\n",
    "    'subsample': 1.0,\n",
    "    'tol': 0.0001,\n",
    "    'validation_fraction': 0.1,\n",
    "    'verbose': 0,\n",
    "    'warm_start': False\n",
    "}\n",
    "\n",
    "rf_params = {\n",
    "    'bootstrap': True,\n",
    "    'ccp_alpha': 0.0,\n",
    "    'class_weight': None,\n",
    "    'criterion': 'gini',\n",
    "    'max_depth': None,\n",
    "    'max_features': 'sqrt',\n",
    "    'max_leaf_nodes': None,\n",
    "    'max_samples': None,\n",
    "    'min_impurity_decrease': 0.0,\n",
    "    'min_samples_leaf': 1,\n",
    "    'min_samples_split': 2,\n",
    "    'min_weight_fraction_leaf': 0.0,\n",
    "    'monotonic_cst': None,\n",
    "    'n_estimators': 100,\n",
    "    'n_jobs': None,\n",
    "    'oob_score': False,\n",
    "    'random_state': None,\n",
    "    'verbose': 0,\n",
    "    'warm_start': False\n",
    "}\n",
    "\n",
    "ada_params = {\n",
    "    'algorithm': 'SAMME',\n",
    "    # 'estimator': None,\n",
    "    'learning_rate': 1E-3,\n",
    "    'n_estimators': 50,\n",
    "}\n"
   ]
  },
  {
   "cell_type": "code",
   "execution_count": 23,
   "metadata": {},
   "outputs": [],
   "source": [
    "# model = GradientBoostingClassifier(**bdt_params)\n",
    "# model = RandomForestClassifier(**rf_params)\n",
    "# model = AdaBoostClassifier(**ada_params)\n",
    "model = BaggingClassifier(\n",
    "    estimator=KNeighborsClassifier(n_neighbors=5),\n",
    "    n_estimators=10\n",
    ")"
   ]
  },
  {
   "cell_type": "code",
   "execution_count": 24,
   "metadata": {},
   "outputs": [],
   "source": [
    "model = model.fit(\n",
    "    X=tt_split['XTrain'].to_numpy(),\n",
    "    y=tt_split['YTrain']\n",
    ")"
   ]
  },
  {
   "cell_type": "code",
   "execution_count": 25,
   "metadata": {},
   "outputs": [],
   "source": [
    "bdt_param_distribution = {\n",
    "    'ccp_alpha': [0, 10, 20, 40, 80, 100],\n",
    "    'criterion': ['friedman_mse', 'squared_error'],\n",
    "    'learning_rate': [1E-4, 1E-3, 1E-2, 1E-1, 1.],\n",
    "    'loss': ['log_loss', 'exponential'],\n",
    "    'max_depth': [i for i in range(1, 510, 10)],\n",
    "    'max_features': ['sqrt', 'log2'] + [\n",
    "        i for i in range(1, len(config['XDataCols']) + 1, 1)\n",
    "    ],\n",
    "    'max_leaf_nodes': [None] + [i for i in range(50, 510, 10)],\n",
    "    'min_impurity_decrease': [\n",
    "        0.0, 0.1, 0.2, 0.3, 0.4, 0.5, 0.6, 0.7, 0.8, 0.9, 1.0\n",
    "    ],\n",
    "    'min_samples_leaf': [i for i in range(1, 210, 10)],\n",
    "    'min_samples_split': [i for i in range(2, 300, 100)],\n",
    "    'min_weight_fraction_leaf': [0, 0.1, 0.2, 0.3, 0.4, 0.5],\n",
    "    'n_estimators': [i for i in range(100, 1_000, 100)],\n",
    "    'subsample': [0.1, 0.2, 0.4, 0.8, 1.0]  # --> Reduces variance but increases bias...\n",
    "}\n",
    "\n",
    "rf_param_distribution = {\n",
    "    'class_weight': [None, 'balanced', 'balanced_subsample'],\n",
    "    'criterion': ['gini', 'entropy', 'log_loss'],\n",
    "    'max_depth': [None] + [i for i in range(1, 510, 10)],\n",
    "    'max_features': ['sqrt', 'log2'] + [\n",
    "        i for i in range(1, len(config['XDataCols']) + 1, 1)\n",
    "    ],\n",
    "    'max_leaf_nodes': [None] + [i for i in range(50, 510, 10)],\n",
    "    'min_impurity_decrease': [\n",
    "        0.0, 0.1, 0.2, 0.3, 0.4, 0.5, 0.6, 0.7, 0.8, 0.9, 1.0\n",
    "    ],\n",
    "    'min_samples_leaf': [i for i in range(1, 210, 10)],\n",
    "    'min_samples_split': [i for i in range(2, 300, 100)],\n",
    "    'n_estimators': [i for i in range(100, 1_000, 100)]\n",
    "}"
   ]
  },
  {
   "cell_type": "code",
   "execution_count": 26,
   "metadata": {},
   "outputs": [],
   "source": [
    "# random_search = RandomizedSearchCV(\n",
    "#     estimator=model,\n",
    "#     param_distributions=rf_param_distribution,\n",
    "#     n_iter=10,\n",
    "#     scoring='precision',\n",
    "#     n_jobs=-1,\n",
    "#     refit=True\n",
    "# )"
   ]
  },
  {
   "cell_type": "code",
   "execution_count": 27,
   "metadata": {},
   "outputs": [],
   "source": [
    "# rs_result = random_search.fit(\n",
    "#    X=tt_split['XTrain'].to_numpy(),\n",
    "#    y=tt_split['YTrain']\n",
    "#)"
   ]
  },
  {
   "cell_type": "code",
   "execution_count": 28,
   "metadata": {},
   "outputs": [],
   "source": [
    "# rs_result.best_score_"
   ]
  },
  {
   "cell_type": "code",
   "execution_count": 29,
   "metadata": {},
   "outputs": [],
   "source": [
    "# model = rs_result.best_estimator_\n",
    "# model"
   ]
  },
  {
   "cell_type": "markdown",
   "metadata": {},
   "source": [
    "## Analysis"
   ]
  },
  {
   "cell_type": "code",
   "execution_count": 30,
   "metadata": {},
   "outputs": [],
   "source": [
    "y_predicted = model.predict(x_test_data.to_numpy())"
   ]
  },
  {
   "cell_type": "code",
   "execution_count": 31,
   "metadata": {},
   "outputs": [],
   "source": [
    "ana_kwargs = {'y_true': y_test_data, 'y_pred': y_predicted}"
   ]
  },
  {
   "cell_type": "code",
   "execution_count": 32,
   "metadata": {},
   "outputs": [
    {
     "name": "stdout",
     "output_type": "stream",
     "text": [
      "Accuracy = 0.47674710384341934\n",
      "Precision = 0.9913093858632677\n",
      "Recall = 0.4725414798920779\n"
     ]
    },
    {
     "data": {
      "image/png": "[encoded data removed]",
      "text/plain": [
       "<Figure size 640x480 with 2 Axes>"
      ]
     },
     "metadata": {},
     "output_type": "display_data"
    }
   ],
   "source": [
    "acc = accuracy_score(**ana_kwargs)\n",
    "pre = precision_score(**ana_kwargs)\n",
    "rec = recall_score(**ana_kwargs)\n",
    "\n",
    "cm = confusion_matrix(**ana_kwargs)\n",
    "\n",
    "print('Accuracy =', acc)\n",
    "print('Precision =', pre)\n",
    "print('Recall =', rec)\n",
    "\n",
    "ConfusionMatrixDisplay(cm).plot();"
   ]
  },
  {
   "cell_type": "code",
   "execution_count": 33,
   "metadata": {},
   "outputs": [
    {
     "data": {
      "text/plain": [
       "0.8690614136732329"
      ]
     },
     "execution_count": 33,
     "metadata": {},
     "output_type": "execute_result"
    }
   ],
   "source": [
    "cm[0, 1] * 100 / (cm[1, 1] + cm[0, 1])"
   ]
  },
  {
   "cell_type": "code",
   "execution_count": 59,
   "metadata": {},
   "outputs": [],
   "source": [
    "pd_y_predicted = pd.Series(\n",
    "    y_predicted,\n",
    "    index=fail_cont_table.index\n",
    ")\n",
    "pd_y_test_data = pd.Series(\n",
    "    y_test_data.flatten(),\n",
    "    index=fail_cont_table.index\n",
    ")\n",
    "is_correct = pd.Series(\n",
    "    1 * (pd_y_predicted == pd_y_test_data),\n",
    "    index=fail_cont_table.index\n",
    ")"
   ]
  },
  {
   "cell_type": "code",
   "execution_count": 78,
   "metadata": {},
   "outputs": [],
   "source": [
    "column = 'rec.energy.numu.lstmnu'\n",
    "e_bins = np.linspace(0, 10, 100 + 1)\n",
    "accuracy_arr = []\n",
    "precision_arr = []\n",
    "cents = []\n",
    "\n",
    "for i in range(100):\n",
    "    bin_data = fail_cont_table[\n",
    "        (fail_cont_table[column] > e_bins[i])\n",
    "        & (fail_cont_table[column] <= e_bins[i + 1])\n",
    "    ]\n",
    "\n",
    "    bin_is_correct = is_correct[bin_data.index]\n",
    "\n",
    "    corr_count = len(bin_is_correct[bin_is_correct > 0])\n",
    "    wrng_count = len(bin_is_correct[bin_is_correct < 1])\n",
    "\n",
    "    if wrng_count:\n",
    "        accuracy_arr.append(corr_count / (corr_count + wrng_count))\n",
    "    else:\n",
    "        accuracy_arr.append(1.)\n",
    "\n",
    "    bin_y_predicted = pd_y_predicted[bin_data.index]\n",
    "    bin_y_test_data = pd_y_test_data[bin_data.index]\n",
    "\n",
    "    tp = len(bin_y_predicted[\n",
    "        (bin_y_predicted == 1) & (bin_y_test_data == 1)\n",
    "    ])\n",
    "    tp_fp = len(bin_y_predicted[bin_y_predicted == 1])\n",
    "\n",
    "    if tp_fp:\n",
    "        precision_arr.append(tp / tp_fp)\n",
    "    else:\n",
    "        precision_arr.append(1.)\n",
    "\n",
    "    cents.append((e_bins[i] + e_bins[i + 1]) / 2)\n",
    " "
   ]
  },
  {
   "cell_type": "code",
   "execution_count": 81,
   "metadata": {},
   "outputs": [
    {
     "data": {
      "image/png": "[encoded data removed]",
      "text/plain": [
       "<Figure size 640x480 with 1 Axes>"
      ]
     },
     "metadata": {},
     "output_type": "display_data"
    }
   ],
   "source": [
    "plt.minorticks_on() \n",
    "plt.grid(which='both', alpha=0.5)\n",
    "\n",
    "# plt.bar(\n",
    "#     cents, precision_arr,\n",
    "#     e_bins[1] - e_bins[0],\n",
    "#     edgecolor='purple', color='None'\n",
    "# )\n",
    "\n",
    "plt.plot(\n",
    "    cents,\n",
    "    precision_arr\n",
    ")\n",
    "\n",
    "plt.xlabel('Energy (GeV)')\n",
    "plt.ylabel('Precision');"
   ]
  },
  {
   "cell_type": "code",
   "execution_count": null,
   "metadata": {},
   "outputs": [],
   "source": [
    "try:\n",
    "    feature_importances = pd.Series(\n",
    "        model.feature_importances_,\n",
    "        index=config['XDataCols']\n",
    "    ).sort_values(ascending=False)\n",
    "    feature_importances.plot.bar()\n",
    "except AttributeError:\n",
    "    pass"
   ]
  },
  {
   "cell_type": "markdown",
   "metadata": {},
   "source": [
    "## Labbook"
   ]
  },
  {
   "cell_type": "code",
   "execution_count": null,
   "metadata": {},
   "outputs": [],
   "source": [
    "# labbook.LabBookApplication('./../../labbook').mainloop()"
   ]
  },
  {
   "cell_type": "code",
   "execution_count": null,
   "metadata": {},
   "outputs": [
    {
     "ename": "NameError",
     "evalue": "name 'rs_result' is not defined",
     "output_type": "error",
     "traceback": [
      "\u001b[1;31m---------------------------------------------------------------------------\u001b[0m",
      "\u001b[1;31mNameError\u001b[0m                                 Traceback (most recent call last)",
      "Cell \u001b[1;32mIn[352], line 11\u001b[0m\n\u001b[0;32m      1\u001b[0m comments \u001b[38;5;241m=\u001b[39m \u001b[38;5;124mf\u001b[39m\u001b[38;5;124m\"\"\"\u001b[39m\u001b[38;5;130;01m\\\u001b[39;00m\n\u001b[0;32m      2\u001b[0m \u001b[38;5;124mClassifier: Random Forest\u001b[39m\n\u001b[0;32m      3\u001b[0m \u001b[38;5;124m-------------------------\u001b[39m\n\u001b[0;32m      4\u001b[0m \n\u001b[0;32m      5\u001b[0m \u001b[38;5;124mNo class balancing was attempted.\u001b[39m\n\u001b[0;32m      6\u001b[0m \n\u001b[0;32m      7\u001b[0m \u001b[38;5;124mFound best hyperparameters using randomized grid search by maximising the \u001b[39m\u001b[38;5;130;01m\\\u001b[39;00m\n\u001b[0;32m      8\u001b[0m \u001b[38;5;124mprecision.\u001b[39m\n\u001b[0;32m      9\u001b[0m \n\u001b[0;32m     10\u001b[0m \u001b[38;5;124mThe best hyperparameters were:\u001b[39m\n\u001b[1;32m---> 11\u001b[0m \u001b[38;5;132;01m{\u001b[39;00m\u001b[43mrs_result\u001b[49m\u001b[38;5;241m.\u001b[39mbest_params_\u001b[38;5;132;01m}\u001b[39;00m\n\u001b[0;32m     12\u001b[0m \n\u001b[0;32m     13\u001b[0m \u001b[38;5;124mThe best score (precision) was: \u001b[39m\u001b[38;5;132;01m{\u001b[39;00mrs_result\u001b[38;5;241m.\u001b[39mbest_score_\u001b[38;5;132;01m}\u001b[39;00m\n\u001b[0;32m     14\u001b[0m \n\u001b[0;32m     15\u001b[0m \u001b[38;5;124mThe following variables were standardised:\u001b[39m\n\u001b[0;32m     16\u001b[0m \u001b[38;5;132;01m{\u001b[39;00mscale_vars\u001b[38;5;132;01m}\u001b[39;00m\n\u001b[0;32m     17\u001b[0m \u001b[38;5;124m\"\"\"\u001b[39m\n",
      "\u001b[1;31mNameError\u001b[0m: name 'rs_result' is not defined"
     ]
    }
   ],
   "source": [
    "comments = f\"\"\"\\\n",
    "Classifier: Random Forest\n",
    "-------------------------\n",
    "\n",
    "No class balancing was attempted.\n",
    "\n",
    "Found best hyperparameters using randomized grid search by maximising the \\\n",
    "precision.\n",
    "\n",
    "The best hyperparameters were:\n",
    "{rs_result.best_params_}\n",
    "\n",
    "The best score (precision) was: {rs_result.best_score_}\n",
    "\n",
    "The following variables were standardised:\n",
    "{scale_vars}\n",
    "\"\"\""
   ]
  },
  {
   "cell_type": "code",
   "execution_count": null,
   "metadata": {},
   "outputs": [],
   "source": [
    "# labbook.add_log_skl(\n",
    "#     comments=comments,\n",
    "#     config_dict=config,\n",
    "#     model=model,\n",
    "#     lb_dir='./../../labbook',\n",
    "#     serialise_objects={\n",
    "#         'StandardScaler': std_scaler,\n",
    "#         'ScaleVars': scale_vars\n",
    "#     }\n",
    "# )"
   ]
  },
  {
   "cell_type": "code",
   "execution_count": null,
   "metadata": {},
   "outputs": [],
   "source": []
  }
 ],
 "metadata": {
  "kernelspec": {
   "display_name": ".venv",
   "language": "python",
   "name": "python3"
  },
  "language_info": {
   "codemirror_mode": {
    "name": "ipython",
    "version": 3
   },
   "file_extension": ".py",
   "mimetype": "text/x-python",
   "name": "python",
   "nbconvert_exporter": "python",
   "pygments_lexer": "ipython3",
   "version": "3.10.11"
  }
 },
 "nbformat": 4,
 "nbformat_minor": 2
}
