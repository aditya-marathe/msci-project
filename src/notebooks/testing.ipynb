{
 "cells": [
  {
   "cell_type": "markdown",
   "metadata": {},
   "source": [
    "# Testing\n",
    "\n",
    "----\n",
    "\n",
    "Aditya Marathe"
   ]
  },
  {
   "cell_type": "markdown",
   "metadata": {},
   "source": [
    "## Imports"
   ]
  },
  {
   "cell_type": "code",
   "execution_count": 1,
   "metadata": {},
   "outputs": [],
   "source": [
    "%matplotlib inline\n",
    "\n",
    "import sys\n",
    "\n",
    "import numpy as np\n",
    "\n",
    "import pandas as pd\n",
    "\n",
    "from sklearn.preprocessing import StandardScaler\n",
    "\n",
    "import matplotlib.pyplot as plt"
   ]
  },
  {
   "cell_type": "markdown",
   "metadata": {},
   "source": [
    "**Local:**"
   ]
  },
  {
   "cell_type": "code",
   "execution_count": 3,
   "metadata": {},
   "outputs": [],
   "source": [
    "sys.path.insert(1, './../')\n",
    "\n",
    "import ana\n",
    "import plotting\n",
    "# import labbook"
   ]
  },
  {
   "cell_type": "markdown",
   "metadata": {},
   "source": [
    "**Version:**"
   ]
  },
  {
   "cell_type": "code",
   "execution_count": 4,
   "metadata": {},
   "outputs": [
    {
     "name": "stdout",
     "output_type": "stream",
     "text": [
      "Python 3.10.11 (tags/v3.10.11:7d4cc5a, Apr  5 2023, 00:38:17) [MSC v.1929 64 bit (AMD64)]\n",
      "\n",
      "NumPy 1.26.4\n"
     ]
    }
   ],
   "source": [
    "print(f'Python {sys.version}\\n')\n",
    "print(f'NumPy {np.__version__}')"
   ]
  },
  {
   "cell_type": "markdown",
   "metadata": {},
   "source": [
    "## Loading dataset"
   ]
  },
  {
   "cell_type": "code",
   "execution_count": 5,
   "metadata": {},
   "outputs": [
    {
     "name": "stdout",
     "output_type": "stream",
     "text": [
      "Datasets | Found the following: MINI_DATA_DIR, DATA_V2_DIR, DATA_V3_DIR, REALLY_MINI_DIR, COPYMERGED_C8_DIR, COPYMERGED_C9_DIR, COPYMERGED_C10_DIR, COPYMERGED_C11_DIR, COPYMERGED_C13_DIR, COPYMERGED_C15_DIR, COPYMERGED_C16_DIR, COPYMERGED_C17_DIR, COPYMERGED_C19_DIR, COPYMERGED_C20_DIR, COPYMERGED_C21_DIR, COPYMERGED_C22_DIR\n"
     ]
    }
   ],
   "source": [
    "ds = ana.Datasets()"
   ]
  },
  {
   "cell_type": "code",
   "execution_count": 6,
   "metadata": {},
   "outputs": [
    {
     "name": "stdout",
     "output_type": "stream",
     "text": [
      "NOvAData | Loading tables from copymerged HDF5 files...\n",
      "NOvAData | Loaded table from copymerged HDF5 files (1 / 2).\n",
      "NOvAData | Loaded table from copymerged HDF5 files (2 / 2).\n",
      "NOvAData | Initialised NOvAData(features=55, events=295_499).\n"
     ]
    }
   ],
   "source": [
    "data = ana.NOvAData.init_from_copymerge_h5(\n",
    "    h5dirs=[\n",
    "        ds.COPYMERGED_C8_DIR,  # type: ignore\n",
    "        ds.COPYMERGED_C9_DIR  # type: ignore\n",
    "    ]\n",
    ")"
   ]
  },
  {
   "cell_type": "code",
   "execution_count": 7,
   "metadata": {},
   "outputs": [
    {
     "name": "stdout",
     "output_type": "stream",
     "text": [
      "NOvAData | Filled MC truth flags.\n",
      "NOvAData | Filled categorical data.\n"
     ]
    }
   ],
   "source": [
    "data.fill_ana_flags(inplace=True)\n",
    "data.fill_categorical(inplace=True)"
   ]
  },
  {
   "cell_type": "code",
   "execution_count": 8,
   "metadata": {},
   "outputs": [],
   "source": [
    "cuts = ana.Cuts.init_nova_cuts()"
   ]
  },
  {
   "cell_type": "code",
   "execution_count": 9,
   "metadata": {},
   "outputs": [
    {
     "name": "stdout",
     "output_type": "stream",
     "text": [
      "Cuts     | Applied 'Detector Quality' cut (295_499 -> 246_840 events).\n",
      "Cuts     | Applied 'Data Quality' cut (246_840 -> 246_835 events).\n",
      "Cuts     | Applied 'CVN PID Score' cut (246_835 -> 55_620 events).\n",
      "Cuts     | Applied 'Cosmic Rej.' cut (55_620 -> 53_742 events).\n",
      "Cuts     | Applied 'Veto' cut (53_742 -> 51_079 events).\n"
     ]
    }
   ],
   "source": [
    "# Cuts\n",
    "data.table = cuts.apply_all_cuts(data.table, except_=['Containment'])"
   ]
  },
  {
   "cell_type": "code",
   "execution_count": 10,
   "metadata": {},
   "outputs": [
    {
     "name": "stdout",
     "output_type": "stream",
     "text": [
      "NOvAData | Applied a transform which encodes the event type as 1 for (A-)NuMu CC and 0 for background.\n"
     ]
    }
   ],
   "source": [
    "# Transforms\n",
    "data.apply_transforms(['tf_280224_encode_event_type'], inplace=True)"
   ]
  },
  {
   "cell_type": "code",
   "execution_count": 11,
   "metadata": {},
   "outputs": [
    {
     "data": {
      "text/html": [
       "<div>\n",
       "<style scoped>\n",
       "    .dataframe tbody tr th:only-of-type {\n",
       "        vertical-align: middle;\n",
       "    }\n",
       "\n",
       "    .dataframe tbody tr th {\n",
       "        vertical-align: top;\n",
       "    }\n",
       "\n",
       "    .dataframe thead th {\n",
       "        text-align: right;\n",
       "    }\n",
       "</style>\n",
       "<table border=\"1\" class=\"dataframe\">\n",
       "  <thead>\n",
       "    <tr style=\"text-align: right;\">\n",
       "      <th></th>\n",
       "      <th></th>\n",
       "      <th></th>\n",
       "      <th></th>\n",
       "      <th></th>\n",
       "      <th></th>\n",
       "      <th>rec.energy.numu.E</th>\n",
       "      <th>rec.energy.numu.calccE</th>\n",
       "      <th>rec.energy.numu.hadcalE</th>\n",
       "      <th>rec.energy.numu.hadtrkE</th>\n",
       "      <th>rec.energy.numu.lstmmuon</th>\n",
       "      <th>rec.energy.numu.lstmnu</th>\n",
       "      <th>rec.energy.numu.regcvnhadE</th>\n",
       "      <th>rec.energy.numu.trkccE</th>\n",
       "      <th>rec.energy.numu.recomuonE</th>\n",
       "      <th>rec.energy.numu.hadclust.calE</th>\n",
       "      <th>...</th>\n",
       "      <th>ana.mc.flag.isNC</th>\n",
       "      <th>ana.mc.flag.isNuMu</th>\n",
       "      <th>ana.mc.flag.isANuMu</th>\n",
       "      <th>ana.mc.flag.isNuE</th>\n",
       "      <th>ana.mc.flag.isANuE</th>\n",
       "      <th>ana.mc.flag.isNuMuCC</th>\n",
       "      <th>ana.mc.flag.isANuMuCC</th>\n",
       "      <th>ana.mc.flag.isNuECC</th>\n",
       "      <th>ana.mc.flag.isANuECC</th>\n",
       "      <th>ana.cat.event_type</th>\n",
       "    </tr>\n",
       "    <tr>\n",
       "      <th>run</th>\n",
       "      <th>subrun</th>\n",
       "      <th>cycle</th>\n",
       "      <th>batch</th>\n",
       "      <th>evt</th>\n",
       "      <th>subevt</th>\n",
       "      <th></th>\n",
       "      <th></th>\n",
       "      <th></th>\n",
       "      <th></th>\n",
       "      <th></th>\n",
       "      <th></th>\n",
       "      <th></th>\n",
       "      <th></th>\n",
       "      <th></th>\n",
       "      <th></th>\n",
       "      <th></th>\n",
       "      <th></th>\n",
       "      <th></th>\n",
       "      <th></th>\n",
       "      <th></th>\n",
       "      <th></th>\n",
       "      <th></th>\n",
       "      <th></th>\n",
       "      <th></th>\n",
       "      <th></th>\n",
       "      <th></th>\n",
       "    </tr>\n",
       "  </thead>\n",
       "  <tbody>\n",
       "    <tr>\n",
       "      <th rowspan=\"5\" valign=\"top\">14746</th>\n",
       "      <th rowspan=\"5\" valign=\"top\">27</th>\n",
       "      <th rowspan=\"5\" valign=\"top\">0</th>\n",
       "      <th rowspan=\"5\" valign=\"top\">0</th>\n",
       "      <th>1</th>\n",
       "      <th>1</th>\n",
       "      <td>4.073382</td>\n",
       "      <td>5.044105</td>\n",
       "      <td>0.157698</td>\n",
       "      <td>0.000000</td>\n",
       "      <td>3.999807</td>\n",
       "      <td>4.369726</td>\n",
       "      <td>0.051418</td>\n",
       "      <td>4.073382</td>\n",
       "      <td>3.746641</td>\n",
       "      <td>0.280702</td>\n",
       "      <td>...</td>\n",
       "      <td>False</td>\n",
       "      <td>True</td>\n",
       "      <td>False</td>\n",
       "      <td>False</td>\n",
       "      <td>False</td>\n",
       "      <td>True</td>\n",
       "      <td>False</td>\n",
       "      <td>False</td>\n",
       "      <td>False</td>\n",
       "      <td>1</td>\n",
       "    </tr>\n",
       "    <tr>\n",
       "      <th>12</th>\n",
       "      <th>1</th>\n",
       "      <td>1.552510</td>\n",
       "      <td>1.682602</td>\n",
       "      <td>0.201295</td>\n",
       "      <td>0.030959</td>\n",
       "      <td>1.087332</td>\n",
       "      <td>1.788674</td>\n",
       "      <td>0.486985</td>\n",
       "      <td>1.552510</td>\n",
       "      <td>1.076423</td>\n",
       "      <td>0.358304</td>\n",
       "      <td>...</td>\n",
       "      <td>False</td>\n",
       "      <td>True</td>\n",
       "      <td>False</td>\n",
       "      <td>False</td>\n",
       "      <td>False</td>\n",
       "      <td>True</td>\n",
       "      <td>False</td>\n",
       "      <td>False</td>\n",
       "      <td>False</td>\n",
       "      <td>1</td>\n",
       "    </tr>\n",
       "    <tr>\n",
       "      <th>15</th>\n",
       "      <th>1</th>\n",
       "      <td>1.861829</td>\n",
       "      <td>1.974318</td>\n",
       "      <td>0.232267</td>\n",
       "      <td>0.115760</td>\n",
       "      <td>1.165287</td>\n",
       "      <td>1.902309</td>\n",
       "      <td>0.717779</td>\n",
       "      <td>1.861829</td>\n",
       "      <td>1.153833</td>\n",
       "      <td>0.413436</td>\n",
       "      <td>...</td>\n",
       "      <td>False</td>\n",
       "      <td>True</td>\n",
       "      <td>False</td>\n",
       "      <td>False</td>\n",
       "      <td>False</td>\n",
       "      <td>True</td>\n",
       "      <td>False</td>\n",
       "      <td>False</td>\n",
       "      <td>False</td>\n",
       "      <td>1</td>\n",
       "    </tr>\n",
       "    <tr>\n",
       "      <th>18</th>\n",
       "      <th>1</th>\n",
       "      <td>1.956901</td>\n",
       "      <td>2.069306</td>\n",
       "      <td>0.339767</td>\n",
       "      <td>0.134406</td>\n",
       "      <td>0.959632</td>\n",
       "      <td>1.914035</td>\n",
       "      <td>1.063740</td>\n",
       "      <td>1.956901</td>\n",
       "      <td>0.996218</td>\n",
       "      <td>0.604785</td>\n",
       "      <td>...</td>\n",
       "      <td>False</td>\n",
       "      <td>True</td>\n",
       "      <td>False</td>\n",
       "      <td>False</td>\n",
       "      <td>False</td>\n",
       "      <td>True</td>\n",
       "      <td>False</td>\n",
       "      <td>False</td>\n",
       "      <td>False</td>\n",
       "      <td>1</td>\n",
       "    </tr>\n",
       "    <tr>\n",
       "      <th>25</th>\n",
       "      <th>1</th>\n",
       "      <td>1.883968</td>\n",
       "      <td>2.052043</td>\n",
       "      <td>0.069560</td>\n",
       "      <td>0.105667</td>\n",
       "      <td>1.528021</td>\n",
       "      <td>1.895483</td>\n",
       "      <td>0.330356</td>\n",
       "      <td>1.883968</td>\n",
       "      <td>1.522115</td>\n",
       "      <td>0.123816</td>\n",
       "      <td>...</td>\n",
       "      <td>False</td>\n",
       "      <td>True</td>\n",
       "      <td>False</td>\n",
       "      <td>False</td>\n",
       "      <td>False</td>\n",
       "      <td>True</td>\n",
       "      <td>False</td>\n",
       "      <td>False</td>\n",
       "      <td>False</td>\n",
       "      <td>1</td>\n",
       "    </tr>\n",
       "  </tbody>\n",
       "</table>\n",
       "<p>5 rows × 66 columns</p>\n",
       "</div>"
      ],
      "text/plain": [
       "                                     rec.energy.numu.E  \\\n",
       "run   subrun cycle batch evt subevt                      \n",
       "14746 27     0     0     1   1                4.073382   \n",
       "                         12  1                1.552510   \n",
       "                         15  1                1.861829   \n",
       "                         18  1                1.956901   \n",
       "                         25  1                1.883968   \n",
       "\n",
       "                                     rec.energy.numu.calccE  \\\n",
       "run   subrun cycle batch evt subevt                           \n",
       "14746 27     0     0     1   1                     5.044105   \n",
       "                         12  1                     1.682602   \n",
       "                         15  1                     1.974318   \n",
       "                         18  1                     2.069306   \n",
       "                         25  1                     2.052043   \n",
       "\n",
       "                                     rec.energy.numu.hadcalE  \\\n",
       "run   subrun cycle batch evt subevt                            \n",
       "14746 27     0     0     1   1                      0.157698   \n",
       "                         12  1                      0.201295   \n",
       "                         15  1                      0.232267   \n",
       "                         18  1                      0.339767   \n",
       "                         25  1                      0.069560   \n",
       "\n",
       "                                     rec.energy.numu.hadtrkE  \\\n",
       "run   subrun cycle batch evt subevt                            \n",
       "14746 27     0     0     1   1                      0.000000   \n",
       "                         12  1                      0.030959   \n",
       "                         15  1                      0.115760   \n",
       "                         18  1                      0.134406   \n",
       "                         25  1                      0.105667   \n",
       "\n",
       "                                     rec.energy.numu.lstmmuon  \\\n",
       "run   subrun cycle batch evt subevt                             \n",
       "14746 27     0     0     1   1                       3.999807   \n",
       "                         12  1                       1.087332   \n",
       "                         15  1                       1.165287   \n",
       "                         18  1                       0.959632   \n",
       "                         25  1                       1.528021   \n",
       "\n",
       "                                     rec.energy.numu.lstmnu  \\\n",
       "run   subrun cycle batch evt subevt                           \n",
       "14746 27     0     0     1   1                     4.369726   \n",
       "                         12  1                     1.788674   \n",
       "                         15  1                     1.902309   \n",
       "                         18  1                     1.914035   \n",
       "                         25  1                     1.895483   \n",
       "\n",
       "                                     rec.energy.numu.regcvnhadE  \\\n",
       "run   subrun cycle batch evt subevt                               \n",
       "14746 27     0     0     1   1                         0.051418   \n",
       "                         12  1                         0.486985   \n",
       "                         15  1                         0.717779   \n",
       "                         18  1                         1.063740   \n",
       "                         25  1                         0.330356   \n",
       "\n",
       "                                     rec.energy.numu.trkccE  \\\n",
       "run   subrun cycle batch evt subevt                           \n",
       "14746 27     0     0     1   1                     4.073382   \n",
       "                         12  1                     1.552510   \n",
       "                         15  1                     1.861829   \n",
       "                         18  1                     1.956901   \n",
       "                         25  1                     1.883968   \n",
       "\n",
       "                                     rec.energy.numu.recomuonE  \\\n",
       "run   subrun cycle batch evt subevt                              \n",
       "14746 27     0     0     1   1                        3.746641   \n",
       "                         12  1                        1.076423   \n",
       "                         15  1                        1.153833   \n",
       "                         18  1                        0.996218   \n",
       "                         25  1                        1.522115   \n",
       "\n",
       "                                     rec.energy.numu.hadclust.calE  ...  \\\n",
       "run   subrun cycle batch evt subevt                                 ...   \n",
       "14746 27     0     0     1   1                            0.280702  ...   \n",
       "                         12  1                            0.358304  ...   \n",
       "                         15  1                            0.413436  ...   \n",
       "                         18  1                            0.604785  ...   \n",
       "                         25  1                            0.123816  ...   \n",
       "\n",
       "                                     ana.mc.flag.isNC  ana.mc.flag.isNuMu  \\\n",
       "run   subrun cycle batch evt subevt                                         \n",
       "14746 27     0     0     1   1                  False                True   \n",
       "                         12  1                  False                True   \n",
       "                         15  1                  False                True   \n",
       "                         18  1                  False                True   \n",
       "                         25  1                  False                True   \n",
       "\n",
       "                                     ana.mc.flag.isANuMu  ana.mc.flag.isNuE  \\\n",
       "run   subrun cycle batch evt subevt                                           \n",
       "14746 27     0     0     1   1                     False              False   \n",
       "                         12  1                     False              False   \n",
       "                         15  1                     False              False   \n",
       "                         18  1                     False              False   \n",
       "                         25  1                     False              False   \n",
       "\n",
       "                                     ana.mc.flag.isANuE  ana.mc.flag.isNuMuCC  \\\n",
       "run   subrun cycle batch evt subevt                                             \n",
       "14746 27     0     0     1   1                    False                  True   \n",
       "                         12  1                    False                  True   \n",
       "                         15  1                    False                  True   \n",
       "                         18  1                    False                  True   \n",
       "                         25  1                    False                  True   \n",
       "\n",
       "                                     ana.mc.flag.isANuMuCC  \\\n",
       "run   subrun cycle batch evt subevt                          \n",
       "14746 27     0     0     1   1                       False   \n",
       "                         12  1                       False   \n",
       "                         15  1                       False   \n",
       "                         18  1                       False   \n",
       "                         25  1                       False   \n",
       "\n",
       "                                     ana.mc.flag.isNuECC  \\\n",
       "run   subrun cycle batch evt subevt                        \n",
       "14746 27     0     0     1   1                     False   \n",
       "                         12  1                     False   \n",
       "                         15  1                     False   \n",
       "                         18  1                     False   \n",
       "                         25  1                     False   \n",
       "\n",
       "                                     ana.mc.flag.isANuECC  ana.cat.event_type  \n",
       "run   subrun cycle batch evt subevt                                            \n",
       "14746 27     0     0     1   1                      False                   1  \n",
       "                         12  1                      False                   1  \n",
       "                         15  1                      False                   1  \n",
       "                         18  1                      False                   1  \n",
       "                         25  1                      False                   1  \n",
       "\n",
       "[5 rows x 66 columns]"
      ]
     },
     "execution_count": 11,
     "metadata": {},
     "output_type": "execute_result"
    }
   ],
   "source": [
    "data.table.head()"
   ]
  },
  {
   "cell_type": "markdown",
   "metadata": {},
   "source": [
    "## Data exploration..."
   ]
  },
  {
   "cell_type": "code",
   "execution_count": 12,
   "metadata": {},
   "outputs": [],
   "source": [
    "# data.table[\n",
    "#     [\n",
    "#         # 'rec.trk.kalman.idxlongest',\n",
    "#         'rec.trk.kalman.tracks.len',\n",
    "#         'rec.trk.kalman.tracks.rempid'\n",
    "#     ]\n",
    "# ].head(10)"
   ]
  },
  {
   "cell_type": "code",
   "execution_count": 13,
   "metadata": {},
   "outputs": [],
   "source": [
    "# data.table[\n",
    "#     [\n",
    "#         # 'rec.trk.kalman.tracks.dedxllh',\n",
    "#         'rec.trk.kalman.tracks.rempid',\n",
    "#         'ana.cat.event_type'\n",
    "#     ]\n",
    "# ][data.table['ana.cat.event_type'] == 1].head(20)"
   ]
  },
  {
   "cell_type": "code",
   "execution_count": 15,
   "metadata": {},
   "outputs": [
    {
     "data": {
      "text/html": [
       "<div>\n",
       "<style scoped>\n",
       "    .dataframe tbody tr th:only-of-type {\n",
       "        vertical-align: middle;\n",
       "    }\n",
       "\n",
       "    .dataframe tbody tr th {\n",
       "        vertical-align: top;\n",
       "    }\n",
       "\n",
       "    .dataframe thead th {\n",
       "        text-align: right;\n",
       "    }\n",
       "</style>\n",
       "<table border=\"1\" class=\"dataframe\">\n",
       "  <thead>\n",
       "    <tr style=\"text-align: right;\">\n",
       "      <th></th>\n",
       "      <th></th>\n",
       "      <th></th>\n",
       "      <th></th>\n",
       "      <th></th>\n",
       "      <th></th>\n",
       "      <th>ana.cat.event_type</th>\n",
       "    </tr>\n",
       "    <tr>\n",
       "      <th>run</th>\n",
       "      <th>subrun</th>\n",
       "      <th>cycle</th>\n",
       "      <th>batch</th>\n",
       "      <th>evt</th>\n",
       "      <th>subevt</th>\n",
       "      <th></th>\n",
       "    </tr>\n",
       "  </thead>\n",
       "  <tbody>\n",
       "    <tr>\n",
       "      <th rowspan=\"5\" valign=\"top\">14746</th>\n",
       "      <th rowspan=\"5\" valign=\"top\">27</th>\n",
       "      <th rowspan=\"5\" valign=\"top\">0</th>\n",
       "      <th rowspan=\"5\" valign=\"top\">0</th>\n",
       "      <th>1</th>\n",
       "      <th>1</th>\n",
       "      <td>1</td>\n",
       "    </tr>\n",
       "    <tr>\n",
       "      <th>12</th>\n",
       "      <th>1</th>\n",
       "      <td>1</td>\n",
       "    </tr>\n",
       "    <tr>\n",
       "      <th>15</th>\n",
       "      <th>1</th>\n",
       "      <td>1</td>\n",
       "    </tr>\n",
       "    <tr>\n",
       "      <th>18</th>\n",
       "      <th>1</th>\n",
       "      <td>1</td>\n",
       "    </tr>\n",
       "    <tr>\n",
       "      <th>25</th>\n",
       "      <th>1</th>\n",
       "      <td>1</td>\n",
       "    </tr>\n",
       "    <tr>\n",
       "      <th>...</th>\n",
       "      <th>...</th>\n",
       "      <th>...</th>\n",
       "      <th>...</th>\n",
       "      <th>...</th>\n",
       "      <th>...</th>\n",
       "      <td>...</td>\n",
       "    </tr>\n",
       "    <tr>\n",
       "      <th rowspan=\"5\" valign=\"top\">15021</th>\n",
       "      <th rowspan=\"5\" valign=\"top\">2</th>\n",
       "      <th rowspan=\"5\" valign=\"top\">0</th>\n",
       "      <th rowspan=\"5\" valign=\"top\">0</th>\n",
       "      <th>978</th>\n",
       "      <th>1</th>\n",
       "      <td>1</td>\n",
       "    </tr>\n",
       "    <tr>\n",
       "      <th>986</th>\n",
       "      <th>1</th>\n",
       "      <td>1</td>\n",
       "    </tr>\n",
       "    <tr>\n",
       "      <th>991</th>\n",
       "      <th>1</th>\n",
       "      <td>1</td>\n",
       "    </tr>\n",
       "    <tr>\n",
       "      <th>992</th>\n",
       "      <th>1</th>\n",
       "      <td>1</td>\n",
       "    </tr>\n",
       "    <tr>\n",
       "      <th>995</th>\n",
       "      <th>1</th>\n",
       "      <td>1</td>\n",
       "    </tr>\n",
       "  </tbody>\n",
       "</table>\n",
       "<p>51079 rows × 1 columns</p>\n",
       "</div>"
      ],
      "text/plain": [
       "                                     ana.cat.event_type\n",
       "run   subrun cycle batch evt subevt                    \n",
       "14746 27     0     0     1   1                        1\n",
       "                         12  1                        1\n",
       "                         15  1                        1\n",
       "                         18  1                        1\n",
       "                         25  1                        1\n",
       "...                                                 ...\n",
       "15021 2      0     0     978 1                        1\n",
       "                         986 1                        1\n",
       "                         991 1                        1\n",
       "                         992 1                        1\n",
       "                         995 1                        1\n",
       "\n",
       "[51079 rows x 1 columns]"
      ]
     },
     "execution_count": 15,
     "metadata": {},
     "output_type": "execute_result"
    }
   ],
   "source": [
    "data.table[\n",
    "    [\n",
    "        # 'rec.training.cvnmaps.hitfracy',\n",
    "        'ana.cat.event_type'\n",
    "    ]\n",
    "]"
   ]
  },
  {
   "cell_type": "code",
   "execution_count": 16,
   "metadata": {},
   "outputs": [],
   "source": [
    "kalfwdcell_sig = data.table[data.table['ana.cat.event_type'] == 1]['rec.sel.contain.kalfwdcell'].to_numpy()\n",
    "kalfwdcell_bak = data.table[data.table['ana.cat.event_type'] == 0]['rec.sel.contain.kalfwdcell'].to_numpy()\n",
    "\n",
    "kalbakcell_sig = data.table[data.table['ana.cat.event_type'] == 1]['rec.sel.contain.kalbakcell'].to_numpy()\n",
    "kalbakcell_bak = data.table[data.table['ana.cat.event_type'] == 0]['rec.sel.contain.kalbakcell'].to_numpy()"
   ]
  },
  {
   "cell_type": "code",
   "execution_count": 17,
   "metadata": {},
   "outputs": [
    {
     "data": {
      "image/png": "[encoded data removed]",
      "text/plain": [
       "<Figure size 640x480 with 1 Axes>"
      ]
     },
     "metadata": {},
     "output_type": "display_data"
    }
   ],
   "source": [
    "plt.plot(kalfwdcell_sig, kalbakcell_sig, '.')\n",
    "plt.plot(kalfwdcell_bak, kalbakcell_bak, '.')\n",
    "plt.axhline(6, color='k')\n",
    "plt.axvline(6, color='k');"
   ]
  },
  {
   "cell_type": "code",
   "execution_count": 18,
   "metadata": {},
   "outputs": [],
   "source": [
    "cosfwdcell_sig = data.table[data.table['ana.cat.event_type'] == 1]['rec.sel.contain.cosfwdcell'].to_numpy()\n",
    "cosfwdcell_bak = data.table[data.table['ana.cat.event_type'] == 0]['rec.sel.contain.cosfwdcell'].to_numpy()\n",
    "\n",
    "cosbakcell_sig = data.table[data.table['ana.cat.event_type'] == 1]['rec.sel.contain.cosbakcell'].to_numpy()\n",
    "cosbakcell_bak = data.table[data.table['ana.cat.event_type'] == 0]['rec.sel.contain.cosbakcell'].to_numpy()"
   ]
  },
  {
   "cell_type": "code",
   "execution_count": 19,
   "metadata": {},
   "outputs": [
    {
     "data": {
      "image/png": "[encoded data removed]",
      "text/plain": [
       "<Figure size 640x480 with 1 Axes>"
      ]
     },
     "metadata": {},
     "output_type": "display_data"
    }
   ],
   "source": [
    "plt.plot(cosfwdcell_sig, cosbakcell_sig, '.')\n",
    "plt.plot(cosfwdcell_bak, cosbakcell_bak, '.')\n",
    "plt.axhline(5, color='k')\n",
    "plt.axvline(7, color='k');"
   ]
  },
  {
   "cell_type": "code",
   "execution_count": 20,
   "metadata": {},
   "outputs": [],
   "source": [
    "firstplane_sig = data.table[data.table['ana.cat.event_type'] == 1]['rec.slc.firstplane'].to_numpy()\n",
    "firstplane_bak = data.table[data.table['ana.cat.event_type'] == 0]['rec.slc.firstplane'].to_numpy()\n",
    "\n",
    "lastplane_sig = 896 - data.table[data.table['ana.cat.event_type'] == 1]['rec.slc.lastplane'].to_numpy()\n",
    "lastplane_bak = 896 - data.table[data.table['ana.cat.event_type'] == 0]['rec.slc.lastplane'].to_numpy()"
   ]
  },
  {
   "cell_type": "code",
   "execution_count": 63,
   "metadata": {},
   "outputs": [
    {
     "data": {
      "image/png": "[encoded data removed]",
      "text/plain": [
       "<Figure size 640x480 with 1 Axes>"
      ]
     },
     "metadata": {},
     "output_type": "display_data"
    }
   ],
   "source": [
    "plt.plot(firstplane_sig, lastplane_sig, '.')\n",
    "plt.plot(firstplane_bak, lastplane_bak, '.')\n",
    "plt.axhline(2, color='k')\n",
    "plt.axvline(3, color='k');"
   ]
  },
  {
   "cell_type": "code",
   "execution_count": 25,
   "metadata": {},
   "outputs": [
    {
     "name": "stdout",
     "output_type": "stream",
     "text": [
      "Cuts     | Applied 'Containment' cut (51_079 -> 24_385 events).\n"
     ]
    }
   ],
   "source": [
    "full_cut_table = cuts.apply_cut('Containment', data.table)"
   ]
  },
  {
   "cell_type": "code",
   "execution_count": 58,
   "metadata": {},
   "outputs": [],
   "source": [
    "pot = np.sum(full_cut_table['rec.mc.nu.beam.potnum'])"
   ]
  },
  {
   "cell_type": "code",
   "execution_count": 60,
   "metadata": {},
   "outputs": [
    {
     "data": {
      "image/png": "[encoded data removed]",
      "text/plain": [
       "<Figure size 640x480 with 1 Axes>"
      ]
     },
     "metadata": {},
     "output_type": "display_data"
    }
   ],
   "source": [
    "nova_e_bins = np.linspace(0, 5, 50 + 1)\n",
    "\n",
    "v, _ = np.histogram(\n",
    "    full_cut_table['rec.energy.numu.lstmnu'],\n",
    "    bins=nova_e_bins\n",
    ")\n",
    "\n",
    "w = np.sum(v[v > 0]) / pot\n",
    "\n",
    "plt.hist(\n",
    "    nova_e_bins[:-1],\n",
    "    bins=nova_e_bins,\n",
    "    weights=v * w\n",
    ");"
   ]
  },
  {
   "cell_type": "code",
   "execution_count": null,
   "metadata": {},
   "outputs": [],
   "source": []
  }
 ],
 "metadata": {
  "kernelspec": {
   "display_name": ".venv",
   "language": "python",
   "name": "python3"
  },
  "language_info": {
   "codemirror_mode": {
    "name": "ipython",
    "version": 3
   },
   "file_extension": ".py",
   "mimetype": "text/x-python",
   "name": "python",
   "nbconvert_exporter": "python",
   "pygments_lexer": "ipython3",
   "version": "3.10.11"
  }
 },
 "nbformat": 4,
 "nbformat_minor": 2
}
