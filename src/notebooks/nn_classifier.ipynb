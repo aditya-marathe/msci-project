{
 "cells": [
  {
   "cell_type": "markdown",
   "metadata": {},
   "source": [
    "# NN Classifier\n",
    "\n",
    "---\n",
    "\n",
    "Aditya Marathe"
   ]
  },
  {
   "cell_type": "markdown",
   "metadata": {},
   "source": [
    "## Imports and version"
   ]
  },
  {
   "cell_type": "code",
   "execution_count": 1,
   "metadata": {},
   "outputs": [],
   "source": [
    "%matplotlib inline\n",
    "\n",
    "import sys\n",
    "\n",
    "import numpy as np\n",
    "import numpy.typing as npt\n",
    "\n",
    "import sklearn as skl\n",
    "from sklearn import preprocessing\n",
    "from sklearn.model_selection import train_test_split\n",
    "\n",
    "import tensorflow as tf\n",
    "from tensorflow import keras\n",
    "\n",
    "import matplotlib as mpl\n",
    "import matplotlib.pyplot as plt"
   ]
  },
  {
   "cell_type": "markdown",
   "metadata": {},
   "source": [
    "**Local**:"
   ]
  },
  {
   "cell_type": "code",
   "execution_count": 2,
   "metadata": {},
   "outputs": [],
   "source": [
    "sys.path.insert(1, './../')\n",
    "\n",
    "import ana\n",
    "from utils import *\n",
    "from transforms import *"
   ]
  },
  {
   "cell_type": "code",
   "execution_count": 3,
   "metadata": {},
   "outputs": [],
   "source": [
    "ana.init_global_plotting_style()"
   ]
  },
  {
   "cell_type": "markdown",
   "metadata": {},
   "source": [
    "**Version**:"
   ]
  },
  {
   "cell_type": "code",
   "execution_count": 4,
   "metadata": {},
   "outputs": [
    {
     "name": "stdout",
     "output_type": "stream",
     "text": [
      "Python 3.10.11 (tags/v3.10.11:7d4cc5a, Apr  5 2023, 00:38:17) [MSC v.1929 64 bit (AMD64)]\n",
      "\n",
      "NumPy 1.26.1\n",
      "Matplotlib 3.8.1\n",
      "Tensorflow 2.10.1\n",
      "SciKitLearn 1.3.2\n"
     ]
    }
   ],
   "source": [
    "print(f'Python {sys.version}\\n')\n",
    "print(f'NumPy {np.__version__}')\n",
    "print(f'Matplotlib {mpl.__version__}')\n",
    "print(f'Tensorflow {tf.__version__}')\n",
    "print(f'SciKitLearn {skl.__version__}')"
   ]
  },
  {
   "cell_type": "markdown",
   "metadata": {},
   "source": [
    "## Loading the data"
   ]
  },
  {
   "cell_type": "code",
   "execution_count": 5,
   "metadata": {},
   "outputs": [
    {
     "name": "stdout",
     "output_type": "stream",
     "text": [
      "Datasets found:\n",
      "- MINI_DATA_DIR\n",
      "- DATA_V2_DIR\n",
      "- DATA_V3_DIR\n",
      "- REALLY_MINI_DIR\n",
      "- COPYMERGED_C6_DIR\n",
      "- COPYMERGED_C7_DIR\n",
      "- COPYMERGED_C8_DIR\n",
      "- COPYMERGED_C9_DIR\n",
      "- COPYMERGED_C10_DIR\n"
     ]
    }
   ],
   "source": [
    "ds = Datasets()"
   ]
  },
  {
   "cell_type": "code",
   "execution_count": 6,
   "metadata": {},
   "outputs": [],
   "source": [
    "data = ana.NOvAData.init_from_copymerge_h5(\n",
    "    h5dirs=[\n",
    "        # ds.COPYMERGED_C8_DIR,  # type: ignore\n",
    "        # ds.COPYMERGED_C9_DIR,  # type: ignore\n",
    "        ds.COPYMERGED_C10_DIR  # type: ignore\n",
    "    ]\n",
    ")"
   ]
  },
  {
   "cell_type": "code",
   "execution_count": 7,
   "metadata": {},
   "outputs": [
    {
     "name": "stdout",
     "output_type": "stream",
     "text": [
      "<class 'pandas.core.frame.DataFrame'>\n",
      "MultiIndex: 184661 entries, (15021, 10, 0, 0, 1, 1) to (15112, 63, 0, 0, 1000, 2)\n",
      "Data columns (total 55 columns):\n",
      " #   Column                              Non-Null Count   Dtype  \n",
      "---  ------                              --------------   -----  \n",
      " 0   rec.energy.numu.E                   184661 non-null  float32\n",
      " 1   rec.energy.numu.calccE              184661 non-null  float32\n",
      " 2   rec.energy.numu.hadcalE             184661 non-null  float32\n",
      " 3   rec.energy.numu.hadtrkE             184661 non-null  float32\n",
      " 4   rec.energy.numu.lstmmuon            184661 non-null  float32\n",
      " 5   rec.energy.numu.lstmnu              184661 non-null  float32\n",
      " 6   rec.energy.numu.regcvnhadE          184661 non-null  float32\n",
      " 7   rec.energy.numu.trkccE              184661 non-null  float32\n",
      " 8   rec.energy.numu.recomuonE           184661 non-null  float32\n",
      " 9   rec.energy.numu.hadclust.calE       184661 non-null  float32\n",
      " 10  rec.energy.numu.hadclust.nhit       184661 non-null  uint32 \n",
      " 11  rec.mc.nnu                          184661 non-null  int16  \n",
      " 12  rec.mc.nu.E                         184661 non-null  float32\n",
      " 13  rec.mc.nu.pdg                       184661 non-null  float64\n",
      " 14  rec.mc.nu.mode                      184661 non-null  float64\n",
      " 15  rec.mc.nu.iscc                      184661 non-null  float64\n",
      " 16  rec.mc.nu.beam.potnum               184661 non-null  float64\n",
      " 17  rec.sel.contain.kalfwdcell          184661 non-null  int32  \n",
      " 18  rec.sel.contain.kalbakcell          184661 non-null  int32  \n",
      " 19  rec.sel.contain.cosfwdcell          184661 non-null  int32  \n",
      " 20  rec.sel.contain.cosbakcell          184661 non-null  int32  \n",
      " 21  rec.sel.cosrej.numucontpid2020fhc   184661 non-null  float32\n",
      " 22  rec.sel.cvnloosepreselptp.cosmicid  184661 non-null  float32\n",
      " 23  rec.sel.cvnloosepreselptp.ncid      184661 non-null  float32\n",
      " 24  rec.sel.cvnloosepreselptp.nueid     184661 non-null  float32\n",
      " 25  rec.sel.cvnloosepreselptp.numuid    184661 non-null  float32\n",
      " 26  rec.sel.cvnloosepreselptp.nutauid   184661 non-null  float32\n",
      " 27  rec.sel.remid.pid                   184661 non-null  float32\n",
      " 28  rec.sel.scann.scpid                 184661 non-null  float32\n",
      " 29  rec.sel.veto.keep                   184661 non-null  uint16 \n",
      " 30  rec.slc.calE                        184661 non-null  float32\n",
      " 31  rec.slc.firstplane                  184661 non-null  uint32 \n",
      " 32  rec.slc.lastplane                   184661 non-null  uint32 \n",
      " 33  rec.slc.nhit                        184661 non-null  uint32 \n",
      " 34  rec.slc.ncontplanes                 184661 non-null  uint32 \n",
      " 35  rec.spill.cosmiccvn.passSel         184661 non-null  uint16 \n",
      " 36  rec.trk.cosmic.ntracks              184661 non-null  uint64 \n",
      " 37  rec.trk.kalman.ntracks              184661 non-null  uint64 \n",
      " 38  rec.trk.kalman.ntracks2d            184661 non-null  uint64 \n",
      " 39  rec.trk.kalman.tracks.dir.x         163712 non-null  object \n",
      " 40  rec.trk.kalman.tracks.dir.y         163712 non-null  object \n",
      " 41  rec.trk.kalman.tracks.dir.z         163712 non-null  object \n",
      " 42  rec.trk.kalman.tracks.start.x       163712 non-null  object \n",
      " 43  rec.trk.kalman.tracks.start.y       163712 non-null  object \n",
      " 44  rec.trk.kalman.tracks.start.z       163712 non-null  object \n",
      " 45  rec.trk.kalman.tracks.len           163712 non-null  object \n",
      " 46  rec.trk.kalman.tracks.muonid        163712 non-null  object \n",
      " 47  rec.trk.kalman.tracks.rempid        163712 non-null  object \n",
      " 48  rec.trk.kalman.tracks.nhit          163712 non-null  object \n",
      " 49  rec.trk.kalman.tracks.nhitx         163712 non-null  object \n",
      " 50  rec.trk.kalman.tracks.nhity         163712 non-null  object \n",
      " 51  rec.trk.kalman.tracks.calE          163712 non-null  object \n",
      " 52  rec.trk.kalman.tracks.overlapE      163712 non-null  object \n",
      " 53  rec.trk.kalman.tracks.nplane        163712 non-null  object \n",
      " 54  rec.trk.kalman.tracks.maxplanecont  163712 non-null  object \n",
      "dtypes: float32(20), float64(4), int16(1), int32(4), object(16), uint16(2), uint32(5), uint64(3)\n",
      "memory usage: 55.2+ MB\n"
     ]
    }
   ],
   "source": [
    "data.table.info()"
   ]
  },
  {
   "cell_type": "code",
   "execution_count": 8,
   "metadata": {},
   "outputs": [],
   "source": [
    "data.fill_ana_flags(inplace=True)\n",
    "data.fill_ana_track_kinematics(inplace=True)"
   ]
  },
  {
   "cell_type": "markdown",
   "metadata": {},
   "source": [
    "## Data prep."
   ]
  },
  {
   "cell_type": "code",
   "execution_count": 173,
   "metadata": {},
   "outputs": [],
   "source": [
    "table = data.table.reset_index(drop=True)"
   ]
  },
  {
   "cell_type": "code",
   "execution_count": 174,
   "metadata": {},
   "outputs": [],
   "source": [
    "cuts = ana.Cuts.init_nova_cuts()"
   ]
  },
  {
   "cell_type": "code",
   "execution_count": 175,
   "metadata": {},
   "outputs": [],
   "source": [
    "# Cuts\n",
    "table = cuts.apply_cut('Detector Quality', table)\n",
    "table = cuts.apply_cut('Data Quality', table)\n",
    "table = cuts.apply_cut('Cosmic Rej.', table)\n",
    "table = cuts.apply_cut('Veto', table)\n",
    "# table = cuts.apply_cut('CVN PID Score', table)\n",
    "# table = cuts.apply_cut('Containment', table)"
   ]
  },
  {
   "cell_type": "code",
   "execution_count": 176,
   "metadata": {},
   "outputs": [],
   "source": [
    "def tf_200224_add_cut_vars(df: pd.DataFrame) -> pd.DataFrame:\n",
    "    df_copy = df.copy()\n",
    "\n",
    "    df_copy = cuts.apply_cut('CVN PID Score', df_copy)\n",
    "    passed_cvn_pid_index = df_copy.index\n",
    "\n",
    "    df_copy = df.copy()\n",
    "\n",
    "    df_copy = cuts.apply_cut('Containment', df_copy)\n",
    "    passed_containment_index = df_copy.index\n",
    "    \n",
    "    #\n",
    "\n",
    "    df_copy = df.copy()\n",
    "\n",
    "    df_copy.loc[passed_cvn_pid_index, 'ana.cut.flag.cvn_pid'] = 1.\n",
    "    df_copy.loc[passed_containment_index, 'ana.cut.flag.containment'] = 1.\n",
    "\n",
    "    df_copy[['ana.cut.flag.cvn_pid', 'ana.cut.flag.containment']] = df_copy[['ana.cut.flag.cvn_pid', 'ana.cut.flag.containment']].fillna(value=0)\n",
    "\n",
    "    return df_copy\n"
   ]
  },
  {
   "cell_type": "code",
   "execution_count": 177,
   "metadata": {},
   "outputs": [],
   "source": [
    "# Transforms\n",
    "table = tf_290124_positive_energies(table)\n",
    "table = tf_290124_valid_pid(table)\n",
    "table = tf_120224_first_prong(table)\n",
    "table = tf_200224_add_cut_vars(table)"
   ]
  },
  {
   "cell_type": "code",
   "execution_count": 178,
   "metadata": {},
   "outputs": [],
   "source": [
    "useful_vars = [\n",
    "\t'rec.energy.numu.calccE',\n",
    "\t'rec.energy.numu.hadcalE',\n",
    "\t'rec.energy.numu.hadtrkE',\n",
    "\t'rec.energy.numu.lstmmuon',\n",
    "\t'rec.energy.numu.regcvnhadE',\n",
    "\t'rec.energy.numu.trkccE',\n",
    "\t'rec.energy.numu.recomuonE',\n",
    "\t'rec.energy.numu.hadclust.calE',\n",
    "\t'rec.energy.numu.hadclust.nhit',\n",
    "\t'rec.sel.contain.kalfwdcell',\n",
    "\t'rec.sel.contain.kalbakcell',\n",
    "\t'rec.sel.contain.cosfwdcell',\n",
    "\t'rec.sel.contain.cosbakcell',\n",
    "\t'rec.sel.cosrej.numucontpid2020fhc',\n",
    "\t'rec.sel.cvnloosepreselptp.cosmicid',\n",
    "\t'rec.sel.cvnloosepreselptp.ncid',\n",
    "\t'rec.sel.cvnloosepreselptp.nueid',\n",
    "\t'rec.sel.cvnloosepreselptp.numuid',\n",
    "\t'rec.sel.cvnloosepreselptp.nutauid',\n",
    "\t'rec.sel.remid.pid',\n",
    "\t'rec.sel.scann.scpid',\n",
    "\t'rec.slc.calE',\n",
    "\t'rec.slc.firstplane',\n",
    "\t'rec.slc.lastplane',\n",
    "\t'rec.slc.nhit',\n",
    "\t'rec.slc.ncontplanes',\n",
    "\t'rec.trk.cosmic.ntracks',\n",
    "\t'rec.trk.kalman.ntracks',\n",
    "\t'rec.trk.kalman.ntracks2d',\n",
    "\t'ana.trk.kalman.tracks.cosBeam', \n",
    "\t'ana.trk.kalman.tracks.PtToPmu',\n",
    "\t'ana.trk.kalman.tracks.Pmu', \n",
    "\t'ana.trk.kalman.tracks.Pt',\n",
    "    'ana.cut.flag.cvn_pid',\n",
    "    'ana.cut.flag.containment',\n",
    "\t'ana.mc.flag.isNuMuCC'\n",
    "]\n",
    "\n",
    "scale_vars = [\n",
    "\t'rec.energy.numu.calccE',\n",
    "\t'rec.energy.numu.hadcalE',\n",
    "\t'rec.energy.numu.hadtrkE',\n",
    "\t'rec.energy.numu.lstmmuon',\n",
    "\t'rec.energy.numu.regcvnhadE',\n",
    "\t'rec.energy.numu.trkccE',\n",
    "\t'rec.energy.numu.recomuonE',\n",
    "\t'rec.energy.numu.hadclust.calE',\n",
    "\t'rec.energy.numu.hadclust.nhit',\n",
    "\t'rec.sel.contain.kalfwdcell',\n",
    "\t'rec.sel.contain.kalbakcell',\n",
    "\t'rec.sel.contain.cosfwdcell',\n",
    "\t'rec.sel.contain.cosbakcell',\n",
    "\t'rec.slc.calE',\n",
    "\t'rec.slc.firstplane',\n",
    "\t'rec.slc.lastplane',\n",
    "\t'rec.slc.nhit',\n",
    "\t'rec.slc.ncontplanes',\n",
    "\t'rec.trk.cosmic.ntracks',\n",
    "\t'rec.trk.kalman.ntracks',\n",
    "\t'rec.trk.kalman.ntracks2d',\n",
    "\t'ana.trk.kalman.tracks.cosBeam', \n",
    "\t'ana.trk.kalman.tracks.PtToPmu',\n",
    "\t'ana.trk.kalman.tracks.Pmu', \n",
    "\t'ana.trk.kalman.tracks.Pt'\n",
    "]"
   ]
  },
  {
   "cell_type": "code",
   "execution_count": 282,
   "metadata": {},
   "outputs": [],
   "source": [
    "useful_vars = [\n",
    "\t'rec.energy.numu.lstmmuon',\n",
    "\t'rec.energy.numu.recomuonE',\n",
    "\t'rec.sel.cvnloosepreselptp.cosmicid',\n",
    "\t'rec.sel.cvnloosepreselptp.ncid',\n",
    "\t'rec.sel.scann.scpid',\n",
    "    \n",
    "    'rec.sel.contain.kalfwdcell',\n",
    "\t'rec.sel.contain.kalbakcell',\n",
    "\t'rec.sel.contain.cosfwdcell',\n",
    "\t'rec.sel.contain.cosbakcell',\n",
    "\t'rec.slc.firstplane',\n",
    "\t'rec.slc.lastplane',\n",
    "\t'rec.sel.remid.pid',\n",
    "\t'rec.sel.cvnloosepreselptp.numuid',\n",
    "    \n",
    "\t'ana.mc.flag.isNuMuCC'\n",
    "]\n",
    "\n",
    "scale_vars = [\n",
    "\t'rec.energy.numu.lstmmuon',\n",
    "\t'rec.energy.numu.recomuonE'\n",
    "]"
   ]
  },
  {
   "cell_type": "code",
   "execution_count": 283,
   "metadata": {},
   "outputs": [],
   "source": [
    "# Training data and labels\n",
    "x_table = table[useful_vars]\n",
    "y_table = x_table.pop('ana.mc.flag.isNuMuCC')"
   ]
  },
  {
   "cell_type": "code",
   "execution_count": 284,
   "metadata": {},
   "outputs": [
    {
     "data": {
      "image/png": "[encoded data removed]",
      "text/plain": [
       "<Figure size 640x480 with 1 Axes>"
      ]
     },
     "metadata": {},
     "output_type": "display_data"
    }
   ],
   "source": [
    "plt.hist(\n",
    "    y_table.values,\n",
    "    bins=np.linspace(0, 1, 2 + 1)  # type: ignore\n",
    ")\n",
    "plt.ylabel('Count')\n",
    "plt.xlabel('B/S CC event')\n",
    "plt.xticks([]);"
   ]
  },
  {
   "cell_type": "code",
   "execution_count": 285,
   "metadata": {},
   "outputs": [],
   "source": [
    "x_train_table, x_test_table, y_train_table, y_test_table = train_test_split(\n",
    "    x_table, y_table, test_size=0.2, random_state=42\n",
    ")"
   ]
  },
  {
   "cell_type": "code",
   "execution_count": 286,
   "metadata": {},
   "outputs": [
    {
     "data": {
      "image/png": "[encoded data removed]",
      "text/plain": [
       "<Figure size 640x480 with 1 Axes>"
      ]
     },
     "metadata": {},
     "output_type": "display_data"
    }
   ],
   "source": [
    "plt.hist(\n",
    "    y_train_table.values,\n",
    "    bins=np.linspace(0, 1, 2 + 1)  # type: ignore\n",
    ")\n",
    "plt.ylabel('Count')\n",
    "plt.xlabel('B/S CC event')\n",
    "plt.xticks([]);"
   ]
  },
  {
   "cell_type": "markdown",
   "metadata": {},
   "source": [
    "## Model"
   ]
  },
  {
   "cell_type": "code",
   "execution_count": 287,
   "metadata": {},
   "outputs": [],
   "source": [
    "config = {\n",
    "    'Cuts': [\n",
    "        'Detector Quality',\n",
    "        'Data Quality',\n",
    "        'CVN PID Score',\n",
    "        'Cosmic Rej.',\n",
    "        # 'Veto'\n",
    "    ],\n",
    "    'Transforms': [\n",
    "        'tf_290124_positive_energies',\n",
    "        'tf_290124_valid_pid',\n",
    "        'tf_120224_first_prong',\n",
    "        'tf_200224_add_cut_vars'\n",
    "    ],\n",
    "    'XDataCols': useful_vars[:-1],\n",
    "    'YDataCols': useful_vars[-1],\n",
    "    'HyperParameters': dict()\n",
    "}"
   ]
  },
  {
   "cell_type": "code",
   "execution_count": 294,
   "metadata": {},
   "outputs": [],
   "source": [
    "model_config = {\n",
    "    'SequentialLayers': [\n",
    "        keras.layers.InputLayer(input_shape=(len(useful_vars[:-1]),)),\n",
    "        keras.layers.Dense(units=8, activation='relu'),\n",
    "        keras.layers.BatchNormalization(),\n",
    "        keras.layers.Dropout(rate=0.2),\n",
    "        keras.layers.Dense(units=16, activation='relu'),\n",
    "        keras.layers.BatchNormalization(),\n",
    "        keras.layers.Dropout(rate=0.2),\n",
    "        keras.layers.Dense(units=32, activation='relu'),\n",
    "        keras.layers.BatchNormalization(),\n",
    "        keras.layers.Dropout(rate=0.2),\n",
    "        keras.layers.Dense(units=16, activation='relu'),\n",
    "        keras.layers.BatchNormalization(),\n",
    "        keras.layers.Dropout(rate=0.2),\n",
    "        keras.layers.Dense(units=8, activation='relu'),\n",
    "        keras.layers.BatchNormalization(),\n",
    "        keras.layers.Dropout(rate=0.2),\n",
    "        keras.layers.Dense(units=1, activation=keras.activations.sigmoid)\n",
    "    ],\n",
    "    'Optimizer': keras.optimizers.Adam(learning_rate=1E-3),\n",
    "    'LossFunction': keras.losses.BinaryCrossentropy()\n",
    "}"
   ]
  },
  {
   "cell_type": "code",
   "execution_count": 295,
   "metadata": {},
   "outputs": [],
   "source": [
    "def init_model() -> keras.Sequential:\n",
    "    \"\"\"\\\n",
    "    \"\"\"\n",
    "    model = keras.Sequential(layers=model_config['SequentialLayers'])\n",
    "\n",
    "    model.compile(\n",
    "        optimizer=model_config['Optimizer'],\n",
    "        loss=model_config['LossFunction'],\n",
    "        metrics=[\n",
    "            keras.metrics.BinaryAccuracy(),  # threshold=0.5\n",
    "            keras.metrics.Precision(),\n",
    "            keras.metrics.Recall()\n",
    "        ]\n",
    "    )\n",
    "\n",
    "    model.summary()\n",
    "\n",
    "    return model"
   ]
  },
  {
   "cell_type": "code",
   "execution_count": 296,
   "metadata": {},
   "outputs": [
    {
     "name": "stdout",
     "output_type": "stream",
     "text": [
      "Model: \"sequential_4\"\n",
      "_________________________________________________________________\n",
      " Layer (type)                Output Shape              Param #   \n",
      "=================================================================\n",
      " dense_22 (Dense)            (None, 8)                 112       \n",
      "                                                                 \n",
      " batch_normalization_18 (Bat  (None, 8)                32        \n",
      " chNormalization)                                                \n",
      "                                                                 \n",
      " dropout (Dropout)           (None, 8)                 0         \n",
      "                                                                 \n",
      " dense_23 (Dense)            (None, 16)                144       \n",
      "                                                                 \n",
      " batch_normalization_19 (Bat  (None, 16)               64        \n",
      " chNormalization)                                                \n",
      "                                                                 \n",
      " dropout_1 (Dropout)         (None, 16)                0         \n",
      "                                                                 \n",
      " dense_24 (Dense)            (None, 32)                544       \n",
      "                                                                 \n",
      " batch_normalization_20 (Bat  (None, 32)               128       \n",
      " chNormalization)                                                \n",
      "                                                                 \n",
      " dropout_2 (Dropout)         (None, 32)                0         \n",
      "                                                                 \n",
      " dense_25 (Dense)            (None, 16)                528       \n",
      "                                                                 \n",
      " batch_normalization_21 (Bat  (None, 16)               64        \n",
      " chNormalization)                                                \n",
      "                                                                 \n",
      " dropout_3 (Dropout)         (None, 16)                0         \n",
      "                                                                 \n",
      " dense_26 (Dense)            (None, 8)                 136       \n",
      "                                                                 \n",
      " batch_normalization_22 (Bat  (None, 8)                32        \n",
      " chNormalization)                                                \n",
      "                                                                 \n",
      " dropout_4 (Dropout)         (None, 8)                 0         \n",
      "                                                                 \n",
      " dense_27 (Dense)            (None, 1)                 9         \n",
      "                                                                 \n",
      "=================================================================\n",
      "Total params: 1,793\n",
      "Trainable params: 1,633\n",
      "Non-trainable params: 160\n",
      "_________________________________________________________________\n"
     ]
    }
   ],
   "source": [
    "model = init_model()"
   ]
  },
  {
   "cell_type": "code",
   "execution_count": 297,
   "metadata": {},
   "outputs": [
    {
     "name": "stdout",
     "output_type": "stream",
     "text": [
      "Epoch 1/100\n",
      "815/815 [==============================] - 15s 10ms/step - loss: 25.6967 - binary_accuracy: 0.4955 - precision_4: 0.7921 - recall_4: 0.4786 - val_loss: 0.6763 - val_binary_accuracy: 0.5184 - val_precision_4: 0.8338 - val_recall_4: 0.4814\n",
      "Epoch 2/100\n",
      "815/815 [==============================] - 7s 9ms/step - loss: 23.6641 - binary_accuracy: 0.4757 - precision_4: 0.8055 - recall_4: 0.4318 - val_loss: 0.7062 - val_binary_accuracy: 0.3852 - val_precision_4: 0.8663 - val_recall_4: 0.2549\n",
      "Epoch 3/100\n",
      "815/815 [==============================] - 6s 8ms/step - loss: 23.3010 - binary_accuracy: 0.4506 - precision_4: 0.8166 - recall_4: 0.3809 - val_loss: 0.6948 - val_binary_accuracy: 0.4389 - val_precision_4: 0.8707 - val_recall_4: 0.3336\n",
      "Epoch 4/100\n",
      "815/815 [==============================] - 7s 8ms/step - loss: 23.1367 - binary_accuracy: 0.4487 - precision_4: 0.8204 - recall_4: 0.3750 - val_loss: 0.6836 - val_binary_accuracy: 0.5170 - val_precision_4: 0.8535 - val_recall_4: 0.4632\n",
      "Epoch 5/100\n",
      "815/815 [==============================] - 6s 8ms/step - loss: 22.8782 - binary_accuracy: 0.4851 - precision_4: 0.8323 - recall_4: 0.4253 - val_loss: 0.6842 - val_binary_accuracy: 0.5020 - val_precision_4: 0.8715 - val_recall_4: 0.4276\n",
      "Epoch 6/100\n",
      "815/815 [==============================] - 7s 9ms/step - loss: 22.5960 - binary_accuracy: 0.5390 - precision_4: 0.8435 - recall_4: 0.5019 - val_loss: 0.7000 - val_binary_accuracy: 0.5195 - val_precision_4: 0.8927 - val_recall_4: 0.4397\n",
      "Epoch 7/100\n",
      "815/815 [==============================] - 7s 9ms/step - loss: 22.0387 - binary_accuracy: 0.6170 - precision_4: 0.8508 - recall_4: 0.6170 - val_loss: 0.6195 - val_binary_accuracy: 0.7160 - val_precision_4: 0.8786 - val_recall_4: 0.7398\n",
      "Epoch 8/100\n",
      "815/815 [==============================] - 7s 8ms/step - loss: 21.1391 - binary_accuracy: 0.6774 - precision_4: 0.8670 - recall_4: 0.6924 - val_loss: 0.6083 - val_binary_accuracy: 0.6930 - val_precision_4: 0.9047 - val_recall_4: 0.6799\n",
      "Epoch 9/100\n",
      "815/815 [==============================] - 7s 8ms/step - loss: 20.0932 - binary_accuracy: 0.7225 - precision_4: 0.8818 - recall_4: 0.7438 - val_loss: 0.5255 - val_binary_accuracy: 0.8085 - val_precision_4: 0.8945 - val_recall_4: 0.8567\n",
      "Epoch 10/100\n",
      "815/815 [==============================] - 7s 9ms/step - loss: 18.4803 - binary_accuracy: 0.7766 - precision_4: 0.8989 - recall_4: 0.8039 - val_loss: 0.5660 - val_binary_accuracy: 0.7516 - val_precision_4: 0.9341 - val_recall_4: 0.7349\n",
      "Epoch 11/100\n",
      "815/815 [==============================] - 6s 8ms/step - loss: 15.3323 - binary_accuracy: 0.8365 - precision_4: 0.9287 - recall_4: 0.8560 - val_loss: 0.3272 - val_binary_accuracy: 0.9023 - val_precision_4: 0.9499 - val_recall_4: 0.9240\n",
      "Epoch 12/100\n",
      "815/815 [==============================] - 7s 8ms/step - loss: 14.2052 - binary_accuracy: 0.8540 - precision_4: 0.9370 - recall_4: 0.8713 - val_loss: 0.3526 - val_binary_accuracy: 0.8972 - val_precision_4: 0.9558 - val_recall_4: 0.9109\n",
      "Epoch 13/100\n",
      "815/815 [==============================] - 7s 8ms/step - loss: 13.9217 - binary_accuracy: 0.8571 - precision_4: 0.9369 - recall_4: 0.8758 - val_loss: 0.3273 - val_binary_accuracy: 0.9073 - val_precision_4: 0.9511 - val_recall_4: 0.9295\n",
      "Epoch 14/100\n",
      "815/815 [==============================] - 7s 9ms/step - loss: 13.8096 - binary_accuracy: 0.8648 - precision_4: 0.9388 - recall_4: 0.8842 - val_loss: 0.3564 - val_binary_accuracy: 0.8974 - val_precision_4: 0.9557 - val_recall_4: 0.9113\n",
      "Epoch 15/100\n",
      "815/815 [==============================] - 6s 8ms/step - loss: 13.4783 - binary_accuracy: 0.8737 - precision_4: 0.9411 - recall_4: 0.8940 - val_loss: 0.4920 - val_binary_accuracy: 0.8366 - val_precision_4: 0.9581 - val_recall_4: 0.8277\n",
      "Epoch 16/100\n",
      "815/815 [==============================] - 7s 8ms/step - loss: 13.2533 - binary_accuracy: 0.8781 - precision_4: 0.9428 - recall_4: 0.8982 - val_loss: 0.3348 - val_binary_accuracy: 0.9050 - val_precision_4: 0.9521 - val_recall_4: 0.9254\n",
      "Epoch 17/100\n",
      "815/815 [==============================] - 7s 8ms/step - loss: 13.0679 - binary_accuracy: 0.8815 - precision_4: 0.9436 - recall_4: 0.9019 - val_loss: 0.3228 - val_binary_accuracy: 0.9144 - val_precision_4: 0.9477 - val_recall_4: 0.9428\n",
      "Epoch 18/100\n",
      "815/815 [==============================] - 8s 9ms/step - loss: 13.0123 - binary_accuracy: 0.8838 - precision_4: 0.9421 - recall_4: 0.9067 - val_loss: 0.2977 - val_binary_accuracy: 0.9112 - val_precision_4: 0.9492 - val_recall_4: 0.9368\n",
      "Epoch 19/100\n",
      "815/815 [==============================] - 7s 8ms/step - loss: 12.9496 - binary_accuracy: 0.8828 - precision_4: 0.9430 - recall_4: 0.9043 - val_loss: 0.3041 - val_binary_accuracy: 0.9142 - val_precision_4: 0.9475 - val_recall_4: 0.9428\n",
      "Epoch 20/100\n",
      "815/815 [==============================] - 7s 9ms/step - loss: 12.8119 - binary_accuracy: 0.8885 - precision_4: 0.9422 - recall_4: 0.9130 - val_loss: 0.3565 - val_binary_accuracy: 0.9075 - val_precision_4: 0.9533 - val_recall_4: 0.9274\n",
      "Epoch 21/100\n",
      "815/815 [==============================] - 7s 8ms/step - loss: 12.7559 - binary_accuracy: 0.8860 - precision_4: 0.9408 - recall_4: 0.9111 - val_loss: 0.3152 - val_binary_accuracy: 0.9118 - val_precision_4: 0.9500 - val_recall_4: 0.9368\n",
      "Epoch 22/100\n",
      "815/815 [==============================] - 8s 10ms/step - loss: 12.6959 - binary_accuracy: 0.8861 - precision_4: 0.9415 - recall_4: 0.9105 - val_loss: 0.2798 - val_binary_accuracy: 0.9150 - val_precision_4: 0.9432 - val_recall_4: 0.9487\n",
      "Epoch 23/100\n",
      "815/815 [==============================] - 8s 9ms/step - loss: 12.6719 - binary_accuracy: 0.8851 - precision_4: 0.9424 - recall_4: 0.9081 - val_loss: 0.4134 - val_binary_accuracy: 0.8972 - val_precision_4: 0.9540 - val_recall_4: 0.9129\n",
      "Epoch 24/100\n",
      "815/815 [==============================] - 7s 9ms/step - loss: 12.6788 - binary_accuracy: 0.8862 - precision_4: 0.9426 - recall_4: 0.9095 - val_loss: 0.2932 - val_binary_accuracy: 0.9162 - val_precision_4: 0.9445 - val_recall_4: 0.9489\n",
      "Epoch 25/100\n",
      "815/815 [==============================] - 7s 9ms/step - loss: 12.6583 - binary_accuracy: 0.8870 - precision_4: 0.9414 - recall_4: 0.9118 - val_loss: 0.3047 - val_binary_accuracy: 0.9164 - val_precision_4: 0.9452 - val_recall_4: 0.9483\n",
      "Epoch 26/100\n",
      "815/815 [==============================] - 8s 10ms/step - loss: 12.6276 - binary_accuracy: 0.8866 - precision_4: 0.9424 - recall_4: 0.9102 - val_loss: 0.2928 - val_binary_accuracy: 0.9158 - val_precision_4: 0.9463 - val_recall_4: 0.9462\n",
      "Epoch 27/100\n",
      "815/815 [==============================] - 7s 9ms/step - loss: 12.6713 - binary_accuracy: 0.8854 - precision_4: 0.9432 - recall_4: 0.9077 - val_loss: 0.2927 - val_binary_accuracy: 0.9161 - val_precision_4: 0.9471 - val_recall_4: 0.9458\n",
      "Epoch 28/100\n",
      "815/815 [==============================] - 8s 10ms/step - loss: 12.5733 - binary_accuracy: 0.8851 - precision_4: 0.9433 - recall_4: 0.9071 - val_loss: 0.2987 - val_binary_accuracy: 0.9155 - val_precision_4: 0.9486 - val_recall_4: 0.9432\n",
      "Epoch 29/100\n",
      "815/815 [==============================] - 8s 10ms/step - loss: 12.5207 - binary_accuracy: 0.8899 - precision_4: 0.9436 - recall_4: 0.9134 - val_loss: 0.4076 - val_binary_accuracy: 0.8974 - val_precision_4: 0.9540 - val_recall_4: 0.9131\n",
      "Epoch 30/100\n",
      "815/815 [==============================] - 6s 8ms/step - loss: 12.5029 - binary_accuracy: 0.8876 - precision_4: 0.9442 - recall_4: 0.9096 - val_loss: 0.2664 - val_binary_accuracy: 0.9164 - val_precision_4: 0.9377 - val_recall_4: 0.9569\n",
      "Epoch 31/100\n",
      "815/815 [==============================] - 7s 8ms/step - loss: 12.4503 - binary_accuracy: 0.8901 - precision_4: 0.9434 - recall_4: 0.9138 - val_loss: 0.3012 - val_binary_accuracy: 0.9147 - val_precision_4: 0.9484 - val_recall_4: 0.9424\n",
      "Epoch 32/100\n",
      "815/815 [==============================] - 8s 10ms/step - loss: 12.4081 - binary_accuracy: 0.8920 - precision_4: 0.9451 - recall_4: 0.9146 - val_loss: 0.3074 - val_binary_accuracy: 0.9098 - val_precision_4: 0.9491 - val_recall_4: 0.9350\n",
      "Epoch 33/100\n",
      "815/815 [==============================] - 8s 10ms/step - loss: 12.4257 - binary_accuracy: 0.8911 - precision_4: 0.9444 - recall_4: 0.9142 - val_loss: 0.2999 - val_binary_accuracy: 0.9150 - val_precision_4: 0.9475 - val_recall_4: 0.9438\n",
      "Epoch 34/100\n",
      "815/815 [==============================] - 8s 9ms/step - loss: 12.4907 - binary_accuracy: 0.8904 - precision_4: 0.9435 - recall_4: 0.9142 - val_loss: 0.3164 - val_binary_accuracy: 0.9096 - val_precision_4: 0.9511 - val_recall_4: 0.9327\n",
      "Epoch 35/100\n",
      "815/815 [==============================] - 8s 10ms/step - loss: 12.5125 - binary_accuracy: 0.8917 - precision_4: 0.9434 - recall_4: 0.9161 - val_loss: 0.3188 - val_binary_accuracy: 0.9136 - val_precision_4: 0.9490 - val_recall_4: 0.9403\n",
      "Epoch 36/100\n",
      "815/815 [==============================] - 7s 9ms/step - loss: 12.4960 - binary_accuracy: 0.8913 - precision_4: 0.9438 - recall_4: 0.9151 - val_loss: 0.3166 - val_binary_accuracy: 0.9106 - val_precision_4: 0.9506 - val_recall_4: 0.9344\n",
      "Epoch 37/100\n",
      "815/815 [==============================] - 3s 3ms/step - loss: 12.3748 - binary_accuracy: 0.8929 - precision_4: 0.9437 - recall_4: 0.9174 - val_loss: 0.5535 - val_binary_accuracy: 0.8183 - val_precision_4: 0.9586 - val_recall_4: 0.8029\n",
      "Epoch 38/100\n",
      "815/815 [==============================] - 3s 3ms/step - loss: 12.2897 - binary_accuracy: 0.8937 - precision_4: 0.9447 - recall_4: 0.9174 - val_loss: 0.3070 - val_binary_accuracy: 0.9127 - val_precision_4: 0.9504 - val_recall_4: 0.9375\n",
      "Epoch 39/100\n",
      "815/815 [==============================] - 3s 3ms/step - loss: 12.3397 - binary_accuracy: 0.8950 - precision_4: 0.9446 - recall_4: 0.9192 - val_loss: 0.3060 - val_binary_accuracy: 0.9125 - val_precision_4: 0.9500 - val_recall_4: 0.9377\n",
      "Epoch 40/100\n",
      "815/815 [==============================] - 3s 4ms/step - loss: 12.3381 - binary_accuracy: 0.8954 - precision_4: 0.9452 - recall_4: 0.9191 - val_loss: 0.3368 - val_binary_accuracy: 0.9112 - val_precision_4: 0.9498 - val_recall_4: 0.9362\n",
      "Epoch 41/100\n",
      "815/815 [==============================] - 4s 4ms/step - loss: 12.2820 - binary_accuracy: 0.8981 - precision_4: 0.9441 - recall_4: 0.9240 - val_loss: 0.3213 - val_binary_accuracy: 0.9073 - val_precision_4: 0.9535 - val_recall_4: 0.9270\n",
      "Epoch 42/100\n",
      "815/815 [==============================] - 3s 4ms/step - loss: 12.3805 - binary_accuracy: 0.8941 - precision_4: 0.9455 - recall_4: 0.9171 - val_loss: 0.3449 - val_binary_accuracy: 0.9063 - val_precision_4: 0.9532 - val_recall_4: 0.9258\n",
      "Epoch 43/100\n",
      "815/815 [==============================] - 3s 4ms/step - loss: 12.3153 - binary_accuracy: 0.8992 - precision_4: 0.9445 - recall_4: 0.9250 - val_loss: 0.3884 - val_binary_accuracy: 0.9009 - val_precision_4: 0.9544 - val_recall_4: 0.9174\n",
      "Epoch 44/100\n",
      "815/815 [==============================] - 4s 5ms/step - loss: 12.2457 - binary_accuracy: 0.9006 - precision_4: 0.9442 - recall_4: 0.9273 - val_loss: 0.2858 - val_binary_accuracy: 0.9172 - val_precision_4: 0.9456 - val_recall_4: 0.9489\n",
      "Epoch 45/100\n",
      "815/815 [==============================] - 4s 5ms/step - loss: 12.1167 - binary_accuracy: 0.8989 - precision_4: 0.9455 - recall_4: 0.9235 - val_loss: 0.2934 - val_binary_accuracy: 0.9173 - val_precision_4: 0.9456 - val_recall_4: 0.9491\n",
      "Epoch 46/100\n",
      "815/815 [==============================] - 4s 5ms/step - loss: 12.0798 - binary_accuracy: 0.9010 - precision_4: 0.9454 - recall_4: 0.9265 - val_loss: 0.3052 - val_binary_accuracy: 0.9168 - val_precision_4: 0.9442 - val_recall_4: 0.9501\n",
      "Epoch 47/100\n",
      "815/815 [==============================] - 3s 4ms/step - loss: 12.0651 - binary_accuracy: 0.8985 - precision_4: 0.9457 - recall_4: 0.9229 - val_loss: 0.2884 - val_binary_accuracy: 0.9149 - val_precision_4: 0.9486 - val_recall_4: 0.9424\n",
      "Epoch 48/100\n",
      "815/815 [==============================] - 4s 4ms/step - loss: 12.1007 - binary_accuracy: 0.8980 - precision_4: 0.9467 - recall_4: 0.9209 - val_loss: 0.3643 - val_binary_accuracy: 0.9017 - val_precision_4: 0.9542 - val_recall_4: 0.9186\n",
      "Epoch 49/100\n",
      "815/815 [==============================] - 3s 4ms/step - loss: 12.1647 - binary_accuracy: 0.8973 - precision_4: 0.9462 - recall_4: 0.9206 - val_loss: 0.3289 - val_binary_accuracy: 0.9046 - val_precision_4: 0.9537 - val_recall_4: 0.9231\n",
      "Epoch 50/100\n",
      "815/815 [==============================] - 4s 5ms/step - loss: 12.1402 - binary_accuracy: 0.8977 - precision_4: 0.9470 - recall_4: 0.9203 - val_loss: 0.3320 - val_binary_accuracy: 0.9064 - val_precision_4: 0.9532 - val_recall_4: 0.9260\n",
      "Epoch 51/100\n",
      "815/815 [==============================] - 3s 4ms/step - loss: 11.9642 - binary_accuracy: 0.8997 - precision_4: 0.9469 - recall_4: 0.9231 - val_loss: 0.3447 - val_binary_accuracy: 0.9104 - val_precision_4: 0.9522 - val_recall_4: 0.9325\n",
      "Epoch 52/100\n",
      "815/815 [==============================] - 3s 4ms/step - loss: 12.0717 - binary_accuracy: 0.9000 - precision_4: 0.9449 - recall_4: 0.9257 - val_loss: 0.3292 - val_binary_accuracy: 0.9086 - val_precision_4: 0.9514 - val_recall_4: 0.9309\n",
      "Epoch 53/100\n",
      "815/815 [==============================] - 3s 4ms/step - loss: 12.0235 - binary_accuracy: 0.9014 - precision_4: 0.9447 - recall_4: 0.9278 - val_loss: 0.2968 - val_binary_accuracy: 0.9179 - val_precision_4: 0.9439 - val_recall_4: 0.9518\n",
      "Epoch 54/100\n",
      "815/815 [==============================] - 4s 4ms/step - loss: 12.0910 - binary_accuracy: 0.9018 - precision_4: 0.9457 - recall_4: 0.9272 - val_loss: 0.2988 - val_binary_accuracy: 0.9130 - val_precision_4: 0.9476 - val_recall_4: 0.9411\n",
      "Epoch 55/100\n",
      "815/815 [==============================] - 4s 4ms/step - loss: 12.0982 - binary_accuracy: 0.9015 - precision_4: 0.9467 - recall_4: 0.9258 - val_loss: 0.3234 - val_binary_accuracy: 0.9044 - val_precision_4: 0.9533 - val_recall_4: 0.9233\n",
      "Epoch 56/100\n",
      "815/815 [==============================] - 4s 5ms/step - loss: 12.0516 - binary_accuracy: 0.8999 - precision_4: 0.9467 - recall_4: 0.9236 - val_loss: 0.3132 - val_binary_accuracy: 0.9141 - val_precision_4: 0.9487 - val_recall_4: 0.9413\n",
      "Epoch 57/100\n",
      "815/815 [==============================] - 3s 4ms/step - loss: 12.1828 - binary_accuracy: 0.8996 - precision_4: 0.9446 - recall_4: 0.9255 - val_loss: 0.2875 - val_binary_accuracy: 0.9149 - val_precision_4: 0.9489 - val_recall_4: 0.9421\n",
      "Epoch 58/100\n",
      "815/815 [==============================] - 3s 4ms/step - loss: 12.2201 - binary_accuracy: 0.8972 - precision_4: 0.9449 - recall_4: 0.9219 - val_loss: 0.3307 - val_binary_accuracy: 0.9147 - val_precision_4: 0.9477 - val_recall_4: 0.9432\n",
      "Epoch 59/100\n",
      "815/815 [==============================] - 3s 4ms/step - loss: 12.2207 - binary_accuracy: 0.8957 - precision_4: 0.9451 - recall_4: 0.9197 - val_loss: 0.3626 - val_binary_accuracy: 0.9075 - val_precision_4: 0.9539 - val_recall_4: 0.9268\n",
      "Epoch 60/100\n",
      "815/815 [==============================] - 3s 4ms/step - loss: 12.1320 - binary_accuracy: 0.8942 - precision_4: 0.9457 - recall_4: 0.9169 - val_loss: 0.2809 - val_binary_accuracy: 0.9175 - val_precision_4: 0.9465 - val_recall_4: 0.9483\n",
      "Epoch 61/100\n",
      "815/815 [==============================] - 4s 4ms/step - loss: 12.0880 - binary_accuracy: 0.8968 - precision_4: 0.9461 - recall_4: 0.9200 - val_loss: 0.3392 - val_binary_accuracy: 0.9075 - val_precision_4: 0.9524 - val_recall_4: 0.9283\n",
      "Epoch 62/100\n",
      "815/815 [==============================] - 4s 4ms/step - loss: 12.1314 - binary_accuracy: 0.8980 - precision_4: 0.9453 - recall_4: 0.9226 - val_loss: 0.3537 - val_binary_accuracy: 0.9066 - val_precision_4: 0.9518 - val_recall_4: 0.9278\n",
      "Epoch 63/100\n",
      "815/815 [==============================] - 4s 4ms/step - loss: 11.9850 - binary_accuracy: 0.9006 - precision_4: 0.9469 - recall_4: 0.9244 - val_loss: 0.3342 - val_binary_accuracy: 0.9098 - val_precision_4: 0.9506 - val_recall_4: 0.9334\n",
      "Epoch 64/100\n",
      "815/815 [==============================] - 3s 4ms/step - loss: 12.2314 - binary_accuracy: 0.8982 - precision_4: 0.9463 - recall_4: 0.9218 - val_loss: 0.2936 - val_binary_accuracy: 0.9115 - val_precision_4: 0.9500 - val_recall_4: 0.9364\n",
      "Epoch 65/100\n",
      "815/815 [==============================] - 4s 4ms/step - loss: 12.0924 - binary_accuracy: 0.8995 - precision_4: 0.9456 - recall_4: 0.9243 - val_loss: 0.3245 - val_binary_accuracy: 0.9176 - val_precision_4: 0.9405 - val_recall_4: 0.9554\n",
      "Epoch 66/100\n",
      "815/815 [==============================] - 3s 4ms/step - loss: 12.1008 - binary_accuracy: 0.8967 - precision_4: 0.9452 - recall_4: 0.9210 - val_loss: 0.3201 - val_binary_accuracy: 0.9115 - val_precision_4: 0.9500 - val_recall_4: 0.9364\n",
      "Epoch 67/100\n",
      "815/815 [==============================] - 4s 4ms/step - loss: 12.0267 - binary_accuracy: 0.8988 - precision_4: 0.9449 - recall_4: 0.9241 - val_loss: 0.4431 - val_binary_accuracy: 0.8948 - val_precision_4: 0.9553 - val_recall_4: 0.9082\n",
      "Epoch 68/100\n",
      "815/815 [==============================] - 3s 4ms/step - loss: 11.9651 - binary_accuracy: 0.8984 - precision_4: 0.9460 - recall_4: 0.9224 - val_loss: 0.3572 - val_binary_accuracy: 0.9115 - val_precision_4: 0.9507 - val_recall_4: 0.9356\n",
      "Epoch 69/100\n",
      "815/815 [==============================] - 4s 5ms/step - loss: 11.9704 - binary_accuracy: 0.9020 - precision_4: 0.9452 - recall_4: 0.9281 - val_loss: 0.3444 - val_binary_accuracy: 0.9086 - val_precision_4: 0.9521 - val_recall_4: 0.9301\n",
      "Epoch 70/100\n",
      "815/815 [==============================] - 3s 4ms/step - loss: 11.9867 - binary_accuracy: 0.9018 - precision_4: 0.9462 - recall_4: 0.9267 - val_loss: 0.3627 - val_binary_accuracy: 0.8983 - val_precision_4: 0.9544 - val_recall_4: 0.9139\n",
      "Epoch 71/100\n",
      "815/815 [==============================] - 4s 4ms/step - loss: 11.8996 - binary_accuracy: 0.9044 - precision_4: 0.9461 - recall_4: 0.9304 - val_loss: 0.3540 - val_binary_accuracy: 0.9125 - val_precision_4: 0.9506 - val_recall_4: 0.9372\n",
      "Epoch 72/100\n",
      "815/815 [==============================] - 4s 4ms/step - loss: 11.8964 - binary_accuracy: 0.9026 - precision_4: 0.9467 - recall_4: 0.9272 - val_loss: 0.2889 - val_binary_accuracy: 0.9168 - val_precision_4: 0.9438 - val_recall_4: 0.9505\n",
      "Epoch 73/100\n",
      "815/815 [==============================] - 3s 4ms/step - loss: 12.0931 - binary_accuracy: 0.8997 - precision_4: 0.9466 - recall_4: 0.9233 - val_loss: 0.2896 - val_binary_accuracy: 0.9161 - val_precision_4: 0.9467 - val_recall_4: 0.9462\n",
      "Epoch 74/100\n",
      "815/815 [==============================] - 3s 4ms/step - loss: 11.9557 - binary_accuracy: 0.9001 - precision_4: 0.9455 - recall_4: 0.9252 - val_loss: 0.3005 - val_binary_accuracy: 0.9152 - val_precision_4: 0.9472 - val_recall_4: 0.9444\n",
      "Epoch 75/100\n",
      "815/815 [==============================] - 4s 4ms/step - loss: 11.9549 - binary_accuracy: 0.8997 - precision_4: 0.9463 - recall_4: 0.9237 - val_loss: 0.3612 - val_binary_accuracy: 0.9093 - val_precision_4: 0.9520 - val_recall_4: 0.9313\n",
      "Epoch 76/100\n",
      "815/815 [==============================] - 4s 5ms/step - loss: 11.9757 - binary_accuracy: 0.8989 - precision_4: 0.9454 - recall_4: 0.9236 - val_loss: 0.2905 - val_binary_accuracy: 0.9099 - val_precision_4: 0.9526 - val_recall_4: 0.9315\n",
      "Epoch 77/100\n",
      "815/815 [==============================] - 4s 5ms/step - loss: 11.9429 - binary_accuracy: 0.9008 - precision_4: 0.9458 - recall_4: 0.9258 - val_loss: 0.3491 - val_binary_accuracy: 0.9118 - val_precision_4: 0.9503 - val_recall_4: 0.9364\n",
      "Epoch 78/100\n",
      "815/815 [==============================] - 5s 6ms/step - loss: 11.9050 - binary_accuracy: 0.9024 - precision_4: 0.9470 - recall_4: 0.9267 - val_loss: 0.3056 - val_binary_accuracy: 0.9113 - val_precision_4: 0.9501 - val_recall_4: 0.9360\n",
      "Epoch 79/100\n",
      "815/815 [==============================] - 5s 6ms/step - loss: 11.8836 - binary_accuracy: 0.8996 - precision_4: 0.9467 - recall_4: 0.9232 - val_loss: 0.3158 - val_binary_accuracy: 0.9079 - val_precision_4: 0.9528 - val_recall_4: 0.9285\n",
      "Epoch 80/100\n",
      "815/815 [==============================] - 5s 6ms/step - loss: 11.8639 - binary_accuracy: 0.9014 - precision_4: 0.9467 - recall_4: 0.9256 - val_loss: 0.3192 - val_binary_accuracy: 0.9069 - val_precision_4: 0.9513 - val_recall_4: 0.9287\n",
      "Epoch 81/100\n",
      "815/815 [==============================] - 5s 6ms/step - loss: 11.9266 - binary_accuracy: 0.9002 - precision_4: 0.9472 - recall_4: 0.9235 - val_loss: 0.3100 - val_binary_accuracy: 0.9109 - val_precision_4: 0.9513 - val_recall_4: 0.9340\n",
      "Epoch 82/100\n",
      "815/815 [==============================] - 5s 6ms/step - loss: 11.8820 - binary_accuracy: 0.9019 - precision_4: 0.9465 - recall_4: 0.9266 - val_loss: 0.2922 - val_binary_accuracy: 0.9141 - val_precision_4: 0.9489 - val_recall_4: 0.9411\n",
      "Epoch 83/100\n",
      "815/815 [==============================] - 6s 7ms/step - loss: 11.9298 - binary_accuracy: 0.8999 - precision_4: 0.9470 - recall_4: 0.9233 - val_loss: 0.3129 - val_binary_accuracy: 0.9159 - val_precision_4: 0.9486 - val_recall_4: 0.9438\n",
      "Epoch 84/100\n",
      "815/815 [==============================] - 5s 6ms/step - loss: 11.9602 - binary_accuracy: 0.9025 - precision_4: 0.9461 - recall_4: 0.9278 - val_loss: 0.3959 - val_binary_accuracy: 0.8990 - val_precision_4: 0.9550 - val_recall_4: 0.9143\n",
      "Epoch 85/100\n",
      "815/815 [==============================] - 5s 7ms/step - loss: 11.9489 - binary_accuracy: 0.9036 - precision_4: 0.9466 - recall_4: 0.9288 - val_loss: 0.2947 - val_binary_accuracy: 0.9170 - val_precision_4: 0.9464 - val_recall_4: 0.9477\n",
      "Epoch 86/100\n",
      "815/815 [==============================] - 5s 6ms/step - loss: 11.9013 - binary_accuracy: 0.9013 - precision_4: 0.9463 - recall_4: 0.9260 - val_loss: 0.3517 - val_binary_accuracy: 0.9109 - val_precision_4: 0.9497 - val_recall_4: 0.9358\n",
      "Epoch 87/100\n",
      "815/815 [==============================] - 5s 6ms/step - loss: 12.0058 - binary_accuracy: 0.9000 - precision_4: 0.9448 - recall_4: 0.9258 - val_loss: 0.2979 - val_binary_accuracy: 0.9164 - val_precision_4: 0.9469 - val_recall_4: 0.9464\n",
      "Epoch 88/100\n",
      "815/815 [==============================] - 5s 6ms/step - loss: 11.9511 - binary_accuracy: 0.9028 - precision_4: 0.9459 - recall_4: 0.9284 - val_loss: 0.3079 - val_binary_accuracy: 0.9113 - val_precision_4: 0.9508 - val_recall_4: 0.9352\n",
      "Epoch 89/100\n",
      "815/815 [==============================] - 6s 7ms/step - loss: 11.9226 - binary_accuracy: 0.9006 - precision_4: 0.9476 - recall_4: 0.9236 - val_loss: 0.3465 - val_binary_accuracy: 0.9132 - val_precision_4: 0.9493 - val_recall_4: 0.9393\n",
      "Epoch 90/100\n",
      "815/815 [==============================] - 5s 6ms/step - loss: 11.8845 - binary_accuracy: 0.9011 - precision_4: 0.9465 - recall_4: 0.9256 - val_loss: 0.3032 - val_binary_accuracy: 0.9118 - val_precision_4: 0.9485 - val_recall_4: 0.9383\n",
      "Epoch 91/100\n",
      "815/815 [==============================] - 5s 6ms/step - loss: 11.9079 - binary_accuracy: 0.9025 - precision_4: 0.9464 - recall_4: 0.9274 - val_loss: 0.3742 - val_binary_accuracy: 0.9086 - val_precision_4: 0.9517 - val_recall_4: 0.9305\n",
      "Epoch 92/100\n",
      "815/815 [==============================] - 4s 5ms/step - loss: 12.0430 - binary_accuracy: 0.9007 - precision_4: 0.9459 - recall_4: 0.9256 - val_loss: 0.3115 - val_binary_accuracy: 0.9095 - val_precision_4: 0.9531 - val_recall_4: 0.9303\n",
      "Epoch 93/100\n",
      "815/815 [==============================] - 4s 5ms/step - loss: 11.8857 - binary_accuracy: 0.9002 - precision_4: 0.9469 - recall_4: 0.9238 - val_loss: 0.3159 - val_binary_accuracy: 0.9104 - val_precision_4: 0.9511 - val_recall_4: 0.9336\n",
      "Epoch 94/100\n",
      "815/815 [==============================] - 4s 5ms/step - loss: 11.8107 - binary_accuracy: 0.8997 - precision_4: 0.9459 - recall_4: 0.9242 - val_loss: 0.4090 - val_binary_accuracy: 0.8938 - val_precision_4: 0.9556 - val_recall_4: 0.9066\n",
      "Epoch 95/100\n",
      "815/815 [==============================] - 4s 5ms/step - loss: 11.8923 - binary_accuracy: 0.8987 - precision_4: 0.9458 - recall_4: 0.9231 - val_loss: 0.3401 - val_binary_accuracy: 0.9027 - val_precision_4: 0.9543 - val_recall_4: 0.9199\n",
      "Epoch 96/100\n",
      "815/815 [==============================] - 4s 5ms/step - loss: 11.8990 - binary_accuracy: 0.8999 - precision_4: 0.9454 - recall_4: 0.9250 - val_loss: 0.2976 - val_binary_accuracy: 0.9165 - val_precision_4: 0.9454 - val_recall_4: 0.9483\n",
      "Epoch 97/100\n",
      "815/815 [==============================] - 4s 5ms/step - loss: 11.9782 - binary_accuracy: 0.8993 - precision_4: 0.9464 - recall_4: 0.9231 - val_loss: 0.3377 - val_binary_accuracy: 0.9119 - val_precision_4: 0.9505 - val_recall_4: 0.9364\n",
      "Epoch 98/100\n",
      "815/815 [==============================] - 4s 5ms/step - loss: 11.9347 - binary_accuracy: 0.8978 - precision_4: 0.9461 - recall_4: 0.9214 - val_loss: 0.3663 - val_binary_accuracy: 0.9033 - val_precision_4: 0.9543 - val_recall_4: 0.9207\n",
      "Epoch 99/100\n",
      "815/815 [==============================] - 4s 4ms/step - loss: 11.8070 - binary_accuracy: 0.8997 - precision_4: 0.9464 - recall_4: 0.9237 - val_loss: 0.3179 - val_binary_accuracy: 0.9066 - val_precision_4: 0.9538 - val_recall_4: 0.9256\n",
      "Epoch 100/100\n",
      "815/815 [==============================] - 4s 5ms/step - loss: 11.8747 - binary_accuracy: 0.8996 - precision_4: 0.9465 - recall_4: 0.9234 - val_loss: 0.3365 - val_binary_accuracy: 0.9038 - val_precision_4: 0.9538 - val_recall_4: 0.9219\n"
     ]
    }
   ],
   "source": [
    "history_obj = model.fit(\n",
    "    x_train_table, \n",
    "    y_train_table,\n",
    "    validation_split=0.2,\n",
    "    epochs=100,\n",
    "    class_weight={0: 78, 1: 21}\n",
    ")"
   ]
  },
  {
   "cell_type": "code",
   "execution_count": 298,
   "metadata": {},
   "outputs": [
    {
     "name": "stdout",
     "output_type": "stream",
     "text": [
      "Sig: 0.78046 %\n",
      "Bak: 0.21954 %\n"
     ]
    }
   ],
   "source": [
    "label_counts = y_train_table.value_counts()\n",
    "print(f'Sig: {label_counts[1] / len(y_train_table):0.5f} %')\n",
    "print(f'Bak: {label_counts[0] / len(y_train_table):0.5f} %')"
   ]
  },
  {
   "cell_type": "code",
   "execution_count": 299,
   "metadata": {},
   "outputs": [
    {
     "name": "stdout",
     "output_type": "stream",
     "text": [
      "255/255 [==============================] - 1s 2ms/step\n"
     ]
    }
   ],
   "source": [
    "prediction = model.predict(x_test_table)"
   ]
  },
  {
   "cell_type": "code",
   "execution_count": 300,
   "metadata": {},
   "outputs": [
    {
     "data": {
      "text/plain": [
       "array([1., 1., 1., ..., 1., 1., 1.])"
      ]
     },
     "execution_count": 300,
     "metadata": {},
     "output_type": "execute_result"
    }
   ],
   "source": [
    "y_test_table.values"
   ]
  },
  {
   "cell_type": "code",
   "execution_count": 301,
   "metadata": {},
   "outputs": [
    {
     "data": {
      "text/plain": [
       "array([0.7230566 , 0.74226743, 0.91276443, ..., 0.92389464, 0.8612932 ,\n",
       "       0.20655242], dtype=float32)"
      ]
     },
     "execution_count": 301,
     "metadata": {},
     "output_type": "execute_result"
    }
   ],
   "source": [
    "prediction.flatten()"
   ]
  },
  {
   "cell_type": "code",
   "execution_count": 302,
   "metadata": {},
   "outputs": [
    {
     "data": {
      "text/plain": [
       "array([1., 1., 1., ..., 1., 1., 0.])"
      ]
     },
     "execution_count": 302,
     "metadata": {},
     "output_type": "execute_result"
    }
   ],
   "source": [
    "((prediction > 0.5) * 1.).flatten()"
   ]
  },
  {
   "cell_type": "code",
   "execution_count": 303,
   "metadata": {},
   "outputs": [
    {
     "data": {
      "text/plain": [
       "array([1., 1., 1., ..., 1., 1., 0.])"
      ]
     },
     "execution_count": 303,
     "metadata": {},
     "output_type": "execute_result"
    }
   ],
   "source": [
    "y_test_table.values * ((prediction > 0.5) * 1.).flatten()"
   ]
  },
  {
   "cell_type": "code",
   "execution_count": 304,
   "metadata": {},
   "outputs": [
    {
     "data": {
      "text/plain": [
       "85424      True\n",
       "60108      True\n",
       "137432     True\n",
       "102209     True\n",
       "141044     True\n",
       "          ...  \n",
       "105050     True\n",
       "168766     True\n",
       "49362      True\n",
       "43         True\n",
       "85382     False\n",
       "Name: ana.mc.flag.isNuMuCC, Length: 8147, dtype: bool"
      ]
     },
     "execution_count": 304,
     "metadata": {},
     "output_type": "execute_result"
    }
   ],
   "source": [
    "y_test_table == ((prediction > 0.5) * 1.).flatten()"
   ]
  },
  {
   "cell_type": "code",
   "execution_count": 305,
   "metadata": {},
   "outputs": [],
   "source": [
    "threshold_values = np.linspace(0, 1, 100)\n",
    "efficiency_arr = []\n",
    "accuracy_arr = []\n",
    "\n",
    "for t in threshold_values:\n",
    "    predicted_vals = ((prediction > t) * 1.).flatten()\n",
    "    # Efficiency\n",
    "    correct_predictions = y_test_table.values * predicted_vals\n",
    "    predicted_signals = len(correct_predictions[correct_predictions == 1.])\n",
    "    efficiency = predicted_signals / len(y_test_table.values)\n",
    "    efficiency_arr.append(efficiency)\n",
    "    # Accuracy\n",
    "    bool_arr = (y_test_table == predicted_vals) * 1.\n",
    "    acc = len(bool_arr[bool_arr > 0]) / len(bool_arr)\n",
    "    accuracy_arr.append(acc)\n"
   ]
  },
  {
   "cell_type": "code",
   "execution_count": 306,
   "metadata": {},
   "outputs": [
    {
     "data": {
      "image/png": "[encoded data removed]",
      "text/plain": [
       "<Figure size 640x480 with 1 Axes>"
      ]
     },
     "metadata": {},
     "output_type": "display_data"
    }
   ],
   "source": [
    "plt.plot(threshold_values, efficiency_arr, label='efficiency')\n",
    "plt.plot(threshold_values, accuracy_arr, label='accuracy')\n",
    "plt.legend();"
   ]
  },
  {
   "cell_type": "code",
   "execution_count": 307,
   "metadata": {},
   "outputs": [],
   "source": [
    "b_arr = []\n",
    "s_arr = []\n",
    "\n",
    "for t in threshold_values:\n",
    "    sel = y_test_table.reset_index(drop=True)[prediction.flatten() > t]\n",
    "    s_arr.append(sel.value_counts().get(1) or 0)\n",
    "    b_arr.append(sel.value_counts().get(0) or 0)"
   ]
  },
  {
   "cell_type": "code",
   "execution_count": 308,
   "metadata": {},
   "outputs": [
    {
     "data": {
      "image/png": "[encoded data removed]",
      "text/plain": [
       "<Figure size 640x480 with 1 Axes>"
      ]
     },
     "metadata": {},
     "output_type": "display_data"
    }
   ],
   "source": [
    "plt.plot(threshold_values, s_arr, label='sig')\n",
    "plt.plot(threshold_values, b_arr, label='bak')\n",
    "plt.legend();"
   ]
  },
  {
   "cell_type": "code",
   "execution_count": 309,
   "metadata": {},
   "outputs": [
    {
     "data": {
      "text/plain": [
       "ana.mc.flag.isNuMuCC\n",
       "1.0    6319\n",
       "0.0    1828\n",
       "Name: count, dtype: int64"
      ]
     },
     "execution_count": 309,
     "metadata": {},
     "output_type": "execute_result"
    }
   ],
   "source": [
    "y_test_table.value_counts()"
   ]
  },
  {
   "cell_type": "code",
   "execution_count": 314,
   "metadata": {},
   "outputs": [
    {
     "data": {
      "text/plain": [
       "5865"
      ]
     },
     "execution_count": 314,
     "metadata": {},
     "output_type": "execute_result"
    }
   ],
   "source": [
    "_a = ((prediction > 0.7) * 1.).flatten() \n",
    "len(_a[_a == 1])"
   ]
  },
  {
   "cell_type": "code",
   "execution_count": 311,
   "metadata": {},
   "outputs": [],
   "source": [
    "import labbook"
   ]
  },
  {
   "cell_type": "code",
   "execution_count": 315,
   "metadata": {},
   "outputs": [
    {
     "name": "stdout",
     "output_type": "stream",
     "text": [
      "LabBook | 20-02-2024 11:11 | Log saved!\n"
     ]
    }
   ],
   "source": [
    "labbook.add_log(\n",
    "    comments='Classifier #3',\n",
    "    config_dict=config,\n",
    "    train_history=history_obj,\n",
    "    model=model,\n",
    "    seralise_objects=None,\n",
    "    lb_dir='./../../labbook/'\n",
    ")"
   ]
  },
  {
   "cell_type": "code",
   "execution_count": null,
   "metadata": {},
   "outputs": [],
   "source": []
  }
 ],
 "metadata": {
  "kernelspec": {
   "display_name": ".venv",
   "language": "python",
   "name": "python3"
  },
  "language_info": {
   "codemirror_mode": {
    "name": "ipython",
    "version": 3
   },
   "file_extension": ".py",
   "mimetype": "text/x-python",
   "name": "python",
   "nbconvert_exporter": "python",
   "pygments_lexer": "ipython3",
   "version": "3.10.11"
  }
 },
 "nbformat": 4,
 "nbformat_minor": 2
}
