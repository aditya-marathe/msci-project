{
 "cells": [
  {
   "cell_type": "markdown",
   "metadata": {},
   "source": [
    "# CVN Classifier\n",
    "\n",
    "----\n",
    "\n",
    "Aditya Marathe"
   ]
  },
  {
   "cell_type": "markdown",
   "metadata": {},
   "source": [
    "## Imports"
   ]
  },
  {
   "cell_type": "code",
   "execution_count": 1,
   "metadata": {},
   "outputs": [
    {
     "ename": "",
     "evalue": "",
     "output_type": "error",
     "traceback": [
      "\u001b[1;31mThe Kernel crashed while executing code in the current cell or a previous cell. \n",
      "\u001b[1;31mPlease review the code in the cell(s) to identify a possible cause of the failure. \n",
      "\u001b[1;31mClick <a href='https://aka.ms/vscodeJupyterKernelCrash'>here</a> for more info. \n",
      "\u001b[1;31mView Jupyter <a href='command:jupyter.viewOutput'>log</a> for further details."
     ]
    }
   ],
   "source": [
    "%matplotlib inline\n",
    "\n",
    "import sys\n",
    "\n",
    "import numpy as np\n",
    "\n",
    "import pandas as pd\n",
    "\n",
    "from sklearn.preprocessing import StandardScaler\n",
    "\n",
    "import matplotlib.pyplot as plt"
   ]
  },
  {
   "cell_type": "markdown",
   "metadata": {},
   "source": [
    "**Local:**"
   ]
  },
  {
   "cell_type": "code",
   "execution_count": null,
   "metadata": {},
   "outputs": [],
   "source": [
    "sys.path.insert(1, './../')\n",
    "\n",
    "import ana\n",
    "import plotting\n",
    "import labbook"
   ]
  },
  {
   "cell_type": "markdown",
   "metadata": {},
   "source": [
    "**Version:**"
   ]
  },
  {
   "cell_type": "code",
   "execution_count": null,
   "metadata": {},
   "outputs": [
    {
     "name": "stdout",
     "output_type": "stream",
     "text": [
      "Python 3.10.11 (tags/v3.10.11:7d4cc5a, Apr  5 2023, 00:38:17) [MSC v.1929 64 bit (AMD64)]\n",
      "\n",
      "NumPy 1.26.4\n",
      "Sci-kit Learn 1.4.0\n"
     ]
    }
   ],
   "source": [
    "print(f'Python {sys.version}\\n')\n",
    "print(f'NumPy {np.__version__}')"
   ]
  },
  {
   "cell_type": "markdown",
   "metadata": {},
   "source": [
    "## Configuration"
   ]
  },
  {
   "cell_type": "code",
   "execution_count": null,
   "metadata": {},
   "outputs": [],
   "source": [
    "config = {\n",
    "    'Cuts': [\n",
    "        'Detector Quality',\n",
    "        'Data Quality',\n",
    "        'Cosmic Rej.',\n",
    "        'Veto',\n",
    "        'CVN PID Score'\n",
    "        # 'Not Containment'\n",
    "    ],\n",
    "    'Transforms': [\n",
    "        'tf_290124_positive_energies',\n",
    "        'tf_290124_valid_pid',\n",
    "        'tf_280224_encode_event_type',\n",
    "        'tf_280224_class_balance'\n",
    "    ],\n",
    "    'TestingTransforms': [\n",
    "        'tf_290124_positive_energies',\n",
    "        'tf_290124_valid_pid',\n",
    "        'tf_120224_first_prong',\n",
    "        'tf_280224_encode_event_type'\n",
    "    ],\n",
    "    'XDataCols': [\n",
    "        # Loose pre-selection IDs\n",
    "        'rec.sel.cvnloosepreselptp.cosmicid',\n",
    "        'rec.sel.cvnloosepreselptp.ncid',\n",
    "        'rec.sel.cvnloosepreselptp.numuid',\n",
    "        # REM and SCP IDs\n",
    "        'rec.sel.remid.pid',\n",
    "        'rec.sel.scann.scpid',\n",
    "        # Muon energies\n",
    "        'rec.energy.numu.lstmmuon'\n",
    "    ],\n",
    "    'YDataCols': [\n",
    "        'ana.cat.event_type'\n",
    "    ]\n",
    "}"
   ]
  },
  {
   "cell_type": "markdown",
   "metadata": {},
   "source": [
    "## Loading training dataset"
   ]
  },
  {
   "cell_type": "code",
   "execution_count": null,
   "metadata": {},
   "outputs": [
    {
     "name": "stdout",
     "output_type": "stream",
     "text": [
      "Datasets | Found the following: MINI_DATA_DIR, DATA_V2_DIR, DATA_V3_DIR, REALLY_MINI_DIR, COPYMERGED_C8_DIR, COPYMERGED_C9_DIR, COPYMERGED_C10_DIR, COPYMERGED_C11_DIR, COPYMERGED_C13_DIR, COPYMERGED_C15_DIR, COPYMERGED_C16_DIR, COPYMERGED_C17_DIR, COPYMERGED_C19_DIR, COPYMERGED_C20_DIR, COPYMERGED_C21_DIR, COPYMERGED_C22_DIR\n"
     ]
    }
   ],
   "source": [
    "ds = ana.Datasets()"
   ]
  },
  {
   "cell_type": "code",
   "execution_count": null,
   "metadata": {},
   "outputs": [
    {
     "name": "stdout",
     "output_type": "stream",
     "text": [
      "NOvAData | Loading tables from copymerged HDF5 files...\n",
      "NOvAData | Loaded table from copymerged HDF5 files (1 / 7).\n",
      "NOvAData | Loaded table from copymerged HDF5 files (2 / 7).\n",
      "NOvAData | Loaded table from copymerged HDF5 files (3 / 7).\n",
      "NOvAData | Loaded table from copymerged HDF5 files (4 / 7).\n",
      "NOvAData | Loaded table from copymerged HDF5 files (5 / 7).\n",
      "NOvAData | Loaded table from copymerged HDF5 files (6 / 7).\n",
      "NOvAData | Loaded table from copymerged HDF5 files (7 / 7).\n",
      "NOvAData | Initialised NOvAData(features=54, events=1_094_528).\n"
     ]
    }
   ],
   "source": [
    "data = ana.NOvAData.init_from_copymerge_h5(\n",
    "    h5dirs=[\n",
    "        ds.COPYMERGED_C8_DIR,  # type: ignore\n",
    "        ds.COPYMERGED_C9_DIR,  # type: ignore\n",
    "        ds.COPYMERGED_C10_DIR,  # type: ignore\n",
    "        ds.COPYMERGED_C11_DIR,  # type: ignore\n",
    "        ds.COPYMERGED_C13_DIR,  # type: ignore\n",
    "        ds.COPYMERGED_C15_DIR,  # type: ignore\n",
    "        ds.COPYMERGED_C16_DIR  # type: ignore\n",
    "    ]\n",
    ")"
   ]
  },
  {
   "cell_type": "code",
   "execution_count": null,
   "metadata": {},
   "outputs": [
    {
     "name": "stdout",
     "output_type": "stream",
     "text": [
      "NOvAData | Filled MC truth flags.\n",
      "NOvAData | Filled track kinematics.\n",
      "NOvAData | Filled categorical data.\n"
     ]
    }
   ],
   "source": [
    "data.fill_ana_flags(inplace=True)\n",
    "data.fill_ana_track_kinematics(inplace=True)\n",
    "data.fill_categorical(inplace=True)"
   ]
  },
  {
   "cell_type": "code",
   "execution_count": null,
   "metadata": {},
   "outputs": [],
   "source": [
    "cuts = ana.Cuts.init_nova_cuts()"
   ]
  },
  {
   "cell_type": "code",
   "execution_count": null,
   "metadata": {},
   "outputs": [
    {
     "name": "stdout",
     "output_type": "stream",
     "text": [
      "Cuts     | Applied 'Detector Quality' cut (1_094_528 -> 919_711 events).\n",
      "Cuts     | Applied 'Data Quality' cut (919_711 -> 919_688 events).\n",
      "Cuts     | Applied 'Cosmic Rej.' cut (919_688 -> 351_421 events).\n",
      "Cuts     | Applied 'Veto' cut (351_421 -> 313_034 events).\n",
      "Cuts     | Applied 'CVN PID Score' cut (313_034 -> 196_427 events).\n",
      "Cuts     | Applied 'Containment' cut (196_427 -> 105_055 events).\n"
     ]
    }
   ],
   "source": [
    "# Cuts\n",
    "data.table = cuts.apply_cuts(config['Cuts'], data.table)\n",
    "# data.table = cuts.apply_cut('Containment', data.table, passed=False)\n"
   ]
  },
  {
   "cell_type": "code",
   "execution_count": null,
   "metadata": {},
   "outputs": [
    {
     "name": "stdout",
     "output_type": "stream",
     "text": [
      "NOvAData | Applied a transform which cuts out the negative energies caused by issues with the reco. models.\n",
      "NOvAData | Applied a transform which ensures that the PID score is between 0 and 1.\n",
      "NOvAData | Applied a transform which encodes the event type as 1 for (A-)NuMu CC and 0 for background.\n",
      "NOvAData | Applied a transform which balances the number of events for each class.\n"
     ]
    }
   ],
   "source": [
    "# Transforms\n",
    "data.apply_transforms(config['Transforms'], inplace=True)"
   ]
  },
  {
   "cell_type": "code",
   "execution_count": null,
   "metadata": {},
   "outputs": [
    {
     "data": {
      "text/html": [
       "<div>\n",
       "<style scoped>\n",
       "    .dataframe tbody tr th:only-of-type {\n",
       "        vertical-align: middle;\n",
       "    }\n",
       "\n",
       "    .dataframe tbody tr th {\n",
       "        vertical-align: top;\n",
       "    }\n",
       "\n",
       "    .dataframe thead th {\n",
       "        text-align: right;\n",
       "    }\n",
       "</style>\n",
       "<table border=\"1\" class=\"dataframe\">\n",
       "  <thead>\n",
       "    <tr style=\"text-align: right;\">\n",
       "      <th></th>\n",
       "      <th></th>\n",
       "      <th></th>\n",
       "      <th></th>\n",
       "      <th></th>\n",
       "      <th></th>\n",
       "      <th>rec.energy.numu.E</th>\n",
       "      <th>rec.energy.numu.calccE</th>\n",
       "      <th>rec.energy.numu.hadcalE</th>\n",
       "      <th>rec.energy.numu.hadtrkE</th>\n",
       "      <th>rec.energy.numu.lstmmuon</th>\n",
       "      <th>rec.energy.numu.lstmnu</th>\n",
       "      <th>rec.energy.numu.regcvnhadE</th>\n",
       "      <th>rec.energy.numu.trkccE</th>\n",
       "      <th>rec.energy.numu.recomuonE</th>\n",
       "      <th>rec.energy.numu.hadclust.calE</th>\n",
       "      <th>...</th>\n",
       "      <th>ana.mc.flag.isANuMuCC</th>\n",
       "      <th>ana.mc.flag.isNuECC</th>\n",
       "      <th>ana.mc.flag.isANuECC</th>\n",
       "      <th>ana.trk.kalman.tracks.cosBeam</th>\n",
       "      <th>ana.trk.kalman.tracks.PtToPmu</th>\n",
       "      <th>ana.trk.kalman.tracks.Pmu</th>\n",
       "      <th>ana.trk.kalman.tracks.Pt</th>\n",
       "      <th>ana.trk.kalman.tracks.Qsquared</th>\n",
       "      <th>ana.trk.kalman.tracks.W</th>\n",
       "      <th>ana.cat.event_type</th>\n",
       "    </tr>\n",
       "    <tr>\n",
       "      <th>run</th>\n",
       "      <th>subrun</th>\n",
       "      <th>cycle</th>\n",
       "      <th>batch</th>\n",
       "      <th>evt</th>\n",
       "      <th>subevt</th>\n",
       "      <th></th>\n",
       "      <th></th>\n",
       "      <th></th>\n",
       "      <th></th>\n",
       "      <th></th>\n",
       "      <th></th>\n",
       "      <th></th>\n",
       "      <th></th>\n",
       "      <th></th>\n",
       "      <th></th>\n",
       "      <th></th>\n",
       "      <th></th>\n",
       "      <th></th>\n",
       "      <th></th>\n",
       "      <th></th>\n",
       "      <th></th>\n",
       "      <th></th>\n",
       "      <th></th>\n",
       "      <th></th>\n",
       "      <th></th>\n",
       "      <th></th>\n",
       "    </tr>\n",
       "  </thead>\n",
       "  <tbody>\n",
       "    <tr>\n",
       "      <th rowspan=\"2\" valign=\"top\">14746</th>\n",
       "      <th rowspan=\"2\" valign=\"top\">41</th>\n",
       "      <th rowspan=\"2\" valign=\"top\">0</th>\n",
       "      <th rowspan=\"2\" valign=\"top\">0</th>\n",
       "      <th>173</th>\n",
       "      <th>1</th>\n",
       "      <td>0.822706</td>\n",
       "      <td>0.816658</td>\n",
       "      <td>0.004180</td>\n",
       "      <td>0.009910</td>\n",
       "      <td>0.787001</td>\n",
       "      <td>0.870839</td>\n",
       "      <td>0.074651</td>\n",
       "      <td>0.822706</td>\n",
       "      <td>0.783632</td>\n",
       "      <td>0.007440</td>\n",
       "      <td>...</td>\n",
       "      <td>False</td>\n",
       "      <td>False</td>\n",
       "      <td>False</td>\n",
       "      <td>[0.93944854]</td>\n",
       "      <td>[0.34269005]</td>\n",
       "      <td>0.779876</td>\n",
       "      <td>[0.2672558]</td>\n",
       "      <td>[0.083492205]</td>\n",
       "      <td>[0.9768258]</td>\n",
       "      <td>0</td>\n",
       "    </tr>\n",
       "    <tr>\n",
       "      <th>652</th>\n",
       "      <th>1</th>\n",
       "      <td>0.822706</td>\n",
       "      <td>0.816658</td>\n",
       "      <td>0.004180</td>\n",
       "      <td>0.009910</td>\n",
       "      <td>0.787001</td>\n",
       "      <td>0.870839</td>\n",
       "      <td>0.074651</td>\n",
       "      <td>0.822706</td>\n",
       "      <td>0.783632</td>\n",
       "      <td>0.007440</td>\n",
       "      <td>...</td>\n",
       "      <td>False</td>\n",
       "      <td>False</td>\n",
       "      <td>False</td>\n",
       "      <td>[0.93944854]</td>\n",
       "      <td>[0.34269005]</td>\n",
       "      <td>0.779876</td>\n",
       "      <td>[0.2672558]</td>\n",
       "      <td>[0.083492205]</td>\n",
       "      <td>[0.9768258]</td>\n",
       "      <td>0</td>\n",
       "    </tr>\n",
       "    <tr>\n",
       "      <th rowspan=\"2\" valign=\"top\">14750</th>\n",
       "      <th rowspan=\"2\" valign=\"top\">20</th>\n",
       "      <th rowspan=\"2\" valign=\"top\">0</th>\n",
       "      <th rowspan=\"2\" valign=\"top\">0</th>\n",
       "      <th>699</th>\n",
       "      <th>1</th>\n",
       "      <td>1.001116</td>\n",
       "      <td>1.070769</td>\n",
       "      <td>0.190039</td>\n",
       "      <td>0.024564</td>\n",
       "      <td>0.554846</td>\n",
       "      <td>0.997018</td>\n",
       "      <td>0.612823</td>\n",
       "      <td>1.001116</td>\n",
       "      <td>0.560385</td>\n",
       "      <td>0.338270</td>\n",
       "      <td>...</td>\n",
       "      <td>False</td>\n",
       "      <td>False</td>\n",
       "      <td>False</td>\n",
       "      <td>[0.9324372]</td>\n",
       "      <td>[0.3613321]</td>\n",
       "      <td>0.544693</td>\n",
       "      <td>[0.19681512]</td>\n",
       "      <td>[0.082464255]</td>\n",
       "      <td>[1.2757915]</td>\n",
       "      <td>0</td>\n",
       "    </tr>\n",
       "    <tr>\n",
       "      <th>793</th>\n",
       "      <th>2</th>\n",
       "      <td>2.867611</td>\n",
       "      <td>3.288869</td>\n",
       "      <td>0.728458</td>\n",
       "      <td>0.010688</td>\n",
       "      <td>2.563976</td>\n",
       "      <td>3.151421</td>\n",
       "      <td>0.924363</td>\n",
       "      <td>2.867611</td>\n",
       "      <td>1.465072</td>\n",
       "      <td>1.296655</td>\n",
       "      <td>...</td>\n",
       "      <td>False</td>\n",
       "      <td>False</td>\n",
       "      <td>False</td>\n",
       "      <td>[0.7390402, 0.28997177]</td>\n",
       "      <td>[0.6736613, 0.9570352]</td>\n",
       "      <td>2.561798</td>\n",
       "      <td>[1.7257842, 2.451731]</td>\n",
       "      <td>[4.2161794, 11.467112]</td>\n",
       "      <td>[nan, nan]</td>\n",
       "      <td>0</td>\n",
       "    </tr>\n",
       "    <tr>\n",
       "      <th>14754</th>\n",
       "      <th>16</th>\n",
       "      <th>0</th>\n",
       "      <th>0</th>\n",
       "      <th>461</th>\n",
       "      <th>2</th>\n",
       "      <td>1.859418</td>\n",
       "      <td>1.658546</td>\n",
       "      <td>0.022085</td>\n",
       "      <td>0.007007</td>\n",
       "      <td>1.886155</td>\n",
       "      <td>2.024810</td>\n",
       "      <td>0.094978</td>\n",
       "      <td>1.859418</td>\n",
       "      <td>1.790292</td>\n",
       "      <td>0.039311</td>\n",
       "      <td>...</td>\n",
       "      <td>False</td>\n",
       "      <td>False</td>\n",
       "      <td>False</td>\n",
       "      <td>[0.9914725]</td>\n",
       "      <td>[0.13031621]</td>\n",
       "      <td>1.883193</td>\n",
       "      <td>[0.2454106]</td>\n",
       "      <td>[0.065862425]</td>\n",
       "      <td>[1.0366701]</td>\n",
       "      <td>0</td>\n",
       "    </tr>\n",
       "  </tbody>\n",
       "</table>\n",
       "<p>5 rows × 71 columns</p>\n",
       "</div>"
      ],
      "text/plain": [
       "                                     rec.energy.numu.E  \\\n",
       "run   subrun cycle batch evt subevt                      \n",
       "14746 41     0     0     173 1                0.822706   \n",
       "                         652 1                0.822706   \n",
       "14750 20     0     0     699 1                1.001116   \n",
       "                         793 2                2.867611   \n",
       "14754 16     0     0     461 2                1.859418   \n",
       "\n",
       "                                     rec.energy.numu.calccE  \\\n",
       "run   subrun cycle batch evt subevt                           \n",
       "14746 41     0     0     173 1                     0.816658   \n",
       "                         652 1                     0.816658   \n",
       "14750 20     0     0     699 1                     1.070769   \n",
       "                         793 2                     3.288869   \n",
       "14754 16     0     0     461 2                     1.658546   \n",
       "\n",
       "                                     rec.energy.numu.hadcalE  \\\n",
       "run   subrun cycle batch evt subevt                            \n",
       "14746 41     0     0     173 1                      0.004180   \n",
       "                         652 1                      0.004180   \n",
       "14750 20     0     0     699 1                      0.190039   \n",
       "                         793 2                      0.728458   \n",
       "14754 16     0     0     461 2                      0.022085   \n",
       "\n",
       "                                     rec.energy.numu.hadtrkE  \\\n",
       "run   subrun cycle batch evt subevt                            \n",
       "14746 41     0     0     173 1                      0.009910   \n",
       "                         652 1                      0.009910   \n",
       "14750 20     0     0     699 1                      0.024564   \n",
       "                         793 2                      0.010688   \n",
       "14754 16     0     0     461 2                      0.007007   \n",
       "\n",
       "                                     rec.energy.numu.lstmmuon  \\\n",
       "run   subrun cycle batch evt subevt                             \n",
       "14746 41     0     0     173 1                       0.787001   \n",
       "                         652 1                       0.787001   \n",
       "14750 20     0     0     699 1                       0.554846   \n",
       "                         793 2                       2.563976   \n",
       "14754 16     0     0     461 2                       1.886155   \n",
       "\n",
       "                                     rec.energy.numu.lstmnu  \\\n",
       "run   subrun cycle batch evt subevt                           \n",
       "14746 41     0     0     173 1                     0.870839   \n",
       "                         652 1                     0.870839   \n",
       "14750 20     0     0     699 1                     0.997018   \n",
       "                         793 2                     3.151421   \n",
       "14754 16     0     0     461 2                     2.024810   \n",
       "\n",
       "                                     rec.energy.numu.regcvnhadE  \\\n",
       "run   subrun cycle batch evt subevt                               \n",
       "14746 41     0     0     173 1                         0.074651   \n",
       "                         652 1                         0.074651   \n",
       "14750 20     0     0     699 1                         0.612823   \n",
       "                         793 2                         0.924363   \n",
       "14754 16     0     0     461 2                         0.094978   \n",
       "\n",
       "                                     rec.energy.numu.trkccE  \\\n",
       "run   subrun cycle batch evt subevt                           \n",
       "14746 41     0     0     173 1                     0.822706   \n",
       "                         652 1                     0.822706   \n",
       "14750 20     0     0     699 1                     1.001116   \n",
       "                         793 2                     2.867611   \n",
       "14754 16     0     0     461 2                     1.859418   \n",
       "\n",
       "                                     rec.energy.numu.recomuonE  \\\n",
       "run   subrun cycle batch evt subevt                              \n",
       "14746 41     0     0     173 1                        0.783632   \n",
       "                         652 1                        0.783632   \n",
       "14750 20     0     0     699 1                        0.560385   \n",
       "                         793 2                        1.465072   \n",
       "14754 16     0     0     461 2                        1.790292   \n",
       "\n",
       "                                     rec.energy.numu.hadclust.calE  ...  \\\n",
       "run   subrun cycle batch evt subevt                                 ...   \n",
       "14746 41     0     0     173 1                            0.007440  ...   \n",
       "                         652 1                            0.007440  ...   \n",
       "14750 20     0     0     699 1                            0.338270  ...   \n",
       "                         793 2                            1.296655  ...   \n",
       "14754 16     0     0     461 2                            0.039311  ...   \n",
       "\n",
       "                                     ana.mc.flag.isANuMuCC  \\\n",
       "run   subrun cycle batch evt subevt                          \n",
       "14746 41     0     0     173 1                       False   \n",
       "                         652 1                       False   \n",
       "14750 20     0     0     699 1                       False   \n",
       "                         793 2                       False   \n",
       "14754 16     0     0     461 2                       False   \n",
       "\n",
       "                                     ana.mc.flag.isNuECC  \\\n",
       "run   subrun cycle batch evt subevt                        \n",
       "14746 41     0     0     173 1                     False   \n",
       "                         652 1                     False   \n",
       "14750 20     0     0     699 1                     False   \n",
       "                         793 2                     False   \n",
       "14754 16     0     0     461 2                     False   \n",
       "\n",
       "                                     ana.mc.flag.isANuECC  \\\n",
       "run   subrun cycle batch evt subevt                         \n",
       "14746 41     0     0     173 1                      False   \n",
       "                         652 1                      False   \n",
       "14750 20     0     0     699 1                      False   \n",
       "                         793 2                      False   \n",
       "14754 16     0     0     461 2                      False   \n",
       "\n",
       "                                     ana.trk.kalman.tracks.cosBeam  \\\n",
       "run   subrun cycle batch evt subevt                                  \n",
       "14746 41     0     0     173 1                        [0.93944854]   \n",
       "                         652 1                        [0.93944854]   \n",
       "14750 20     0     0     699 1                         [0.9324372]   \n",
       "                         793 2             [0.7390402, 0.28997177]   \n",
       "14754 16     0     0     461 2                         [0.9914725]   \n",
       "\n",
       "                                     ana.trk.kalman.tracks.PtToPmu  \\\n",
       "run   subrun cycle batch evt subevt                                  \n",
       "14746 41     0     0     173 1                        [0.34269005]   \n",
       "                         652 1                        [0.34269005]   \n",
       "14750 20     0     0     699 1                         [0.3613321]   \n",
       "                         793 2              [0.6736613, 0.9570352]   \n",
       "14754 16     0     0     461 2                        [0.13031621]   \n",
       "\n",
       "                                     ana.trk.kalman.tracks.Pmu  \\\n",
       "run   subrun cycle batch evt subevt                              \n",
       "14746 41     0     0     173 1                        0.779876   \n",
       "                         652 1                        0.779876   \n",
       "14750 20     0     0     699 1                        0.544693   \n",
       "                         793 2                        2.561798   \n",
       "14754 16     0     0     461 2                        1.883193   \n",
       "\n",
       "                                     ana.trk.kalman.tracks.Pt  \\\n",
       "run   subrun cycle batch evt subevt                             \n",
       "14746 41     0     0     173 1                    [0.2672558]   \n",
       "                         652 1                    [0.2672558]   \n",
       "14750 20     0     0     699 1                   [0.19681512]   \n",
       "                         793 2          [1.7257842, 2.451731]   \n",
       "14754 16     0     0     461 2                    [0.2454106]   \n",
       "\n",
       "                                     ana.trk.kalman.tracks.Qsquared  \\\n",
       "run   subrun cycle batch evt subevt                                   \n",
       "14746 41     0     0     173 1                        [0.083492205]   \n",
       "                         652 1                        [0.083492205]   \n",
       "14750 20     0     0     699 1                        [0.082464255]   \n",
       "                         793 2               [4.2161794, 11.467112]   \n",
       "14754 16     0     0     461 2                        [0.065862425]   \n",
       "\n",
       "                                     ana.trk.kalman.tracks.W  \\\n",
       "run   subrun cycle batch evt subevt                            \n",
       "14746 41     0     0     173 1                   [0.9768258]   \n",
       "                         652 1                   [0.9768258]   \n",
       "14750 20     0     0     699 1                   [1.2757915]   \n",
       "                         793 2                    [nan, nan]   \n",
       "14754 16     0     0     461 2                   [1.0366701]   \n",
       "\n",
       "                                     ana.cat.event_type  \n",
       "run   subrun cycle batch evt subevt                      \n",
       "14746 41     0     0     173 1                        0  \n",
       "                         652 1                        0  \n",
       "14750 20     0     0     699 1                        0  \n",
       "                         793 2                        0  \n",
       "14754 16     0     0     461 2                        0  \n",
       "\n",
       "[5 rows x 71 columns]"
      ]
     },
     "metadata": {},
     "output_type": "display_data"
    }
   ],
   "source": [
    "data.table.head()"
   ]
  },
  {
   "cell_type": "code",
   "execution_count": null,
   "metadata": {},
   "outputs": [],
   "source": [
    "std_scaler = StandardScaler()\n",
    "\n",
    "scale_vars = [\n",
    "    'rec.energy.numu.lstmmuon'\n",
    "]"
   ]
  },
  {
   "cell_type": "code",
   "execution_count": null,
   "metadata": {},
   "outputs": [],
   "source": [
    "tt_split = data.train_test_split(\n",
    "    x_cols=config['XDataCols'],\n",
    "    y_cols=config['YDataCols'],\n",
    "    test_size=0.3\n",
    ")\n",
    "\n",
    "tt_split['XTrain'].loc[:, scale_vars] = std_scaler.fit_transform(\n",
    "    tt_split['XTrain'][scale_vars]\n",
    ")\n",
    "tt_split['XTest'].loc[:, scale_vars] = std_scaler.transform(\n",
    "    tt_split['XTest'][scale_vars]\n",
    ")\n",
    "tt_split['YTrain'] = tt_split['YTrain'].to_numpy().flatten()\n",
    "tt_split['YTest'] = tt_split['YTest'].to_numpy().flatten()"
   ]
  },
  {
   "cell_type": "markdown",
   "metadata": {},
   "source": [
    "## Loading testing dataset"
   ]
  },
  {
   "cell_type": "code",
   "execution_count": null,
   "metadata": {},
   "outputs": [
    {
     "name": "stdout",
     "output_type": "stream",
     "text": [
      "NOvAData | Loading tables from copymerged HDF5 files...\n",
      "NOvAData | Loaded table from copymerged HDF5 files (1 / 4).\n",
      "NOvAData | Loaded table from copymerged HDF5 files (2 / 4).\n",
      "NOvAData | Loaded table from copymerged HDF5 files (3 / 4).\n",
      "NOvAData | Loaded table from copymerged HDF5 files (4 / 4).\n",
      "NOvAData | Initialised NOvAData(features=54, events=671_350).\n"
     ]
    }
   ],
   "source": [
    "test_data = ana.NOvAData.init_from_copymerge_h5(\n",
    "    h5dirs=[\n",
    "        ds.COPYMERGED_C19_DIR,  # type: ignore\n",
    "        ds.COPYMERGED_C20_DIR,  # type: ignore\n",
    "        ds.COPYMERGED_C21_DIR,  # type: ignore\n",
    "        ds.COPYMERGED_C22_DIR  # type: ignore\n",
    "    ]\n",
    ")"
   ]
  },
  {
   "cell_type": "code",
   "execution_count": null,
   "metadata": {},
   "outputs": [
    {
     "name": "stdout",
     "output_type": "stream",
     "text": [
      "NOvAData | Filled MC truth flags.\n",
      "NOvAData | Filled categorical data.\n",
      "NOvAData | Filled track kinematics.\n"
     ]
    }
   ],
   "source": [
    "test_data.fill_ana_flags(inplace=True)\n",
    "test_data.fill_categorical(inplace=True)\n",
    "test_data.fill_ana_track_kinematics(inplace=True)"
   ]
  },
  {
   "cell_type": "code",
   "execution_count": null,
   "metadata": {},
   "outputs": [
    {
     "name": "stdout",
     "output_type": "stream",
     "text": [
      "NOvAData | Applied a transform which cuts out the negative energies caused by issues with the reco. models.\n",
      "NOvAData | Applied a transform which ensures that the PID score is between 0 and 1.\n",
      "NOvAData | Applied a transform which only keeps data for the first prong.\n",
      "NOvAData | Applied a transform which encodes the event type as 1 for (A-)NuMu CC and 0 for background.\n"
     ]
    }
   ],
   "source": [
    "test_data.apply_transforms(config['TestingTransforms'], inplace=True)"
   ]
  },
  {
   "cell_type": "code",
   "execution_count": null,
   "metadata": {},
   "outputs": [
    {
     "name": "stdout",
     "output_type": "stream",
     "text": [
      "Cuts     | Applied 'Detector Quality' cut (275_579 -> 264_421 events).\n",
      "Cuts     | Applied 'Data Quality' cut (264_421 -> 264_421 events).\n",
      "Cuts     | Applied 'Cosmic Rej.' cut (264_421 -> 149_447 events).\n",
      "Cuts     | Applied 'Veto' cut (149_447 -> 141_050 events).\n",
      "Cuts     | Applied 'CVN PID Score' cut (141_050 -> 95_669 events).\n",
      "Cuts     | Applied 'Containment' cut (95_669 -> 47_822 events).\n"
     ]
    }
   ],
   "source": [
    "# Cuts\n",
    "fail_cont_table = cuts.apply_cuts(config['Cuts'], test_data.table)\n",
    "# fail_cont_table = cuts.apply_cut('Containment', fail_cont_table, passed=False)"
   ]
  },
  {
   "cell_type": "code",
   "execution_count": null,
   "metadata": {},
   "outputs": [
    {
     "name": "stdout",
     "output_type": "stream",
     "text": [
      "Cuts     | Applied 'Detector Quality' cut (275_579 -> 264_421 events).\n",
      "Cuts     | Applied 'Data Quality' cut (264_421 -> 264_421 events).\n",
      "Cuts     | Applied 'CVN PID Score' cut (264_421 -> 101_766 events).\n",
      "Cuts     | Applied 'Containment' cut (101_766 -> 48_577 events).\n",
      "Cuts     | Applied 'Cosmic Rej.' cut (48_577 -> 47_955 events).\n",
      "Cuts     | Applied 'Veto' cut (47_955 -> 47_847 events).\n"
     ]
    }
   ],
   "source": [
    "# Cuts\n",
    "full_cut_table = cuts.apply_all_cuts(test_data.table)"
   ]
  },
  {
   "cell_type": "code",
   "execution_count": null,
   "metadata": {},
   "outputs": [],
   "source": [
    "x_test_data = fail_cont_table[config['XDataCols']]\n",
    "y_test_data = fail_cont_table[config['YDataCols']].to_numpy()"
   ]
  },
  {
   "cell_type": "code",
   "execution_count": null,
   "metadata": {},
   "outputs": [
    {
     "name": "stderr",
     "output_type": "stream",
     "text": [
      "C:\\Users\\Shrey\\AppData\\Local\\Temp\\ipykernel_3148\\1053093416.py:1: SettingWithCopyWarning: \n",
      "A value is trying to be set on a copy of a slice from a DataFrame\n",
      "\n",
      "See the caveats in the documentation: https://pandas.pydata.org/pandas-docs/stable/user_guide/indexing.html#returning-a-view-versus-a-copy\n",
      "  x_test_data.loc[:, scale_vars] = std_scaler.transform(x_test_data[scale_vars])\n"
     ]
    }
   ],
   "source": [
    "x_test_data.loc[:, scale_vars] = std_scaler.transform(x_test_data[scale_vars])"
   ]
  },
  {
   "cell_type": "markdown",
   "metadata": {},
   "source": [
    "## Model"
   ]
  },
  {
   "cell_type": "code",
   "execution_count": null,
   "metadata": {},
   "outputs": [],
   "source": []
  }
 ],
 "metadata": {
  "kernelspec": {
   "display_name": ".venv",
   "language": "python",
   "name": "python3"
  },
  "language_info": {
   "codemirror_mode": {
    "name": "ipython",
    "version": 3
   },
   "file_extension": ".py",
   "mimetype": "text/x-python",
   "name": "python",
   "nbconvert_exporter": "python",
   "pygments_lexer": "ipython3",
   "version": "3.10.11"
  }
 },
 "nbformat": 4,
 "nbformat_minor": 2
}
