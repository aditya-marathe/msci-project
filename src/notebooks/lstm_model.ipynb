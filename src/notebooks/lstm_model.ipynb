{
 "cells": [
  {
   "cell_type": "markdown",
   "metadata": {},
   "source": [
    "# LSTM Regression\n",
    "\n",
    "---\n",
    "\n",
    "Aditya Marathe"
   ]
  },
  {
   "cell_type": "markdown",
   "metadata": {},
   "source": [
    "## Imports"
   ]
  },
  {
   "cell_type": "code",
   "execution_count": 269,
   "metadata": {},
   "outputs": [],
   "source": [
    "import sys"
   ]
  },
  {
   "cell_type": "code",
   "execution_count": null,
   "metadata": {},
   "outputs": [],
   "source": [
    "%matplotlib inline\n",
    "\n",
    "import h5py\n",
    "import pandas as pd\n",
    "\n",
    "import numpy as np\n",
    "import numpy.typing as npt\n",
    "\n",
    "import tensorflow as tf\n",
    "from tensorflow import keras\n",
    "\n",
    "from sklearn import preprocessing\n",
    "\n",
    "import matplotlib as mpl\n",
    "import matplotlib.pyplot as plt"
   ]
  },
  {
   "cell_type": "markdown",
   "metadata": {},
   "source": [
    "**Local**"
   ]
  },
  {
   "cell_type": "code",
   "execution_count": null,
   "metadata": {},
   "outputs": [],
   "source": [
    "sys.path.insert(1, './../')\n",
    "\n",
    "import ana\n",
    "from utils import *\n",
    "from transforms import *"
   ]
  },
  {
   "cell_type": "code",
   "execution_count": null,
   "metadata": {},
   "outputs": [],
   "source": [
    "ana.init_global_plotting_style()"
   ]
  },
  {
   "cell_type": "markdown",
   "metadata": {},
   "source": [
    "**Version and hardware**"
   ]
  },
  {
   "cell_type": "code",
   "execution_count": null,
   "metadata": {},
   "outputs": [
    {
     "name": "stdout",
     "output_type": "stream",
     "text": [
      "Python 3.10.11 (tags/v3.10.11:7d4cc5a, Apr  5 2023, 00:38:17) [MSC v.1929 64 bit (AMD64)]\n",
      "\n",
      "H5Py 3.10.0\n",
      "Pandas 2.1.2\n",
      "NumPy 1.26.1\n",
      "Matplotlib 3.8.1\n"
     ]
    }
   ],
   "source": [
    "print(f'Python {sys.version}\\n')\n",
    "print(f'H5Py {h5py.__version__}')\n",
    "print(f'Pandas {pd.__version__}')\n",
    "print(f'NumPy {np.__version__}')\n",
    "print(f'Matplotlib {mpl.__version__}')"
   ]
  },
  {
   "cell_type": "markdown",
   "metadata": {},
   "source": [
    "## Data"
   ]
  },
  {
   "cell_type": "code",
   "execution_count": null,
   "metadata": {},
   "outputs": [],
   "source": [
    "ds = Datasets()"
   ]
  },
  {
   "cell_type": "code",
   "execution_count": null,
   "metadata": {},
   "outputs": [],
   "source": [
    "data = ana.NOvAData.init_from_copymerge_h5([ds.COPYMERGED_C9_DIR, ds.COPYMERGED_C10_DIR])"
   ]
  },
  {
   "cell_type": "code",
   "execution_count": null,
   "metadata": {},
   "outputs": [],
   "source": [
    "data.fill_ana_track_kinematics(inplace=True)"
   ]
  },
  {
   "cell_type": "code",
   "execution_count": null,
   "metadata": {},
   "outputs": [
    {
     "name": "stdout",
     "output_type": "stream",
     "text": [
      "Detector QualityData QualityCVN PID ScoreContainmentCosmic Rej.Veto\n"
     ]
    }
   ],
   "source": [
    "cuts = ana.Cuts.init_nova_cuts()\n",
    "cuts.print_all_cuts()"
   ]
  },
  {
   "cell_type": "code",
   "execution_count": null,
   "metadata": {},
   "outputs": [],
   "source": [
    "# Cuts\n",
    "data.table = cuts.apply_cut('Detector Quality', data.table)\n",
    "data.table = cuts.apply_cut('Data Quality', data.table)\n",
    "data.table = cuts.apply_cut('Cosmic Rej.', data.table)\n",
    "data.table = cuts.apply_cut('Veto', data.table)\n",
    "data.table = cuts.apply_cut('CVN PID Score', data.table)\n",
    "data.table = cuts.apply_cut('Containment', data.table, passed=False)"
   ]
  },
  {
   "cell_type": "code",
   "execution_count": null,
   "metadata": {},
   "outputs": [],
   "source": [
    "# Transforms\n",
    "data.table = tf_290124_positive_energies(data.table)\n",
    "data.table = tf_290124_valid_pid(data.table)\n",
    "data.table = tf_050224_max_prongs(data.table, max_prongs=10)"
   ]
  },
  {
   "cell_type": "code",
   "execution_count": null,
   "metadata": {},
   "outputs": [],
   "source": [
    "def tf_050224_add_padding(\n",
    "        df: pd.DataFrame, \n",
    "        max_prongs: int = 5\n",
    "    ) -> pd.DataFrame:\n",
    "    df_copy = df.copy()\n",
    "\n",
    "    targets = [\n",
    "        'rec.trk.kalman.tracks.dir.x',\n",
    "        'rec.trk.kalman.tracks.dir.y',\n",
    "        'rec.trk.kalman.tracks.dir.z',\n",
    "        'rec.trk.kalman.tracks.start.x',\n",
    "        'rec.trk.kalman.tracks.start.y',\n",
    "        'rec.trk.kalman.tracks.start.z',\n",
    "        'rec.trk.kalman.tracks.len',\n",
    "        'rec.trk.kalman.tracks.muonid',\n",
    "        'rec.trk.kalman.tracks.rempid',\n",
    "        'rec.trk.kalman.tracks.nhit',\n",
    "        'rec.trk.kalman.tracks.nhitx',\n",
    "        'rec.trk.kalman.tracks.nhity',\n",
    "        'rec.trk.kalman.tracks.calE',\n",
    "        'rec.trk.kalman.tracks.overlapE',\n",
    "        'rec.trk.kalman.tracks.nplane',\n",
    "        'rec.trk.kalman.tracks.maxplanecont',\n",
    "        'ana.trk.kalman.tracks.cosBeam',\n",
    "        'ana.trk.kalman.tracks.PtToPmu',\n",
    "        'ana.trk.kalman.tracks.Pt',\n",
    "        'ana.trk.kalman.tracks.Qsquared',\n",
    "        'ana.trk.kalman.tracks.W'\n",
    "    ]\n",
    "\n",
    "    \n",
    "\n",
    "    def add_padding(row):\n",
    "        for target in targets:\n",
    "            padding = max_prongs - len(row[target])\n",
    "            row[target] = np.concatenate((row[target], [0] * padding))\n",
    "        return row\n",
    "\n",
    "    return df_copy.apply(add_padding, axis=1)"
   ]
  },
  {
   "cell_type": "code",
   "execution_count": null,
   "metadata": {},
   "outputs": [],
   "source": [
    "data.table = tf_050224_add_padding(data.table, max_prongs=10)"
   ]
  },
  {
   "cell_type": "code",
   "execution_count": null,
   "metadata": {},
   "outputs": [],
   "source": [
    "data.table['rec.mc.nu.E'].fillna(0, inplace=True)"
   ]
  },
  {
   "cell_type": "code",
   "execution_count": null,
   "metadata": {},
   "outputs": [],
   "source": [
    "data.table = data.table[data.table['rec.mc.nu.E'] <= 5]"
   ]
  },
  {
   "cell_type": "code",
   "execution_count": null,
   "metadata": {},
   "outputs": [],
   "source": [
    "x_data = [\n",
    "\t# Old EE\n",
    "\t# 'rec.energy.numu.E',\n",
    "\t# 'rec.energy.numu.recomuonE',\n",
    "\t# 'rec.energy.numu.calccE',\n",
    "\t# 'rec.energy.numu.trkccE',\n",
    "\n",
    "\t# New LSTM EE\n",
    "\t# 'rec.energy.numu.lstmmuon',\n",
    "\t# 'rec.energy.numu.lstmnu',\n",
    "\n",
    "\t# Hadronic stuff\n",
    "\t'rec.energy.numu.hadcalE',\n",
    "\t'rec.energy.numu.hadtrkE',\n",
    "\t'rec.energy.numu.hadclust.calE',\n",
    "\t# 'rec.energy.numu.regcvnhadE',\n",
    "\t'rec.energy.numu.hadclust.nhit',\n",
    "\t\n",
    "\t# Containment stuff\n",
    "\t# 'rec.sel.contain.kalfwdcell',\n",
    "\t# 'rec.sel.contain.kalbakcell',\n",
    "\t# 'rec.sel.contain.cosfwdcell',\n",
    "\t# 'rec.sel.contain.cosbakcell',\n",
    "\t\n",
    "\t# CVN Pre-selection PID\n",
    "\t'rec.sel.cvnloosepreselptp.cosmicid',\n",
    "\t'rec.sel.cvnloosepreselptp.ncid',\n",
    "\t'rec.sel.cvnloosepreselptp.nueid',\n",
    "\t'rec.sel.cvnloosepreselptp.numuid',\n",
    "\t\n",
    "\t# Reconstructed Muon ID, and SC PID\n",
    "\t'rec.sel.remid.pid',\n",
    "\t'rec.sel.scann.scpid',\n",
    "\n",
    "\t# Slice\n",
    "\t'rec.slc.calE',\n",
    "\t'rec.slc.nhit',\n",
    "\t# 'rec.slc.firstplane',\n",
    "\t# 'rec.slc.lastplane',\n",
    "\t# 'rec.slc.ncontplanes',\n",
    "\n",
    "\t# Kalman tracks (const. len.)\n",
    "\t'rec.trk.kalman.ntracks',\n",
    "\t'rec.trk.kalman.ntracks2d',\n",
    "\n",
    "\t# Kalman tracks (varying len.)\n",
    "\t'rec.trk.kalman.tracks.calE',\n",
    "\t'rec.trk.kalman.tracks.overlapE',\n",
    "\n",
    "\t'rec.trk.kalman.tracks.nplane',\n",
    "\t'rec.trk.kalman.tracks.maxplanecont',\n",
    "\n",
    "\t'rec.trk.kalman.tracks.nhit',\n",
    "\t'rec.trk.kalman.tracks.nhitx',\n",
    "\t'rec.trk.kalman.tracks.nhity',\n",
    "\n",
    "\t'rec.trk.kalman.tracks.dir.x',\n",
    "\t'rec.trk.kalman.tracks.dir.y',\n",
    "\t'rec.trk.kalman.tracks.dir.z',\n",
    "\t'rec.trk.kalman.tracks.start.x',\n",
    "\t'rec.trk.kalman.tracks.start.y',\n",
    "\t'rec.trk.kalman.tracks.start.z',\n",
    "\n",
    "\t'rec.trk.kalman.tracks.len',\n",
    "\n",
    "\t'rec.trk.kalman.tracks.muonid',\n",
    "\t'rec.trk.kalman.tracks.rempid',\n",
    "\n",
    "\t# Kalman track (derived)\n",
    "\t# 'ana.trk.kalman.tracks.cosBeam',\n",
    "\t'ana.trk.kalman.tracks.PtToPmu',\n",
    "\t# 'ana.trk.kalman.tracks.Pmu',\n",
    "\t# 'ana.trk.kalman.tracks.Pt',\n",
    "\t# 'ana.trk.kalman.tracks.Qsquared',\n",
    "\t# 'ana.trk.kalman.tracks.W',  --> Too many NaNs\n",
    "]\n",
    "\n",
    "x_data = [\n",
    "\t# Input 1\n",
    "\t# 'rec.energy.numu.hadcalE',\n",
    "\t# 'rec.energy.numu.hadtrkE',\n",
    "\t# 'rec.energy.numu.hadclust.calE',\n",
    "\t# 'rec.energy.numu.hadclust.nhit',\n",
    "\n",
    "\t# 'rec.sel.cvnloosepreselptp.cosmicid',\n",
    "\t# 'rec.sel.cvnloosepreselptp.ncid',\n",
    "\t# 'rec.sel.cvnloosepreselptp.nueid',\n",
    "\t# 'rec.sel.cvnloosepreselptp.numuid',\n",
    "\n",
    "\t'rec.sel.remid.pid',\n",
    "\t'rec.sel.scann.scpid',\n",
    "\n",
    "\t'rec.trk.kalman.ntracks',\n",
    "\t'rec.trk.kalman.ntracks2d',\n",
    "\n",
    "\t'rec.trk.kalman.tracks.calE',\n",
    "\t'rec.trk.kalman.tracks.overlapE',\n",
    "\n",
    "\t'rec.trk.kalman.tracks.nplane',\n",
    "\t'rec.trk.kalman.tracks.maxplanecont',\n",
    "\n",
    "\t'rec.trk.kalman.tracks.nhit',\n",
    "\t'rec.trk.kalman.tracks.nhitx',\n",
    "\t'rec.trk.kalman.tracks.nhity',\n",
    "\n",
    "\t'rec.trk.kalman.tracks.dir.x',\n",
    "\t'rec.trk.kalman.tracks.dir.y',\n",
    "\t'rec.trk.kalman.tracks.dir.z',\n",
    "\n",
    "\t'rec.trk.kalman.tracks.start.x',\n",
    "\t'rec.trk.kalman.tracks.start.y',\n",
    "\t'rec.trk.kalman.tracks.start.z',\n",
    "\n",
    "\t'rec.trk.kalman.tracks.len',\n",
    "\n",
    "\t'rec.trk.kalman.tracks.muonid',\n",
    "\t'rec.trk.kalman.tracks.rempid',\n",
    "\t\n",
    "\t'ana.trk.kalman.tracks.PtToPmu',\n",
    "\n",
    "\t# Input 2\n",
    "\t'rec.slc.calE',\n",
    "\t'rec.slc.nhit'\n",
    "\n",
    "]\n",
    "\n",
    "y_data = [\n",
    "\t'rec.mc.nu.E'\n",
    "]"
   ]
  },
  {
   "cell_type": "code",
   "execution_count": null,
   "metadata": {},
   "outputs": [],
   "source": [
    "# Flatten the data\n",
    "numpy_table_x = np.vstack(\n",
    "    data.table[x_data].apply(lambda row: np.hstack(row), axis=1).to_numpy()\n",
    ")\n",
    "numpy_table_y = data.table[y_data].to_numpy().flatten()"
   ]
  },
  {
   "cell_type": "code",
   "execution_count": null,
   "metadata": {},
   "outputs": [],
   "source": [
    "n = len(numpy_table_x)"
   ]
  },
  {
   "cell_type": "code",
   "execution_count": null,
   "metadata": {},
   "outputs": [],
   "source": [
    "# Train test split\n",
    "train_x = numpy_table_x[:int(n * 0.8)]\n",
    "train_y = numpy_table_y[:int(n * 0.8)]\n",
    "\n",
    "test_x = numpy_table_x[int(n * 0.8):]\n",
    "test_y = numpy_table_y[int(n * 0.8):]"
   ]
  },
  {
   "cell_type": "code",
   "execution_count": null,
   "metadata": {},
   "outputs": [
    {
     "data": {
      "text/plain": [
       "(7458, 176)"
      ]
     },
     "execution_count": 99,
     "metadata": {},
     "output_type": "execute_result"
    }
   ],
   "source": [
    "train_x.shape"
   ]
  },
  {
   "cell_type": "code",
   "execution_count": null,
   "metadata": {},
   "outputs": [
    {
     "data": {
      "text/plain": [
       "(7458,)"
      ]
     },
     "execution_count": 100,
     "metadata": {},
     "output_type": "execute_result"
    }
   ],
   "source": [
    "train_y.shape"
   ]
  },
  {
   "cell_type": "markdown",
   "metadata": {},
   "source": [
    "## Model"
   ]
  },
  {
   "cell_type": "code",
   "execution_count": 212,
   "metadata": {},
   "outputs": [],
   "source": [
    "binning = np.linspace(0, 5, 50 + 1)"
   ]
  },
  {
   "cell_type": "code",
   "execution_count": 213,
   "metadata": {},
   "outputs": [],
   "source": [
    "values, edges = np.histogram(\n",
    "    data.table['rec.mc.nu.E'],\n",
    "    bins=binning\n",
    ")"
   ]
  },
  {
   "cell_type": "code",
   "execution_count": 214,
   "metadata": {},
   "outputs": [],
   "source": [
    "values = values + 1"
   ]
  },
  {
   "cell_type": "code",
   "execution_count": 215,
   "metadata": {},
   "outputs": [],
   "source": [
    "bin_number = np.digitize(\n",
    "    data.table['rec.mc.nu.E'],\n",
    "    bins=binning\n",
    ")"
   ]
  },
  {
   "cell_type": "code",
   "execution_count": 242,
   "metadata": {},
   "outputs": [],
   "source": [
    "weights = 1 / values"
   ]
  },
  {
   "cell_type": "code",
   "execution_count": 243,
   "metadata": {},
   "outputs": [],
   "source": [
    "for i in range(binning.shape[0] - 1):\n",
    "    bin_number[bin_number == i] = weights[i]"
   ]
  },
  {
   "cell_type": "code",
   "execution_count": 244,
   "metadata": {},
   "outputs": [],
   "source": [
    "weights = bin_number"
   ]
  },
  {
   "cell_type": "code",
   "execution_count": 245,
   "metadata": {},
   "outputs": [
    {
     "data": {
      "text/plain": [
       "(50,)"
      ]
     },
     "execution_count": 245,
     "metadata": {},
     "output_type": "execute_result"
    }
   ],
   "source": [
    "values.shape"
   ]
  },
  {
   "cell_type": "code",
   "execution_count": 246,
   "metadata": {},
   "outputs": [
    {
     "data": {
      "text/plain": [
       "(9323,)"
      ]
     },
     "execution_count": 246,
     "metadata": {},
     "output_type": "execute_result"
    }
   ],
   "source": [
    "weights.shape"
   ]
  },
  {
   "cell_type": "code",
   "execution_count": 247,
   "metadata": {},
   "outputs": [
    {
     "data": {
      "image/png": "[encoded data removed]",
      "text/plain": [
       "<Figure size 640x480 with 1 Axes>"
      ]
     },
     "metadata": {},
     "output_type": "display_data"
    }
   ],
   "source": [
    "plt.bar(x=edges[:-1], height=1 / values, width=np.diff(edges), align='edge', fc='MediumOrchid', ec='black')\n",
    "plt.yscale('log')"
   ]
  },
  {
   "cell_type": "code",
   "execution_count": 248,
   "metadata": {},
   "outputs": [
    {
     "data": {
      "text/plain": [
       "50"
      ]
     },
     "execution_count": 248,
     "metadata": {},
     "output_type": "execute_result"
    }
   ],
   "source": [
    "weights.max()"
   ]
  },
  {
   "cell_type": "code",
   "execution_count": 249,
   "metadata": {},
   "outputs": [],
   "source": [
    "\n",
    "def build_compile_model(\n",
    "        input_1_shape,\n",
    "        input_2_shape,\n",
    "    ) -> keras.models.Model:\n",
    "    # Branch #1\n",
    "    branch_1_input = keras.layers.Input(shape=input_1_shape)\n",
    "\n",
    "    # Pre-processing\n",
    "    branch_1 = keras.layers.BatchNormalization()(branch_1_input)\n",
    "    branch_1 = keras.layers.Dense(\n",
    "        units=128, \n",
    "        activation=keras.activations.relu\n",
    "    )(branch_1)\n",
    "    branch_1 = keras.layers.BatchNormalization()(branch_1)\n",
    "    branch_1 = keras.layers.Dense(\n",
    "        units=128, \n",
    "        activation=keras.activations.relu\n",
    "    )(branch_1)\n",
    "    branch_1 = keras.layers.BatchNormalization()(branch_1)\n",
    "    branch_1 = keras.layers.Dense(\n",
    "        units=128, \n",
    "        activation=keras.activations.relu\n",
    "    )(branch_1)\n",
    "    branch_1 = keras.layers.BatchNormalization()(branch_1)\n",
    "    \n",
    "    # LSTM\n",
    "    branch_1 = keras.layers.Reshape((1, 128))(branch_1)\n",
    "    branch_1 = keras.layers.LSTM(32)(branch_1)\n",
    "\n",
    "    # Branch #2\n",
    "    branch_2_input = keras.layers.Input(shape=input_2_shape)\n",
    "    branch_2_input = keras.layers.Reshape((2,))(branch_2_input)\n",
    "\n",
    "    branch_concat = keras.layers.concatenate([branch_1, branch_2_input])\n",
    "\n",
    "    # Post-processing\n",
    "    branch_concat = keras.layers.BatchNormalization()(branch_concat)\n",
    "    branch_concat = keras.layers.Dense(\n",
    "        units=128, \n",
    "        activation=keras.activations.relu\n",
    "    )(branch_concat)\n",
    "    branch_concat = keras.layers.BatchNormalization()(branch_concat)\n",
    "    branch_concat = keras.layers.Dense(\n",
    "        units=128, \n",
    "        activation=keras.activations.relu\n",
    "    )(branch_concat)\n",
    "    branch_concat = keras.layers.BatchNormalization()(branch_concat)\n",
    "    branch_concat = keras.layers.Dense(\n",
    "        units=128, \n",
    "        activation=keras.activations.relu\n",
    "    )(branch_concat)\n",
    "    branch_concat = keras.layers.BatchNormalization()(branch_concat)\n",
    "\n",
    "    # Output\n",
    "    output = keras.layers.Dense(\n",
    "        units=1, \n",
    "        activation=keras.activations.linear\n",
    "    )(branch_concat)\n",
    "\n",
    "    # Model\n",
    "    model = keras.models.Model(\n",
    "        name='model',\n",
    "        inputs=[branch_1_input, branch_2_input],\n",
    "        outputs=output\n",
    "    )\n",
    "\n",
    "    # Compile\n",
    "    model.compile(\n",
    "        optimizer=keras.optimizers.Adam(learning_rate=1E-3),\n",
    "        loss=keras.losses.mean_squared_error,\n",
    "        weighted_metrics=[\n",
    "            keras.metrics.MeanSquaredError(name='mse'),\n",
    "            keras.metrics.MeanAbsoluteError(name='mae')\n",
    "        ]\n",
    "    )\n",
    "\n",
    "    model.summary()\n",
    "\n",
    "    return model\n"
   ]
  },
  {
   "cell_type": "code",
   "execution_count": 257,
   "metadata": {},
   "outputs": [
    {
     "name": "stdout",
     "output_type": "stream",
     "text": [
      "Model: \"model\"\n",
      "__________________________________________________________________________________________________\n",
      " Layer (type)                   Output Shape         Param #     Connected to                     \n",
      "==================================================================================================\n",
      " input_39 (InputLayer)          [(None, 174)]        0           []                               \n",
      "                                                                                                  \n",
      " batch_normalization_100 (Batch  (None, 174)         696         ['input_39[0][0]']               \n",
      " Normalization)                                                                                   \n",
      "                                                                                                  \n",
      " dense_87 (Dense)               (None, 128)          22400       ['batch_normalization_100[1][0]']\n",
      "                                                                                                  \n",
      " batch_normalization_101 (Batch  (None, 128)         512         ['dense_87[1][0]']               \n",
      " Normalization)                                                                                   \n",
      "                                                                                                  \n",
      " dense_88 (Dense)               (None, 128)          16512       ['batch_normalization_101[1][0]']\n",
      "                                                                                                  \n",
      " batch_normalization_102 (Batch  (None, 128)         512         ['dense_88[1][0]']               \n",
      " Normalization)                                                                                   \n",
      "                                                                                                  \n",
      " dense_89 (Dense)               (None, 128)          16512       ['batch_normalization_102[1][0]']\n",
      "                                                                                                  \n",
      " batch_normalization_103 (Batch  (None, 128)         512         ['dense_89[1][0]']               \n",
      " Normalization)                                                                                   \n",
      "                                                                                                  \n",
      " reshape_26 (Reshape)           (None, 1, 128)       0           ['batch_normalization_103[1][0]']\n",
      "                                                                                                  \n",
      " lstm_13 (LSTM)                 (None, 32)           20608       ['reshape_26[1][0]']             \n",
      "                                                                                                  \n",
      " input_41 (InputLayer)          [(None, 2)]          0           []                               \n",
      "                                                                                                  \n",
      " concatenate_12 (Concatenate)   (None, 34)           0           ['lstm_13[1][0]',                \n",
      "                                                                  'input_41[0][0]']               \n",
      "                                                                                                  \n",
      " batch_normalization_104 (Batch  (None, 34)          136         ['concatenate_12[1][0]']         \n",
      " Normalization)                                                                                   \n",
      "                                                                                                  \n",
      " dense_90 (Dense)               (None, 128)          4480        ['batch_normalization_104[1][0]']\n",
      "                                                                                                  \n",
      " batch_normalization_105 (Batch  (None, 128)         512         ['dense_90[1][0]']               \n",
      " Normalization)                                                                                   \n",
      "                                                                                                  \n",
      " dense_91 (Dense)               (None, 128)          16512       ['batch_normalization_105[1][0]']\n",
      "                                                                                                  \n",
      " batch_normalization_106 (Batch  (None, 128)         512         ['dense_91[1][0]']               \n",
      " Normalization)                                                                                   \n",
      "                                                                                                  \n",
      " dense_92 (Dense)               (None, 128)          16512       ['batch_normalization_106[1][0]']\n",
      "                                                                                                  \n",
      " batch_normalization_107 (Batch  (None, 128)         512         ['dense_92[1][0]']               \n",
      " Normalization)                                                                                   \n",
      "                                                                                                  \n",
      " dense_93 (Dense)               (None, 1)            129         ['batch_normalization_107[1][0]']\n",
      "                                                                                                  \n",
      "==================================================================================================\n",
      "Total params: 117,569\n",
      "Trainable params: 115,617\n",
      "Non-trainable params: 1,952\n",
      "__________________________________________________________________________________________________\n"
     ]
    }
   ],
   "source": [
    "model = build_compile_model(input_1_shape=(train_x.shape[1] - 2,), input_2_shape=(2,))"
   ]
  },
  {
   "cell_type": "code",
   "execution_count": 258,
   "metadata": {},
   "outputs": [],
   "source": [
    "epochs = 100"
   ]
  },
  {
   "cell_type": "code",
   "execution_count": 259,
   "metadata": {},
   "outputs": [
    {
     "name": "stdout",
     "output_type": "stream",
     "text": [
      "Epoch 1/100\n"
     ]
    },
    {
     "name": "stdout",
     "output_type": "stream",
     "text": [
      "187/187 [==============================] - 6s 9ms/step - loss: 2.5243 - mse: 2.5243 - mae: 1.2435 - val_loss: 0.4633 - val_mse: 0.4633 - val_mae: 0.4154\n",
      "Epoch 2/100\n",
      "187/187 [==============================] - 1s 5ms/step - loss: 0.6220 - mse: 0.6220 - mae: 0.5249 - val_loss: 0.4661 - val_mse: 0.4661 - val_mae: 0.4337\n",
      "Epoch 3/100\n",
      "187/187 [==============================] - 1s 5ms/step - loss: 0.5581 - mse: 0.5581 - mae: 0.4879 - val_loss: 0.4775 - val_mse: 0.4775 - val_mae: 0.4075\n",
      "Epoch 4/100\n",
      "187/187 [==============================] - 1s 7ms/step - loss: 0.5078 - mse: 0.5078 - mae: 0.4675 - val_loss: 0.4468 - val_mse: 0.4468 - val_mae: 0.4232\n",
      "Epoch 5/100\n",
      "187/187 [==============================] - 1s 5ms/step - loss: 0.4578 - mse: 0.4578 - mae: 0.4400 - val_loss: 0.4903 - val_mse: 0.4903 - val_mae: 0.4347\n",
      "Epoch 6/100\n",
      "187/187 [==============================] - 5s 27ms/step - loss: 0.4441 - mse: 0.4441 - mae: 0.4309 - val_loss: 0.4280 - val_mse: 0.4280 - val_mae: 0.4020\n",
      "Epoch 7/100\n",
      "187/187 [==============================] - 9s 47ms/step - loss: 0.4275 - mse: 0.4275 - mae: 0.4274 - val_loss: 0.4616 - val_mse: 0.4616 - val_mae: 0.4383\n",
      "Epoch 8/100\n",
      "187/187 [==============================] - 1s 7ms/step - loss: 0.4253 - mse: 0.4253 - mae: 0.4213 - val_loss: 0.4147 - val_mse: 0.4147 - val_mae: 0.4050\n",
      "Epoch 9/100\n",
      "187/187 [==============================] - 1s 6ms/step - loss: 0.4457 - mse: 0.4457 - mae: 0.4234 - val_loss: 0.4428 - val_mse: 0.4428 - val_mae: 0.4137\n",
      "Epoch 10/100\n",
      "187/187 [==============================] - 1s 6ms/step - loss: 0.4274 - mse: 0.4274 - mae: 0.4193 - val_loss: 0.5609 - val_mse: 0.5609 - val_mae: 0.4517\n",
      "Epoch 11/100\n",
      "187/187 [==============================] - 1s 5ms/step - loss: 0.4214 - mse: 0.4214 - mae: 0.4164 - val_loss: 0.4227 - val_mse: 0.4227 - val_mae: 0.3870\n",
      "Epoch 12/100\n",
      "187/187 [==============================] - 1s 6ms/step - loss: 0.3918 - mse: 0.3918 - mae: 0.4072 - val_loss: 0.3992 - val_mse: 0.3992 - val_mae: 0.3891\n",
      "Epoch 13/100\n",
      "187/187 [==============================] - 1s 6ms/step - loss: 0.4263 - mse: 0.4263 - mae: 0.4179 - val_loss: 0.4224 - val_mse: 0.4224 - val_mae: 0.3904\n",
      "Epoch 14/100\n",
      "187/187 [==============================] - 1s 5ms/step - loss: 0.4119 - mse: 0.4119 - mae: 0.4144 - val_loss: 0.4096 - val_mse: 0.4096 - val_mae: 0.3806\n",
      "Epoch 15/100\n",
      "187/187 [==============================] - 1s 7ms/step - loss: 0.4045 - mse: 0.4045 - mae: 0.4096 - val_loss: 0.4659 - val_mse: 0.4659 - val_mae: 0.4106\n",
      "Epoch 16/100\n",
      "187/187 [==============================] - 1s 6ms/step - loss: 0.4073 - mse: 0.4073 - mae: 0.4071 - val_loss: 0.3744 - val_mse: 0.3744 - val_mae: 0.3777\n",
      "Epoch 17/100\n",
      "187/187 [==============================] - 1s 8ms/step - loss: 0.4106 - mse: 0.4106 - mae: 0.4128 - val_loss: 0.4306 - val_mse: 0.4306 - val_mae: 0.4147\n",
      "Epoch 18/100\n",
      "187/187 [==============================] - 1s 6ms/step - loss: 0.3984 - mse: 0.3984 - mae: 0.4068 - val_loss: 0.4109 - val_mse: 0.4109 - val_mae: 0.3908\n",
      "Epoch 19/100\n",
      "187/187 [==============================] - 1s 6ms/step - loss: 0.4137 - mse: 0.4137 - mae: 0.4073 - val_loss: 0.4279 - val_mse: 0.4279 - val_mae: 0.3931\n",
      "Epoch 20/100\n",
      "187/187 [==============================] - 1s 7ms/step - loss: 0.3776 - mse: 0.3776 - mae: 0.3976 - val_loss: 0.4038 - val_mse: 0.4038 - val_mae: 0.3780\n",
      "Epoch 21/100\n",
      "187/187 [==============================] - 1s 7ms/step - loss: 0.3814 - mse: 0.3814 - mae: 0.3928 - val_loss: 0.3993 - val_mse: 0.3993 - val_mae: 0.3830\n",
      "Epoch 22/100\n",
      "187/187 [==============================] - 1s 7ms/step - loss: 0.3779 - mse: 0.3779 - mae: 0.3981 - val_loss: 0.3811 - val_mse: 0.3811 - val_mae: 0.3744\n",
      "Epoch 23/100\n",
      "187/187 [==============================] - 1s 6ms/step - loss: 0.4050 - mse: 0.4050 - mae: 0.3953 - val_loss: 0.6055 - val_mse: 0.6055 - val_mae: 0.4169\n",
      "Epoch 24/100\n",
      "187/187 [==============================] - 1s 7ms/step - loss: 0.4018 - mse: 0.4018 - mae: 0.3960 - val_loss: 0.4046 - val_mse: 0.4046 - val_mae: 0.3912\n",
      "Epoch 25/100\n",
      "187/187 [==============================] - 1s 7ms/step - loss: 0.4059 - mse: 0.4059 - mae: 0.3960 - val_loss: 0.4266 - val_mse: 0.4266 - val_mae: 0.4034\n",
      "Epoch 26/100\n",
      "187/187 [==============================] - 1s 7ms/step - loss: 0.3845 - mse: 0.3845 - mae: 0.3964 - val_loss: 0.3932 - val_mse: 0.3932 - val_mae: 0.3823\n"
     ]
    }
   ],
   "source": [
    "history = model.fit(\n",
    "    [train_x[:, :train_x.shape[1] - 2], train_x[:, train_x.shape[1] - 2:]],\n",
    "    train_y,\n",
    "    # sample_weight=weights,\n",
    "    epochs=epochs,\n",
    "    validation_split=0.2,\n",
    "    callbacks=[\n",
    "        keras.callbacks.EarlyStopping(\n",
    "            monitor='val_loss', \n",
    "            patience=10,\n",
    "            restore_best_weights=True\n",
    "        )\n",
    "    ]\n",
    ")"
   ]
  },
  {
   "cell_type": "code",
   "execution_count": 264,
   "metadata": {},
   "outputs": [
    {
     "name": "stdout",
     "output_type": "stream",
     "text": [
      "59/59 [==============================] - 0s 3ms/step\n"
     ]
    }
   ],
   "source": [
    "prediction = model.predict((test_x[:, :train_x.shape[1] - 2], test_x[:, train_x.shape[1] - 2:]))"
   ]
  },
  {
   "cell_type": "code",
   "execution_count": 265,
   "metadata": {},
   "outputs": [
    {
     "data": {
      "text/plain": [
       "(1865,)"
      ]
     },
     "execution_count": 265,
     "metadata": {},
     "output_type": "execute_result"
    }
   ],
   "source": [
    "test_y.shape"
   ]
  },
  {
   "cell_type": "code",
   "execution_count": 266,
   "metadata": {},
   "outputs": [
    {
     "data": {
      "text/plain": [
       "(1865, 1)"
      ]
     },
     "execution_count": 266,
     "metadata": {},
     "output_type": "execute_result"
    }
   ],
   "source": [
    "prediction.shape"
   ]
  },
  {
   "cell_type": "code",
   "execution_count": 267,
   "metadata": {},
   "outputs": [
    {
     "data": {
      "image/png": "[encoded data removed]",
      "text/plain": [
       "<Figure size 640x480 with 1 Axes>"
      ]
     },
     "metadata": {},
     "output_type": "display_data"
    }
   ],
   "source": [
    "plt.hist(test_y, bins=np.linspace(0, 5, 50 + 1), alpha=0.6, label='Truth')\n",
    "plt.hist(prediction.flatten(), bins=np.linspace(0, 5, 50 + 1), alpha=0.6, label='Pred.')\n",
    "plt.xlabel('E (GeV)')\n",
    "plt.legend();"
   ]
  },
  {
   "cell_type": "markdown",
   "metadata": {},
   "source": [
    "# --------------------------------"
   ]
  },
  {
   "cell_type": "code",
   "execution_count": 268,
   "metadata": {},
   "outputs": [
    {
     "ename": "ValueError",
     "evalue": "Input has undefined `axis` dimension. Received input with shape (None, None) and axis=(1,)",
     "output_type": "error",
     "traceback": [
      "\u001b[1;31m---------------------------------------------------------------------------\u001b[0m",
      "\u001b[1;31mValueError\u001b[0m                                Traceback (most recent call last)",
      "Cell \u001b[1;32mIn[268], line 1\u001b[0m\n\u001b[1;32m----> 1\u001b[0m \u001b[43mbuild_compile_model\u001b[49m\u001b[43m(\u001b[49m\n\u001b[0;32m      2\u001b[0m \u001b[43m    \u001b[49m\u001b[43minput_1_shape\u001b[49m\u001b[38;5;241;43m=\u001b[39;49m\u001b[43m(\u001b[49m\u001b[38;5;28;43;01mNone\u001b[39;49;00m\u001b[43m,\u001b[49m\u001b[43m)\u001b[49m\u001b[43m,\u001b[49m\n\u001b[0;32m      3\u001b[0m \u001b[43m    \u001b[49m\u001b[43minput_2_shape\u001b[49m\u001b[38;5;241;43m=\u001b[39;49m\u001b[43m(\u001b[49m\u001b[38;5;241;43m2\u001b[39;49m\u001b[43m,\u001b[49m\u001b[43m)\u001b[49m\n\u001b[0;32m      4\u001b[0m \u001b[43m)\u001b[49m\n",
      "Cell \u001b[1;32mIn[249], line 9\u001b[0m, in \u001b[0;36mbuild_compile_model\u001b[1;34m(input_1_shape, input_2_shape)\u001b[0m\n\u001b[0;32m      6\u001b[0m branch_1_input \u001b[38;5;241m=\u001b[39m keras\u001b[38;5;241m.\u001b[39mlayers\u001b[38;5;241m.\u001b[39mInput(shape\u001b[38;5;241m=\u001b[39minput_1_shape)\n\u001b[0;32m      8\u001b[0m \u001b[38;5;66;03m# Pre-processing\u001b[39;00m\n\u001b[1;32m----> 9\u001b[0m branch_1 \u001b[38;5;241m=\u001b[39m \u001b[43mkeras\u001b[49m\u001b[38;5;241;43m.\u001b[39;49m\u001b[43mlayers\u001b[49m\u001b[38;5;241;43m.\u001b[39;49m\u001b[43mBatchNormalization\u001b[49m\u001b[43m(\u001b[49m\u001b[43m)\u001b[49m\u001b[43m(\u001b[49m\u001b[43mbranch_1_input\u001b[49m\u001b[43m)\u001b[49m\n\u001b[0;32m     10\u001b[0m branch_1 \u001b[38;5;241m=\u001b[39m keras\u001b[38;5;241m.\u001b[39mlayers\u001b[38;5;241m.\u001b[39mDense(\n\u001b[0;32m     11\u001b[0m     units\u001b[38;5;241m=\u001b[39m\u001b[38;5;241m128\u001b[39m, \n\u001b[0;32m     12\u001b[0m     activation\u001b[38;5;241m=\u001b[39mkeras\u001b[38;5;241m.\u001b[39mactivations\u001b[38;5;241m.\u001b[39mrelu\n\u001b[0;32m     13\u001b[0m )(branch_1)\n\u001b[0;32m     14\u001b[0m branch_1 \u001b[38;5;241m=\u001b[39m keras\u001b[38;5;241m.\u001b[39mlayers\u001b[38;5;241m.\u001b[39mBatchNormalization()(branch_1)\n",
      "File \u001b[1;32mc:\\Users\\Shrey\\OneDrive\\Documents\\GitHub\\msci-project\\.venv\\lib\\site-packages\\keras\\utils\\traceback_utils.py:70\u001b[0m, in \u001b[0;36mfilter_traceback.<locals>.error_handler\u001b[1;34m(*args, **kwargs)\u001b[0m\n\u001b[0;32m     67\u001b[0m     filtered_tb \u001b[38;5;241m=\u001b[39m _process_traceback_frames(e\u001b[38;5;241m.\u001b[39m__traceback__)\n\u001b[0;32m     68\u001b[0m     \u001b[38;5;66;03m# To get the full stack trace, call:\u001b[39;00m\n\u001b[0;32m     69\u001b[0m     \u001b[38;5;66;03m# `tf.debugging.disable_traceback_filtering()`\u001b[39;00m\n\u001b[1;32m---> 70\u001b[0m     \u001b[38;5;28;01mraise\u001b[39;00m e\u001b[38;5;241m.\u001b[39mwith_traceback(filtered_tb) \u001b[38;5;28;01mfrom\u001b[39;00m \u001b[38;5;28;01mNone\u001b[39;00m\n\u001b[0;32m     71\u001b[0m \u001b[38;5;28;01mfinally\u001b[39;00m:\n\u001b[0;32m     72\u001b[0m     \u001b[38;5;28;01mdel\u001b[39;00m filtered_tb\n",
      "File \u001b[1;32mc:\\Users\\Shrey\\OneDrive\\Documents\\GitHub\\msci-project\\.venv\\lib\\site-packages\\keras\\layers\\normalization\\batch_normalization.py:402\u001b[0m, in \u001b[0;36mBatchNormalizationBase.build\u001b[1;34m(self, input_shape)\u001b[0m\n\u001b[0;32m    400\u001b[0m \u001b[38;5;28;01mfor\u001b[39;00m x \u001b[38;5;129;01min\u001b[39;00m axis_to_dim:\n\u001b[0;32m    401\u001b[0m     \u001b[38;5;28;01mif\u001b[39;00m axis_to_dim[x] \u001b[38;5;129;01mis\u001b[39;00m \u001b[38;5;28;01mNone\u001b[39;00m:\n\u001b[1;32m--> 402\u001b[0m         \u001b[38;5;28;01mraise\u001b[39;00m \u001b[38;5;167;01mValueError\u001b[39;00m(\n\u001b[0;32m    403\u001b[0m             \u001b[38;5;124m\"\u001b[39m\u001b[38;5;124mInput has undefined `axis` dimension. Received input \u001b[39m\u001b[38;5;124m\"\u001b[39m\n\u001b[0;32m    404\u001b[0m             \u001b[38;5;124mf\u001b[39m\u001b[38;5;124m\"\u001b[39m\u001b[38;5;124mwith shape \u001b[39m\u001b[38;5;132;01m{\u001b[39;00m\u001b[38;5;28mtuple\u001b[39m(input_shape)\u001b[38;5;132;01m}\u001b[39;00m\u001b[38;5;124m \u001b[39m\u001b[38;5;124m\"\u001b[39m\n\u001b[0;32m    405\u001b[0m             \u001b[38;5;124mf\u001b[39m\u001b[38;5;124m\"\u001b[39m\u001b[38;5;124mand axis=\u001b[39m\u001b[38;5;132;01m{\u001b[39;00m\u001b[38;5;28mtuple\u001b[39m(\u001b[38;5;28mself\u001b[39m\u001b[38;5;241m.\u001b[39maxis)\u001b[38;5;132;01m}\u001b[39;00m\u001b[38;5;124m\"\u001b[39m\n\u001b[0;32m    406\u001b[0m         )\n\u001b[0;32m    407\u001b[0m \u001b[38;5;28mself\u001b[39m\u001b[38;5;241m.\u001b[39minput_spec \u001b[38;5;241m=\u001b[39m InputSpec(ndim\u001b[38;5;241m=\u001b[39mrank, axes\u001b[38;5;241m=\u001b[39maxis_to_dim)\n\u001b[0;32m    409\u001b[0m \u001b[38;5;28;01mif\u001b[39;00m \u001b[38;5;28mlen\u001b[39m(axis_to_dim) \u001b[38;5;241m==\u001b[39m \u001b[38;5;241m1\u001b[39m \u001b[38;5;129;01mand\u001b[39;00m \u001b[38;5;28mself\u001b[39m\u001b[38;5;241m.\u001b[39mvirtual_batch_size \u001b[38;5;129;01mis\u001b[39;00m \u001b[38;5;28;01mNone\u001b[39;00m:\n\u001b[0;32m    410\u001b[0m     \u001b[38;5;66;03m# Single axis batch norm (most common/default use-case)\u001b[39;00m\n",
      "\u001b[1;31mValueError\u001b[0m: Input has undefined `axis` dimension. Received input with shape (None, None) and axis=(1,)"
     ]
    }
   ],
   "source": [
    "\n",
    "build_compile_model(\n",
    "    input_1_shape=(None,),\n",
    "    input_2_shape=(2,)\n",
    ")"
   ]
  },
  {
   "cell_type": "code",
   "execution_count": null,
   "metadata": {},
   "outputs": [],
   "source": []
  }
 ],
 "metadata": {
  "kernelspec": {
   "display_name": ".venv",
   "language": "python",
   "name": "python3"
  },
  "language_info": {
   "codemirror_mode": {
    "name": "ipython",
    "version": 3
   },
   "file_extension": ".py",
   "mimetype": "text/x-python",
   "name": "python",
   "nbconvert_exporter": "python",
   "pygments_lexer": "ipython3",
   "version": "3.10.11"
  }
 },
 "nbformat": 4,
 "nbformat_minor": 2
}
