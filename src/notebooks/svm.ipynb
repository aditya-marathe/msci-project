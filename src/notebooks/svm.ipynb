{
 "cells": [
  {
   "cell_type": "markdown",
   "metadata": {},
   "source": [
    "# Support Vector Machine\n",
    "\n",
    "---\n",
    "\n",
    "Aditya Marathe"
   ]
  },
  {
   "cell_type": "markdown",
   "metadata": {},
   "source": [
    "## Imports and version"
   ]
  },
  {
   "cell_type": "code",
   "execution_count": 14,
   "metadata": {},
   "outputs": [],
   "source": [
    "%matplotlib inline\n",
    "\n",
    "import sys\n",
    "\n",
    "import numpy as np\n",
    "import numpy.typing as npt\n",
    "\n",
    "import sklearn as skl\n",
    "from sklearn import preprocessing\n",
    "from sklearn.model_selection import train_test_split\n",
    "from sklearn.svm import SVC\n",
    "\n",
    "\n",
    "import tensorflow as tf\n",
    "from tensorflow import keras\n",
    "\n",
    "import matplotlib as mpl\n",
    "import matplotlib.pyplot as plt"
   ]
  },
  {
   "cell_type": "markdown",
   "metadata": {},
   "source": [
    "**Local**:"
   ]
  },
  {
   "cell_type": "code",
   "execution_count": 2,
   "metadata": {},
   "outputs": [],
   "source": [
    "sys.path.insert(1, './../')\n",
    "\n",
    "import ana\n",
    "from utils import *\n",
    "from transforms import *"
   ]
  },
  {
   "cell_type": "code",
   "execution_count": 3,
   "metadata": {},
   "outputs": [],
   "source": [
    "ana.init_global_plotting_style()"
   ]
  },
  {
   "cell_type": "markdown",
   "metadata": {},
   "source": [
    "**Version**:"
   ]
  },
  {
   "cell_type": "code",
   "execution_count": 4,
   "metadata": {},
   "outputs": [
    {
     "name": "stdout",
     "output_type": "stream",
     "text": [
      "Python 3.10.11 (tags/v3.10.11:7d4cc5a, Apr  5 2023, 00:38:17) [MSC v.1929 64 bit (AMD64)]\n",
      "\n",
      "NumPy 1.26.1\n",
      "Matplotlib 3.8.1\n",
      "Tensorflow 2.10.1\n",
      "SciKitLearn 1.3.2\n"
     ]
    }
   ],
   "source": [
    "print(f'Python {sys.version}\\n')\n",
    "print(f'NumPy {np.__version__}')\n",
    "print(f'Matplotlib {mpl.__version__}')\n",
    "print(f'Tensorflow {tf.__version__}')\n",
    "print(f'SciKitLearn {skl.__version__}')"
   ]
  },
  {
   "cell_type": "markdown",
   "metadata": {},
   "source": [
    "## Loading the data"
   ]
  },
  {
   "cell_type": "code",
   "execution_count": 5,
   "metadata": {},
   "outputs": [
    {
     "name": "stdout",
     "output_type": "stream",
     "text": [
      "Datasets found:\n",
      "- MINI_DATA_DIR\n",
      "- DATA_V2_DIR\n",
      "- DATA_V3_DIR\n",
      "- REALLY_MINI_DIR\n",
      "- COPYMERGED_C6_DIR\n",
      "- COPYMERGED_C7_DIR\n",
      "- COPYMERGED_C8_DIR\n",
      "- COPYMERGED_C9_DIR\n",
      "- COPYMERGED_C10_DIR\n"
     ]
    }
   ],
   "source": [
    "ds = Datasets()"
   ]
  },
  {
   "cell_type": "code",
   "execution_count": 6,
   "metadata": {},
   "outputs": [],
   "source": [
    "data = ana.NOvAData.init_from_copymerge_h5(\n",
    "    h5dirs=[\n",
    "        # ds.COPYMERGED_C8_DIR,  # type: ignore\n",
    "        # ds.COPYMERGED_C9_DIR,  # type: ignore\n",
    "        ds.COPYMERGED_C10_DIR  # type: ignore\n",
    "    ]\n",
    ")"
   ]
  },
  {
   "cell_type": "code",
   "execution_count": 7,
   "metadata": {},
   "outputs": [
    {
     "name": "stdout",
     "output_type": "stream",
     "text": [
      "<class 'pandas.core.frame.DataFrame'>\n",
      "MultiIndex: 184661 entries, (15021, 10, 0, 0, 1, 1) to (15112, 63, 0, 0, 1000, 2)\n",
      "Data columns (total 55 columns):\n",
      " #   Column                              Non-Null Count   Dtype  \n",
      "---  ------                              --------------   -----  \n",
      " 0   rec.energy.numu.E                   184661 non-null  float32\n",
      " 1   rec.energy.numu.calccE              184661 non-null  float32\n",
      " 2   rec.energy.numu.hadcalE             184661 non-null  float32\n",
      " 3   rec.energy.numu.hadtrkE             184661 non-null  float32\n",
      " 4   rec.energy.numu.lstmmuon            184661 non-null  float32\n",
      " 5   rec.energy.numu.lstmnu              184661 non-null  float32\n",
      " 6   rec.energy.numu.regcvnhadE          184661 non-null  float32\n",
      " 7   rec.energy.numu.trkccE              184661 non-null  float32\n",
      " 8   rec.energy.numu.recomuonE           184661 non-null  float32\n",
      " 9   rec.energy.numu.hadclust.calE       184661 non-null  float32\n",
      " 10  rec.energy.numu.hadclust.nhit       184661 non-null  uint32 \n",
      " 11  rec.mc.nnu                          184661 non-null  int16  \n",
      " 12  rec.mc.nu.E                         184661 non-null  float32\n",
      " 13  rec.mc.nu.pdg                       184661 non-null  float64\n",
      " 14  rec.mc.nu.mode                      184661 non-null  float64\n",
      " 15  rec.mc.nu.iscc                      184661 non-null  float64\n",
      " 16  rec.mc.nu.beam.potnum               184661 non-null  float64\n",
      " 17  rec.sel.contain.kalfwdcell          184661 non-null  int32  \n",
      " 18  rec.sel.contain.kalbakcell          184661 non-null  int32  \n",
      " 19  rec.sel.contain.cosfwdcell          184661 non-null  int32  \n",
      " 20  rec.sel.contain.cosbakcell          184661 non-null  int32  \n",
      " 21  rec.sel.cosrej.numucontpid2020fhc   184661 non-null  float32\n",
      " 22  rec.sel.cvnloosepreselptp.cosmicid  184661 non-null  float32\n",
      " 23  rec.sel.cvnloosepreselptp.ncid      184661 non-null  float32\n",
      " 24  rec.sel.cvnloosepreselptp.nueid     184661 non-null  float32\n",
      " 25  rec.sel.cvnloosepreselptp.numuid    184661 non-null  float32\n",
      " 26  rec.sel.cvnloosepreselptp.nutauid   184661 non-null  float32\n",
      " 27  rec.sel.remid.pid                   184661 non-null  float32\n",
      " 28  rec.sel.scann.scpid                 184661 non-null  float32\n",
      " 29  rec.sel.veto.keep                   184661 non-null  uint16 \n",
      " 30  rec.slc.calE                        184661 non-null  float32\n",
      " 31  rec.slc.firstplane                  184661 non-null  uint32 \n",
      " 32  rec.slc.lastplane                   184661 non-null  uint32 \n",
      " 33  rec.slc.nhit                        184661 non-null  uint32 \n",
      " 34  rec.slc.ncontplanes                 184661 non-null  uint32 \n",
      " 35  rec.spill.cosmiccvn.passSel         184661 non-null  uint16 \n",
      " 36  rec.trk.cosmic.ntracks              184661 non-null  uint64 \n",
      " 37  rec.trk.kalman.ntracks              184661 non-null  uint64 \n",
      " 38  rec.trk.kalman.ntracks2d            184661 non-null  uint64 \n",
      " 39  rec.trk.kalman.tracks.dir.x         163712 non-null  object \n",
      " 40  rec.trk.kalman.tracks.dir.y         163712 non-null  object \n",
      " 41  rec.trk.kalman.tracks.dir.z         163712 non-null  object \n",
      " 42  rec.trk.kalman.tracks.start.x       163712 non-null  object \n",
      " 43  rec.trk.kalman.tracks.start.y       163712 non-null  object \n",
      " 44  rec.trk.kalman.tracks.start.z       163712 non-null  object \n",
      " 45  rec.trk.kalman.tracks.len           163712 non-null  object \n",
      " 46  rec.trk.kalman.tracks.muonid        163712 non-null  object \n",
      " 47  rec.trk.kalman.tracks.rempid        163712 non-null  object \n",
      " 48  rec.trk.kalman.tracks.nhit          163712 non-null  object \n",
      " 49  rec.trk.kalman.tracks.nhitx         163712 non-null  object \n",
      " 50  rec.trk.kalman.tracks.nhity         163712 non-null  object \n",
      " 51  rec.trk.kalman.tracks.calE          163712 non-null  object \n",
      " 52  rec.trk.kalman.tracks.overlapE      163712 non-null  object \n",
      " 53  rec.trk.kalman.tracks.nplane        163712 non-null  object \n",
      " 54  rec.trk.kalman.tracks.maxplanecont  163712 non-null  object \n",
      "dtypes: float32(20), float64(4), int16(1), int32(4), object(16), uint16(2), uint32(5), uint64(3)\n",
      "memory usage: 55.2+ MB\n"
     ]
    }
   ],
   "source": [
    "data.table.info()"
   ]
  },
  {
   "cell_type": "code",
   "execution_count": 8,
   "metadata": {},
   "outputs": [],
   "source": [
    "data.fill_ana_flags(inplace=True)\n",
    "data.fill_ana_track_kinematics(inplace=True)"
   ]
  },
  {
   "cell_type": "markdown",
   "metadata": {},
   "source": [
    "## Data prep."
   ]
  },
  {
   "cell_type": "code",
   "execution_count": 9,
   "metadata": {},
   "outputs": [],
   "source": [
    "useful_vars = [\n",
    "\t'rec.energy.numu.calccE',\n",
    "\t'rec.energy.numu.hadcalE',\n",
    "\t'rec.energy.numu.hadtrkE',\n",
    "\t'rec.energy.numu.lstmmuon',\n",
    "\t'rec.energy.numu.regcvnhadE',\n",
    "\t'rec.energy.numu.trkccE',\n",
    "\t'rec.energy.numu.recomuonE',\n",
    "\t'rec.energy.numu.hadclust.calE',\n",
    "\t'rec.energy.numu.hadclust.nhit',\n",
    "\t'rec.sel.contain.kalfwdcell',\n",
    "\t'rec.sel.contain.kalbakcell',\n",
    "\t'rec.sel.contain.cosfwdcell',\n",
    "\t'rec.sel.contain.cosbakcell',\n",
    "\t'rec.sel.cosrej.numucontpid2020fhc',\n",
    "\t'rec.sel.cvnloosepreselptp.cosmicid',\n",
    "\t'rec.sel.cvnloosepreselptp.ncid',\n",
    "\t'rec.sel.cvnloosepreselptp.nueid',\n",
    "\t'rec.sel.cvnloosepreselptp.numuid',\n",
    "\t'rec.sel.cvnloosepreselptp.nutauid',\n",
    "\t'rec.sel.remid.pid',\n",
    "\t'rec.sel.scann.scpid',\n",
    "\t'rec.slc.calE',\n",
    "\t'rec.slc.firstplane',\n",
    "\t'rec.slc.lastplane',\n",
    "\t'rec.slc.nhit',\n",
    "\t'rec.slc.ncontplanes',\n",
    "\t'rec.trk.cosmic.ntracks',\n",
    "\t'rec.trk.kalman.ntracks',\n",
    "\t'rec.trk.kalman.ntracks2d',\n",
    "\t'ana.trk.kalman.tracks.cosBeam', \n",
    "\t'ana.trk.kalman.tracks.PtToPmu',\n",
    "\t'ana.trk.kalman.tracks.Pmu', \n",
    "\t'ana.trk.kalman.tracks.Pt',\n",
    "\t'ana.mc.flag.isNuMuCC'\n",
    "]\n",
    "\n",
    "scale_vars = [\n",
    "\t'rec.energy.numu.calccE',\n",
    "\t'rec.energy.numu.hadcalE',\n",
    "\t'rec.energy.numu.hadtrkE',\n",
    "\t'rec.energy.numu.lstmmuon',\n",
    "\t'rec.energy.numu.regcvnhadE',\n",
    "\t'rec.energy.numu.trkccE',\n",
    "\t'rec.energy.numu.recomuonE',\n",
    "\t'rec.energy.numu.hadclust.calE',\n",
    "\t'rec.energy.numu.hadclust.nhit',\n",
    "\t'rec.sel.contain.kalfwdcell',\n",
    "\t'rec.sel.contain.kalbakcell',\n",
    "\t'rec.sel.contain.cosfwdcell',\n",
    "\t'rec.sel.contain.cosbakcell',\n",
    "\t'rec.slc.calE',\n",
    "\t'rec.slc.firstplane',\n",
    "\t'rec.slc.lastplane',\n",
    "\t'rec.slc.nhit',\n",
    "\t'rec.slc.ncontplanes',\n",
    "\t'rec.trk.cosmic.ntracks',\n",
    "\t'rec.trk.kalman.ntracks',\n",
    "\t'rec.trk.kalman.ntracks2d',\n",
    "\t'ana.trk.kalman.tracks.cosBeam', \n",
    "\t'ana.trk.kalman.tracks.PtToPmu',\n",
    "\t'ana.trk.kalman.tracks.Pmu', \n",
    "\t'ana.trk.kalman.tracks.Pt'\n",
    "]"
   ]
  },
  {
   "cell_type": "code",
   "execution_count": 10,
   "metadata": {},
   "outputs": [],
   "source": [
    "table = data.table.reset_index(drop=True)"
   ]
  },
  {
   "cell_type": "code",
   "execution_count": 11,
   "metadata": {},
   "outputs": [],
   "source": [
    "cuts = ana.Cuts.init_nova_cuts()"
   ]
  },
  {
   "cell_type": "code",
   "execution_count": 12,
   "metadata": {},
   "outputs": [],
   "source": [
    "# Cuts\n",
    "table = cuts.apply_cut('Detector Quality', table)\n",
    "table = cuts.apply_cut('Data Quality', table)\n",
    "table = cuts.apply_cut('Cosmic Rej.', table)\n",
    "table = cuts.apply_cut('Veto', table)\n",
    "# table = cuts.apply_cut('CVN PID Score', table)\n",
    "# table = cuts.apply_cut('Containment', table)"
   ]
  },
  {
   "cell_type": "code",
   "execution_count": 13,
   "metadata": {},
   "outputs": [],
   "source": [
    "# Transforms\n",
    "table = tf_290124_positive_energies(table)\n",
    "table = tf_290124_valid_pid(table)\n",
    "table = tf_120224_first_prong(table)"
   ]
  },
  {
   "cell_type": "code",
   "execution_count": 15,
   "metadata": {},
   "outputs": [],
   "source": [
    "# Training data and labels\n",
    "x_table = table[useful_vars]\n",
    "y_table = x_table.pop('ana.mc.flag.isNuMuCC')"
   ]
  },
  {
   "cell_type": "code",
   "execution_count": 17,
   "metadata": {},
   "outputs": [
    {
     "data": {
      "image/png": "[encoded data removed]",
      "text/plain": [
       "<Figure size 640x480 with 1 Axes>"
      ]
     },
     "metadata": {},
     "output_type": "display_data"
    }
   ],
   "source": [
    "plt.hist(\n",
    "    y_table.values,\n",
    "    bins=np.linspace(0, 1, 2 + 1)  # type: ignore\n",
    ")\n",
    "plt.ylabel('Count')\n",
    "plt.xlabel('B/S CC event')\n",
    "plt.xticks([]);"
   ]
  },
  {
   "cell_type": "code",
   "execution_count": 22,
   "metadata": {},
   "outputs": [
    {
     "data": {
      "text/plain": [
       "3         1.0\n",
       "5         1.0\n",
       "21        0.0\n",
       "26        1.0\n",
       "29        1.0\n",
       "         ... \n",
       "184647    1.0\n",
       "184650    1.0\n",
       "184653    1.0\n",
       "184656    1.0\n",
       "184659    1.0\n",
       "Name: ana.mc.flag.isNuMuCC, Length: 40734, dtype: float64"
      ]
     },
     "execution_count": 22,
     "metadata": {},
     "output_type": "execute_result"
    }
   ],
   "source": [
    "y_table"
   ]
  },
  {
   "cell_type": "code",
   "execution_count": 23,
   "metadata": {},
   "outputs": [],
   "source": [
    "x_train_table, x_test_table, y_train_table, y_test_table = train_test_split(\n",
    "    x_table, y_table, test_size=0.2, random_state=42\n",
    ")"
   ]
  },
  {
   "cell_type": "markdown",
   "metadata": {},
   "source": [
    "## Model"
   ]
  },
  {
   "cell_type": "code",
   "execution_count": 24,
   "metadata": {},
   "outputs": [],
   "source": [
    "svm_model = SVC(kernel='linear')\n",
    "svm_model.fit(x_train_table, y_train_table)"
   ]
  },
  {
   "cell_type": "code",
   "execution_count": null,
   "metadata": {},
   "outputs": [],
   "source": [
    "prediction = svm_model.predict(x_test_table)"
   ]
  },
  {
   "cell_type": "code",
   "execution_count": null,
   "metadata": {},
   "outputs": [],
   "source": []
  }
 ],
 "metadata": {
  "kernelspec": {
   "display_name": ".venv",
   "language": "python",
   "name": "python3"
  },
  "language_info": {
   "codemirror_mode": {
    "name": "ipython",
    "version": 3
   },
   "file_extension": ".py",
   "mimetype": "text/x-python",
   "name": "python",
   "nbconvert_exporter": "python",
   "pygments_lexer": "ipython3",
   "version": "3.10.11"
  }
 },
 "nbformat": 4,
 "nbformat_minor": 2
}
