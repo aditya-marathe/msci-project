{
 "cells": [
  {
   "cell_type": "code",
   "execution_count": 3,
   "metadata": {},
   "outputs": [],
   "source": [
    "import matplotlib.pyplot as plt\n",
    "import numpy as np\n",
    "import tensorflow as tf\n",
    "from tensorflow.keras.callbacks import EarlyStopping\n",
    "from tensorflow.keras.losses import CategoricalCrossentropy\n",
    "from tensorflow.keras.optimizers import Adam\n",
    "\n",
    "from spektral.data.loaders import SingleLoader\n",
    "from spektral.datasets.citation import Citation\n",
    "from spektral.layers import GCNConv\n",
    "from spektral.models import GNNExplainer\n",
    "from spektral.models.gcn import GCN\n",
    "from spektral.transforms import AdjToSpTensor, LayerPreprocess\n",
    "from spektral.utils import gcn_filter"
   ]
  },
  {
   "cell_type": "code",
   "execution_count": 4,
   "metadata": {},
   "outputs": [],
   "source": [
    "# Config\n",
    "learning_rate = 1e-2\n",
    "seed = 0\n",
    "epochs = 50\n",
    "patience = 10\n",
    "data = \"cora\"\n",
    "tf.random.set_seed(seed=seed)  # make weight initialization reproducible"
   ]
  },
  {
   "cell_type": "code",
   "execution_count": 5,
   "metadata": {},
   "outputs": [
    {
     "name": "stdout",
     "output_type": "stream",
     "text": [
      "Downloading cora dataset.\n",
      "Pre-processing node features\n"
     ]
    },
    {
     "name": "stderr",
     "output_type": "stream",
     "text": [
      "c:\\Users\\Shrey\\OneDrive\\Documents\\GitHub\\msci-project\\.venv\\lib\\site-packages\\scipy\\sparse\\_index.py:143: SparseEfficiencyWarning: Changing the sparsity structure of a csr_matrix is expensive. lil_matrix is more efficient.\n",
      "  self._set_arrayXarray(i, j, x)\n"
     ]
    }
   ],
   "source": [
    "# Load data\n",
    "dataset = Citation(data, normalize_x=True, transforms=[LayerPreprocess(GCNConv)])"
   ]
  },
  {
   "cell_type": "code",
   "execution_count": 6,
   "metadata": {},
   "outputs": [],
   "source": [
    "# We convert the binary masks to sample weights so that we can compute the\n",
    "# average loss over the nodes (following original implementation by\n",
    "# Kipf & Welling)\n",
    "def mask_to_weights(mask):\n",
    "    return mask.astype(np.float32) / np.count_nonzero(mask)"
   ]
  },
  {
   "cell_type": "code",
   "execution_count": 7,
   "metadata": {},
   "outputs": [],
   "source": [
    "weights_tr, weights_va, weights_te = (\n",
    "    mask_to_weights(mask)\n",
    "    for mask in (dataset.mask_tr, dataset.mask_va, dataset.mask_te)\n",
    ")"
   ]
  },
  {
   "cell_type": "code",
   "execution_count": 8,
   "metadata": {},
   "outputs": [],
   "source": [
    "model = GCN(n_labels=dataset.n_labels)\n",
    "model.compile(\n",
    "    optimizer=Adam(learning_rate),\n",
    "    loss=CategoricalCrossentropy(reduction=\"sum\"),\n",
    "    weighted_metrics=[\"acc\"],\n",
    ")"
   ]
  },
  {
   "cell_type": "code",
   "execution_count": 9,
   "metadata": {},
   "outputs": [
    {
     "name": "stdout",
     "output_type": "stream",
     "text": [
      "Epoch 1/50\n",
      "1/1 [==============================] - 5s 5s/step - loss: 1.9544 - acc: 0.0786 - val_loss: 1.9504 - val_acc: 0.2640\n",
      "Epoch 2/50\n",
      "1/1 [==============================] - 0s 113ms/step - loss: 1.9476 - acc: 0.3571 - val_loss: 1.9464 - val_acc: 0.4940\n",
      "Epoch 3/50\n",
      "1/1 [==============================] - 0s 128ms/step - loss: 1.9416 - acc: 0.5786 - val_loss: 1.9420 - val_acc: 0.5840\n",
      "Epoch 4/50\n",
      "1/1 [==============================] - 0s 113ms/step - loss: 1.9336 - acc: 0.6857 - val_loss: 1.9372 - val_acc: 0.6160\n",
      "Epoch 5/50\n",
      "1/1 [==============================] - 0s 114ms/step - loss: 1.9277 - acc: 0.7357 - val_loss: 1.9325 - val_acc: 0.6360\n",
      "Epoch 6/50\n",
      "1/1 [==============================] - 0s 110ms/step - loss: 1.9189 - acc: 0.7357 - val_loss: 1.9279 - val_acc: 0.6300\n",
      "Epoch 7/50\n",
      "1/1 [==============================] - 0s 116ms/step - loss: 1.9103 - acc: 0.7500 - val_loss: 1.9234 - val_acc: 0.6380\n",
      "Epoch 8/50\n",
      "1/1 [==============================] - 0s 116ms/step - loss: 1.9046 - acc: 0.7571 - val_loss: 1.9191 - val_acc: 0.6380\n",
      "Epoch 9/50\n",
      "1/1 [==============================] - 0s 107ms/step - loss: 1.8937 - acc: 0.7286 - val_loss: 1.9147 - val_acc: 0.6300\n",
      "Epoch 10/50\n",
      "1/1 [==============================] - 0s 103ms/step - loss: 1.8841 - acc: 0.7786 - val_loss: 1.9103 - val_acc: 0.6320\n",
      "Epoch 11/50\n",
      "1/1 [==============================] - 0s 127ms/step - loss: 1.8780 - acc: 0.7714 - val_loss: 1.9058 - val_acc: 0.6380\n",
      "Epoch 12/50\n",
      "1/1 [==============================] - 0s 99ms/step - loss: 1.8678 - acc: 0.7500 - val_loss: 1.9011 - val_acc: 0.6460\n",
      "Epoch 13/50\n",
      "1/1 [==============================] - 0s 124ms/step - loss: 1.8557 - acc: 0.7714 - val_loss: 1.8963 - val_acc: 0.6480\n",
      "Epoch 14/50\n",
      "1/1 [==============================] - 0s 118ms/step - loss: 1.8469 - acc: 0.8071 - val_loss: 1.8912 - val_acc: 0.6600\n",
      "Epoch 15/50\n",
      "1/1 [==============================] - 0s 394ms/step - loss: 1.8387 - acc: 0.7786 - val_loss: 1.8860 - val_acc: 0.6640\n",
      "Epoch 16/50\n",
      "1/1 [==============================] - 0s 211ms/step - loss: 1.8277 - acc: 0.7929 - val_loss: 1.8806 - val_acc: 0.6740\n",
      "Epoch 17/50\n",
      "1/1 [==============================] - 0s 94ms/step - loss: 1.8147 - acc: 0.8500 - val_loss: 1.8751 - val_acc: 0.6760\n",
      "Epoch 18/50\n",
      "1/1 [==============================] - 0s 110ms/step - loss: 1.8037 - acc: 0.8000 - val_loss: 1.8693 - val_acc: 0.6780\n",
      "Epoch 19/50\n",
      "1/1 [==============================] - 0s 114ms/step - loss: 1.8033 - acc: 0.7786 - val_loss: 1.8635 - val_acc: 0.6840\n",
      "Epoch 20/50\n",
      "1/1 [==============================] - 0s 117ms/step - loss: 1.7871 - acc: 0.8000 - val_loss: 1.8575 - val_acc: 0.6920\n",
      "Epoch 21/50\n",
      "1/1 [==============================] - 0s 95ms/step - loss: 1.7706 - acc: 0.8357 - val_loss: 1.8514 - val_acc: 0.7000\n",
      "Epoch 22/50\n",
      "1/1 [==============================] - 0s 97ms/step - loss: 1.7643 - acc: 0.8214 - val_loss: 1.8453 - val_acc: 0.7020\n",
      "Epoch 23/50\n",
      "1/1 [==============================] - 0s 98ms/step - loss: 1.7555 - acc: 0.8214 - val_loss: 1.8390 - val_acc: 0.7040\n",
      "Epoch 24/50\n",
      "1/1 [==============================] - 0s 114ms/step - loss: 1.7443 - acc: 0.8571 - val_loss: 1.8326 - val_acc: 0.7080\n",
      "Epoch 25/50\n",
      "1/1 [==============================] - 0s 115ms/step - loss: 1.7316 - acc: 0.8500 - val_loss: 1.8260 - val_acc: 0.7080\n",
      "Epoch 26/50\n",
      "1/1 [==============================] - 0s 118ms/step - loss: 1.7092 - acc: 0.8643 - val_loss: 1.8193 - val_acc: 0.7080\n",
      "Epoch 27/50\n",
      "1/1 [==============================] - 0s 106ms/step - loss: 1.6996 - acc: 0.8214 - val_loss: 1.8126 - val_acc: 0.7100\n",
      "Epoch 28/50\n",
      "1/1 [==============================] - 0s 102ms/step - loss: 1.6955 - acc: 0.8500 - val_loss: 1.8058 - val_acc: 0.7100\n",
      "Epoch 29/50\n",
      "1/1 [==============================] - 0s 92ms/step - loss: 1.6797 - acc: 0.8571 - val_loss: 1.7988 - val_acc: 0.7140\n",
      "Epoch 30/50\n",
      "1/1 [==============================] - 0s 173ms/step - loss: 1.6498 - acc: 0.8286 - val_loss: 1.7917 - val_acc: 0.7160\n",
      "Epoch 31/50\n",
      "1/1 [==============================] - 0s 186ms/step - loss: 1.6465 - acc: 0.8214 - val_loss: 1.7846 - val_acc: 0.7200\n",
      "Epoch 32/50\n",
      "1/1 [==============================] - 0s 105ms/step - loss: 1.6251 - acc: 0.8571 - val_loss: 1.7774 - val_acc: 0.7200\n",
      "Epoch 33/50\n",
      "1/1 [==============================] - 0s 114ms/step - loss: 1.6182 - acc: 0.8786 - val_loss: 1.7702 - val_acc: 0.7180\n",
      "Epoch 34/50\n",
      "1/1 [==============================] - 0s 145ms/step - loss: 1.5841 - acc: 0.8643 - val_loss: 1.7630 - val_acc: 0.7220\n",
      "Epoch 35/50\n",
      "1/1 [==============================] - 0s 154ms/step - loss: 1.5666 - acc: 0.8929 - val_loss: 1.7556 - val_acc: 0.7220\n",
      "Epoch 36/50\n",
      "1/1 [==============================] - 0s 112ms/step - loss: 1.5554 - acc: 0.8786 - val_loss: 1.7480 - val_acc: 0.7240\n",
      "Epoch 37/50\n",
      "1/1 [==============================] - 0s 99ms/step - loss: 1.5625 - acc: 0.8786 - val_loss: 1.7402 - val_acc: 0.7260\n",
      "Epoch 38/50\n",
      "1/1 [==============================] - 0s 139ms/step - loss: 1.5399 - acc: 0.8571 - val_loss: 1.7323 - val_acc: 0.7300\n",
      "Epoch 39/50\n",
      "1/1 [==============================] - 0s 88ms/step - loss: 1.5107 - acc: 0.8643 - val_loss: 1.7244 - val_acc: 0.7340\n",
      "Epoch 40/50\n",
      "1/1 [==============================] - 0s 114ms/step - loss: 1.4934 - acc: 0.9071 - val_loss: 1.7164 - val_acc: 0.7340\n",
      "Epoch 41/50\n",
      "1/1 [==============================] - 0s 113ms/step - loss: 1.4971 - acc: 0.8786 - val_loss: 1.7084 - val_acc: 0.7380\n",
      "Epoch 42/50\n",
      "1/1 [==============================] - 0s 103ms/step - loss: 1.4845 - acc: 0.8571 - val_loss: 1.7004 - val_acc: 0.7440\n",
      "Epoch 43/50\n",
      "1/1 [==============================] - 0s 109ms/step - loss: 1.4450 - acc: 0.8714 - val_loss: 1.6924 - val_acc: 0.7480\n",
      "Epoch 44/50\n",
      "1/1 [==============================] - 0s 121ms/step - loss: 1.4452 - acc: 0.9000 - val_loss: 1.6841 - val_acc: 0.7500\n",
      "Epoch 45/50\n",
      "1/1 [==============================] - 0s 104ms/step - loss: 1.4345 - acc: 0.8929 - val_loss: 1.6757 - val_acc: 0.7500\n",
      "Epoch 46/50\n",
      "1/1 [==============================] - 1s 510ms/step - loss: 1.3769 - acc: 0.9000 - val_loss: 1.6670 - val_acc: 0.7520\n",
      "Epoch 47/50\n",
      "1/1 [==============================] - 0s 97ms/step - loss: 1.3939 - acc: 0.8857 - val_loss: 1.6586 - val_acc: 0.7500\n",
      "Epoch 48/50\n",
      "1/1 [==============================] - 0s 96ms/step - loss: 1.3936 - acc: 0.9071 - val_loss: 1.6499 - val_acc: 0.7520\n",
      "Epoch 49/50\n",
      "1/1 [==============================] - 0s 113ms/step - loss: 1.3913 - acc: 0.8714 - val_loss: 1.6414 - val_acc: 0.7540\n",
      "Epoch 50/50\n",
      "1/1 [==============================] - 0s 122ms/step - loss: 1.3837 - acc: 0.8643 - val_loss: 1.6330 - val_acc: 0.7540\n"
     ]
    },
    {
     "data": {
      "text/plain": [
       "<keras.callbacks.History at 0x1f789aac4c0>"
      ]
     },
     "execution_count": 9,
     "metadata": {},
     "output_type": "execute_result"
    }
   ],
   "source": [
    "# Train model\n",
    "loader_tr = SingleLoader(dataset, sample_weights=weights_tr)\n",
    "loader_va = SingleLoader(dataset, sample_weights=weights_va)\n",
    "\n",
    "model.fit(\n",
    "    loader_tr.load(),\n",
    "    steps_per_epoch=loader_tr.steps_per_epoch,\n",
    "    validation_data=loader_va.load(),\n",
    "    validation_steps=loader_va.steps_per_epoch,\n",
    "    epochs=epochs,\n",
    "    callbacks=[EarlyStopping(patience=patience, restore_best_weights=True)],\n",
    ")"
   ]
  },
  {
   "cell_type": "code",
   "execution_count": 10,
   "metadata": {},
   "outputs": [
    {
     "name": "stdout",
     "output_type": "stream",
     "text": [
      "n_hops was automatically inferred to be 2\n"
     ]
    }
   ],
   "source": [
    "# Set up explainer\n",
    "dataset.apply(AdjToSpTensor())\n",
    "x_exp, a_exp = dataset[0].x, dataset[0].a\n",
    "explainer = GNNExplainer(model, preprocess=gcn_filter, verbose=True)"
   ]
  },
  {
   "cell_type": "code",
   "execution_count": 11,
   "metadata": {},
   "outputs": [
    {
     "name": "stdout",
     "output_type": "stream",
     "text": [
      "pred_loss: 1.831010103225708, a_size_loss: 0.687591016292572, a_entropy_loss: 0.06930524855852127, smoothness_loss: [[0.]], x_size_loss: 71.65461730957031, x_entropy_loss: 0.06918551027774811\n",
      "pred_loss: 1.8304520845413208, a_size_loss: 0.6843104362487793, a_entropy_loss: 0.06930411607027054, smoothness_loss: [[0.]], x_size_loss: 71.29733276367188, x_entropy_loss: 0.06918429583311081\n",
      "pred_loss: 1.8298996686935425, a_size_loss: 0.6810058355331421, a_entropy_loss: 0.06930055469274521, smoothness_loss: [[0.]], x_size_loss: 70.9400634765625, x_entropy_loss: 0.06918061524629593\n",
      "pred_loss: 1.8293530941009521, a_size_loss: 0.6776907444000244, a_entropy_loss: 0.06929456442594528, smoothness_loss: [[0.]], x_size_loss: 70.58282470703125, x_entropy_loss: 0.06917444616556168\n",
      "pred_loss: 1.8288121223449707, a_size_loss: 0.6743694543838501, a_entropy_loss: 0.06928613036870956, smoothness_loss: [[0.]], x_size_loss: 70.22563934326172, x_entropy_loss: 0.06916579604148865\n",
      "pred_loss: 1.8282768726348877, a_size_loss: 0.6710442304611206, a_entropy_loss: 0.06927525997161865, smoothness_loss: [[0.]], x_size_loss: 69.86852264404297, x_entropy_loss: 0.06915468722581863\n",
      "pred_loss: 1.8277472257614136, a_size_loss: 0.6677164435386658, a_entropy_loss: 0.06926192343235016, smoothness_loss: [[0.]], x_size_loss: 69.51150512695312, x_entropy_loss: 0.06914108246564865\n",
      "pred_loss: 1.8272231817245483, a_size_loss: 0.6643867492675781, a_entropy_loss: 0.06924613565206528, smoothness_loss: [[0.]], x_size_loss: 69.15459442138672, x_entropy_loss: 0.06912501901388168\n",
      "pred_loss: 1.826704740524292, a_size_loss: 0.6610561013221741, a_entropy_loss: 0.06922788172960281, smoothness_loss: [[0.]], x_size_loss: 68.79782104492188, x_entropy_loss: 0.06910648196935654\n",
      "pred_loss: 1.8261914253234863, a_size_loss: 0.6577247381210327, a_entropy_loss: 0.06920717656612396, smoothness_loss: [[0.]], x_size_loss: 68.44121551513672, x_entropy_loss: 0.06908547878265381\n",
      "pred_loss: 1.82568359375, a_size_loss: 0.6543932557106018, a_entropy_loss: 0.06918402016162872, smoothness_loss: [[0.]], x_size_loss: 68.08477783203125, x_entropy_loss: 0.0690620169043541\n",
      "pred_loss: 1.8251807689666748, a_size_loss: 0.6510618329048157, a_entropy_loss: 0.0691583976149559, smoothness_loss: [[0.]], x_size_loss: 67.72854614257812, x_entropy_loss: 0.06903611123561859\n",
      "pred_loss: 1.8246829509735107, a_size_loss: 0.6477310657501221, a_entropy_loss: 0.06913033127784729, smoothness_loss: [[0.]], x_size_loss: 67.37252807617188, x_entropy_loss: 0.0690077394247055\n",
      "pred_loss: 1.8241900205612183, a_size_loss: 0.6444010138511658, a_entropy_loss: 0.0690998062491417, smoothness_loss: [[0.]], x_size_loss: 67.01677703857422, x_entropy_loss: 0.06897692382335663\n",
      "pred_loss: 1.8237016201019287, a_size_loss: 0.6410720348358154, a_entropy_loss: 0.0690668448805809, smoothness_loss: [[0.]], x_size_loss: 66.66128540039062, x_entropy_loss: 0.06894366443157196\n",
      "pred_loss: 1.823217749595642, a_size_loss: 0.6377445459365845, a_entropy_loss: 0.06903143972158432, smoothness_loss: [[0.]], x_size_loss: 66.30611419677734, x_entropy_loss: 0.0689079761505127\n",
      "pred_loss: 1.8227382898330688, a_size_loss: 0.6344186067581177, a_entropy_loss: 0.06899359077215195, smoothness_loss: [[0.]], x_size_loss: 65.95122528076172, x_entropy_loss: 0.06886985898017883\n",
      "pred_loss: 1.8222627639770508, a_size_loss: 0.6310945749282837, a_entropy_loss: 0.06895332038402557, smoothness_loss: [[0.]], x_size_loss: 65.5967025756836, x_entropy_loss: 0.06882932782173157\n",
      "pred_loss: 1.821791172027588, a_size_loss: 0.6277727484703064, a_entropy_loss: 0.06891059875488281, smoothness_loss: [[0.]], x_size_loss: 65.24253845214844, x_entropy_loss: 0.0687863901257515\n",
      "pred_loss: 1.8213231563568115, a_size_loss: 0.6244531273841858, a_entropy_loss: 0.06886547058820724, smoothness_loss: [[0.]], x_size_loss: 64.88876342773438, x_entropy_loss: 0.06874104589223862\n",
      "pred_loss: 1.820858359336853, a_size_loss: 0.6211363077163696, a_entropy_loss: 0.06881793588399887, smoothness_loss: [[0.]], x_size_loss: 64.53540802001953, x_entropy_loss: 0.06869331747293472\n",
      "pred_loss: 1.8203966617584229, a_size_loss: 0.6178224086761475, a_entropy_loss: 0.0687679871916771, smoothness_loss: [[0.]], x_size_loss: 64.18251037597656, x_entropy_loss: 0.06864320486783981\n",
      "pred_loss: 1.8199377059936523, a_size_loss: 0.6145116090774536, a_entropy_loss: 0.0687156394124031, smoothness_loss: [[0.]], x_size_loss: 63.8300666809082, x_entropy_loss: 0.06859072297811508\n",
      "pred_loss: 1.8194811344146729, a_size_loss: 0.6112042665481567, a_entropy_loss: 0.0686609074473381, smoothness_loss: [[0.]], x_size_loss: 63.478126525878906, x_entropy_loss: 0.06853587925434113\n",
      "pred_loss: 1.8190264701843262, a_size_loss: 0.6079004406929016, a_entropy_loss: 0.06860378384590149, smoothness_loss: [[0.]], x_size_loss: 63.12668991088867, x_entropy_loss: 0.06847868859767914\n",
      "pred_loss: 1.8185737133026123, a_size_loss: 0.6046003699302673, a_entropy_loss: 0.06854430586099625, smoothness_loss: [[0.]], x_size_loss: 62.775814056396484, x_entropy_loss: 0.06841915845870972\n",
      "pred_loss: 1.8181222677230835, a_size_loss: 0.6013045907020569, a_entropy_loss: 0.06848245114088058, smoothness_loss: [[0.]], x_size_loss: 62.425506591796875, x_entropy_loss: 0.06835731118917465\n",
      "pred_loss: 1.8176716566085815, a_size_loss: 0.5980131030082703, a_entropy_loss: 0.06841824948787689, smoothness_loss: [[0.]], x_size_loss: 62.075782775878906, x_entropy_loss: 0.06829316169023514\n",
      "pred_loss: 1.8172216415405273, a_size_loss: 0.5947262048721313, a_entropy_loss: 0.06835171580314636, smoothness_loss: [[0.]], x_size_loss: 61.7266960144043, x_entropy_loss: 0.06822671741247177\n",
      "pred_loss: 1.8167718648910522, a_size_loss: 0.5914440751075745, a_entropy_loss: 0.06828285753726959, smoothness_loss: [[0.]], x_size_loss: 61.37824630737305, x_entropy_loss: 0.06815799325704575\n",
      "pred_loss: 1.8163214921951294, a_size_loss: 0.5881670713424683, a_entropy_loss: 0.06821167469024658, smoothness_loss: [[0.]], x_size_loss: 61.03047561645508, x_entropy_loss: 0.06808700412511826\n",
      "pred_loss: 1.8158704042434692, a_size_loss: 0.5848953723907471, a_entropy_loss: 0.06813819706439972, smoothness_loss: [[0.]], x_size_loss: 60.68341064453125, x_entropy_loss: 0.06801377236843109\n",
      "pred_loss: 1.8154178857803345, a_size_loss: 0.5816292762756348, a_entropy_loss: 0.0680624470114708, smoothness_loss: [[0.]], x_size_loss: 60.33705520629883, x_entropy_loss: 0.06793829798698425\n",
      "pred_loss: 1.814963459968567, a_size_loss: 0.5783689618110657, a_entropy_loss: 0.06798440963029861, smoothness_loss: [[0.]], x_size_loss: 59.991455078125, x_entropy_loss: 0.06786062568426132\n",
      "pred_loss: 1.8145067691802979, a_size_loss: 0.5751146674156189, a_entropy_loss: 0.06790411472320557, smoothness_loss: [[0.]], x_size_loss: 59.64662551879883, x_entropy_loss: 0.0677807480096817\n",
      "pred_loss: 1.8140472173690796, a_size_loss: 0.5718666911125183, a_entropy_loss: 0.06782159954309464, smoothness_loss: [[0.]], x_size_loss: 59.302608489990234, x_entropy_loss: 0.06769869476556778\n",
      "pred_loss: 1.8135838508605957, a_size_loss: 0.5686252117156982, a_entropy_loss: 0.06773684918880463, smoothness_loss: [[0.]], x_size_loss: 58.95941162109375, x_entropy_loss: 0.06761448830366135\n",
      "pred_loss: 1.8131167888641357, a_size_loss: 0.5653903484344482, a_entropy_loss: 0.06764987856149673, smoothness_loss: [[0.]], x_size_loss: 58.6170539855957, x_entropy_loss: 0.0675281211733818\n",
      "pred_loss: 1.8126447200775146, a_size_loss: 0.5621627569198608, a_entropy_loss: 0.06756073236465454, smoothness_loss: [[0.]], x_size_loss: 58.27558135986328, x_entropy_loss: 0.06743966042995453\n",
      "pred_loss: 1.8121676445007324, a_size_loss: 0.5589421391487122, a_entropy_loss: 0.06746941059827805, smoothness_loss: [[0.]], x_size_loss: 57.93499755859375, x_entropy_loss: 0.06734909117221832\n",
      "pred_loss: 1.811684489250183, a_size_loss: 0.55572909116745, a_entropy_loss: 0.06737595051527023, smoothness_loss: [[0.]], x_size_loss: 57.5953369140625, x_entropy_loss: 0.06725644320249557\n",
      "pred_loss: 1.811194896697998, a_size_loss: 0.5525237917900085, a_entropy_loss: 0.06728033721446991, smoothness_loss: [[0.]], x_size_loss: 57.256622314453125, x_entropy_loss: 0.06716173142194748\n",
      "pred_loss: 1.81069815158844, a_size_loss: 0.5493263006210327, a_entropy_loss: 0.06718261539936066, smoothness_loss: [[0.]], x_size_loss: 56.918880462646484, x_entropy_loss: 0.06706497818231583\n",
      "pred_loss: 1.810193657875061, a_size_loss: 0.5461369156837463, a_entropy_loss: 0.06708279252052307, smoothness_loss: [[0.]], x_size_loss: 56.582130432128906, x_entropy_loss: 0.066966213285923\n",
      "pred_loss: 1.809680700302124, a_size_loss: 0.5429559946060181, a_entropy_loss: 0.06698089838027954, smoothness_loss: [[0.]], x_size_loss: 56.246395111083984, x_entropy_loss: 0.0668654590845108\n",
      "pred_loss: 1.8091598749160767, a_size_loss: 0.5397835969924927, a_entropy_loss: 0.06687694787979126, smoothness_loss: [[0.]], x_size_loss: 55.91168975830078, x_entropy_loss: 0.06676273047924042\n",
      "pred_loss: 1.8086366653442383, a_size_loss: 0.536620020866394, a_entropy_loss: 0.06677097082138062, smoothness_loss: [[0.]], x_size_loss: 55.57804489135742, x_entropy_loss: 0.06665805727243423\n",
      "pred_loss: 1.8081066608428955, a_size_loss: 0.5334656238555908, a_entropy_loss: 0.0666629821062088, smoothness_loss: [[0.]], x_size_loss: 55.2454719543457, x_entropy_loss: 0.06655146181583405\n",
      "pred_loss: 1.8075692653656006, a_size_loss: 0.5303203463554382, a_entropy_loss: 0.06655300408601761, smoothness_loss: [[0.]], x_size_loss: 54.913997650146484, x_entropy_loss: 0.06644295901060104\n",
      "pred_loss: 1.8070237636566162, a_size_loss: 0.5271845459938049, a_entropy_loss: 0.06644105911254883, smoothness_loss: [[0.]], x_size_loss: 54.583656311035156, x_entropy_loss: 0.06633258610963821\n",
      "pred_loss: 1.8064756393432617, a_size_loss: 0.5240584015846252, a_entropy_loss: 0.06632717698812485, smoothness_loss: [[0.]], x_size_loss: 54.25443649291992, x_entropy_loss: 0.06622036546468735\n",
      "pred_loss: 1.8059254884719849, a_size_loss: 0.5209420919418335, a_entropy_loss: 0.06621136516332626, smoothness_loss: [[0.]], x_size_loss: 53.926387786865234, x_entropy_loss: 0.06610629707574844\n",
      "pred_loss: 1.8053702116012573, a_size_loss: 0.5178360939025879, a_entropy_loss: 0.06609367579221725, smoothness_loss: [[0.]], x_size_loss: 53.59951400756836, x_entropy_loss: 0.06599044054746628\n",
      "pred_loss: 1.804810643196106, a_size_loss: 0.5147403478622437, a_entropy_loss: 0.06597408652305603, smoothness_loss: [[0.]], x_size_loss: 53.273834228515625, x_entropy_loss: 0.06587278842926025\n",
      "pred_loss: 1.804253101348877, a_size_loss: 0.5116549134254456, a_entropy_loss: 0.06585266441106796, smoothness_loss: [[0.]], x_size_loss: 52.949371337890625, x_entropy_loss: 0.06575339287519455\n",
      "pred_loss: 1.8036918640136719, a_size_loss: 0.5085802674293518, a_entropy_loss: 0.06572941690683365, smoothness_loss: [[0.]], x_size_loss: 52.626136779785156, x_entropy_loss: 0.06563227623701096\n",
      "pred_loss: 1.8031255006790161, a_size_loss: 0.5055165886878967, a_entropy_loss: 0.06560437381267548, smoothness_loss: [[0.]], x_size_loss: 52.30416488647461, x_entropy_loss: 0.06550945341587067\n",
      "pred_loss: 1.8025532960891724, a_size_loss: 0.5024638772010803, a_entropy_loss: 0.06547755748033524, smoothness_loss: [[0.]], x_size_loss: 51.98344039916992, x_entropy_loss: 0.06538494676351547\n",
      "pred_loss: 1.801973819732666, a_size_loss: 0.49942243099212646, a_entropy_loss: 0.06534899026155472, smoothness_loss: [[0.]], x_size_loss: 51.66401290893555, x_entropy_loss: 0.06525879353284836\n",
      "pred_loss: 1.8013869524002075, a_size_loss: 0.4963924288749695, a_entropy_loss: 0.06521870940923691, smoothness_loss: [[0.]], x_size_loss: 51.34589385986328, x_entropy_loss: 0.06513102352619171\n",
      "pred_loss: 1.8007912635803223, a_size_loss: 0.4933739900588989, a_entropy_loss: 0.065086729824543, smoothness_loss: [[0.]], x_size_loss: 51.02908706665039, x_entropy_loss: 0.06500165909528732\n",
      "pred_loss: 1.800186038017273, a_size_loss: 0.4903672933578491, a_entropy_loss: 0.06495308876037598, smoothness_loss: [[0.]], x_size_loss: 50.713619232177734, x_entropy_loss: 0.06487072259187698\n",
      "pred_loss: 1.7995707988739014, a_size_loss: 0.4873724579811096, a_entropy_loss: 0.06481780856847763, smoothness_loss: [[0.]], x_size_loss: 50.399513244628906, x_entropy_loss: 0.06473825126886368\n",
      "pred_loss: 1.7989486455917358, a_size_loss: 0.4843897819519043, a_entropy_loss: 0.06468091160058975, smoothness_loss: [[0.]], x_size_loss: 50.086769104003906, x_entropy_loss: 0.0646042674779892\n",
      "pred_loss: 1.7983211278915405, a_size_loss: 0.48141929507255554, a_entropy_loss: 0.06454242020845413, smoothness_loss: [[0.]], x_size_loss: 49.7754020690918, x_entropy_loss: 0.06446879357099533\n",
      "pred_loss: 1.7976841926574707, a_size_loss: 0.47846123576164246, a_entropy_loss: 0.06440237909555435, smoothness_loss: [[0.]], x_size_loss: 49.4654426574707, x_entropy_loss: 0.06433185935020447\n",
      "pred_loss: 1.7970372438430786, a_size_loss: 0.47551581263542175, a_entropy_loss: 0.0642608031630516, smoothness_loss: [[0.]], x_size_loss: 49.156883239746094, x_entropy_loss: 0.0641934871673584\n",
      "pred_loss: 1.796383023262024, a_size_loss: 0.4725829064846039, a_entropy_loss: 0.06411772221326828, smoothness_loss: [[0.]], x_size_loss: 48.84974670410156, x_entropy_loss: 0.0640537291765213\n",
      "pred_loss: 1.795729398727417, a_size_loss: 0.46966299414634705, a_entropy_loss: 0.06397318094968796, smoothness_loss: [[0.]], x_size_loss: 48.54404830932617, x_entropy_loss: 0.06391258537769318\n",
      "pred_loss: 1.7950682640075684, a_size_loss: 0.46675601601600647, a_entropy_loss: 0.06382717192173004, smoothness_loss: [[0.]], x_size_loss: 48.23979187011719, x_entropy_loss: 0.06377009302377701\n",
      "pred_loss: 1.7943990230560303, a_size_loss: 0.46386224031448364, a_entropy_loss: 0.0636797621846199, smoothness_loss: [[0.]], x_size_loss: 47.93700408935547, x_entropy_loss: 0.06362628191709518\n",
      "pred_loss: 1.7937208414077759, a_size_loss: 0.4609815776348114, a_entropy_loss: 0.06353092938661575, smoothness_loss: [[0.]], x_size_loss: 47.635677337646484, x_entropy_loss: 0.0634811744093895\n",
      "pred_loss: 1.7930330038070679, a_size_loss: 0.4581143856048584, a_entropy_loss: 0.06338076293468475, smoothness_loss: [[0.]], x_size_loss: 47.335838317871094, x_entropy_loss: 0.06333480030298233\n",
      "pred_loss: 1.7923407554626465, a_size_loss: 0.45526060461997986, a_entropy_loss: 0.06322925537824631, smoothness_loss: [[0.]], x_size_loss: 47.0374870300293, x_entropy_loss: 0.06318720430135727\n",
      "pred_loss: 1.7916408777236938, a_size_loss: 0.4524204730987549, a_entropy_loss: 0.0630764365196228, smoothness_loss: [[0.]], x_size_loss: 46.740638732910156, x_entropy_loss: 0.06303837895393372\n",
      "pred_loss: 1.790932059288025, a_size_loss: 0.449594110250473, a_entropy_loss: 0.06292234361171722, smoothness_loss: [[0.]], x_size_loss: 46.445308685302734, x_entropy_loss: 0.06288837641477585\n",
      "pred_loss: 1.7902138233184814, a_size_loss: 0.4467814862728119, a_entropy_loss: 0.06276700645685196, smoothness_loss: [[0.]], x_size_loss: 46.151493072509766, x_entropy_loss: 0.06273722648620605\n",
      "pred_loss: 1.7894855737686157, a_size_loss: 0.44398289918899536, a_entropy_loss: 0.0626104399561882, smoothness_loss: [[0.]], x_size_loss: 45.859214782714844, x_entropy_loss: 0.06258495151996613\n",
      "pred_loss: 1.78874671459198, a_size_loss: 0.44119828939437866, a_entropy_loss: 0.06245267391204834, smoothness_loss: [[0.]], x_size_loss: 45.568477630615234, x_entropy_loss: 0.06243158131837845\n",
      "pred_loss: 1.7879971265792847, a_size_loss: 0.4384278655052185, a_entropy_loss: 0.06229376792907715, smoothness_loss: [[0.]], x_size_loss: 45.27928161621094, x_entropy_loss: 0.062277134507894516\n",
      "pred_loss: 1.7872363328933716, a_size_loss: 0.4356716275215149, a_entropy_loss: 0.06213369965553284, smoothness_loss: [[0.]], x_size_loss: 44.99163818359375, x_entropy_loss: 0.06212164834141731\n",
      "pred_loss: 1.7864638566970825, a_size_loss: 0.4329296350479126, a_entropy_loss: 0.06197253614664078, smoothness_loss: [[0.]], x_size_loss: 44.70557403564453, x_entropy_loss: 0.06196514889597893\n",
      "pred_loss: 1.7856836318969727, a_size_loss: 0.4302021563053131, a_entropy_loss: 0.061810292303562164, smoothness_loss: [[0.]], x_size_loss: 44.42107009887695, x_entropy_loss: 0.06180764362215996\n",
      "pred_loss: 1.7849024534225464, a_size_loss: 0.42748916149139404, a_entropy_loss: 0.06164700910449028, smoothness_loss: [[0.]], x_size_loss: 44.13814926147461, x_entropy_loss: 0.061649203300476074\n",
      "pred_loss: 1.7841119766235352, a_size_loss: 0.4247906804084778, a_entropy_loss: 0.061482686549425125, smoothness_loss: [[0.]], x_size_loss: 43.856807708740234, x_entropy_loss: 0.06148981675505638\n",
      "pred_loss: 1.7833118438720703, a_size_loss: 0.42210686206817627, a_entropy_loss: 0.06131739169359207, smoothness_loss: [[0.]], x_size_loss: 43.57704544067383, x_entropy_loss: 0.061329521238803864\n",
      "pred_loss: 1.7825018167495728, a_size_loss: 0.4194377660751343, a_entropy_loss: 0.061151113361120224, smoothness_loss: [[0.]], x_size_loss: 43.29888916015625, x_entropy_loss: 0.06116835027933121\n",
      "pred_loss: 1.7816812992095947, a_size_loss: 0.4167834222316742, a_entropy_loss: 0.06098390370607376, smoothness_loss: [[0.]], x_size_loss: 43.02232360839844, x_entropy_loss: 0.0610063262283802\n",
      "pred_loss: 1.7808501720428467, a_size_loss: 0.41414400935173035, a_entropy_loss: 0.060815777629613876, smoothness_loss: [[0.]], x_size_loss: 42.747371673583984, x_entropy_loss: 0.06084347516298294\n",
      "pred_loss: 1.7800079584121704, a_size_loss: 0.4115193486213684, a_entropy_loss: 0.060646772384643555, smoothness_loss: [[0.]], x_size_loss: 42.47401809692383, x_entropy_loss: 0.060679830610752106\n",
      "pred_loss: 1.779154896736145, a_size_loss: 0.4089096784591675, a_entropy_loss: 0.06047691032290459, smoothness_loss: [[0.]], x_size_loss: 42.202274322509766, x_entropy_loss: 0.060515400022268295\n",
      "pred_loss: 1.7782907485961914, a_size_loss: 0.40631502866744995, a_entropy_loss: 0.060306232422590256, smoothness_loss: [[0.]], x_size_loss: 41.93214797973633, x_entropy_loss: 0.06035022810101509\n",
      "pred_loss: 1.777428150177002, a_size_loss: 0.4037354588508606, a_entropy_loss: 0.06013473495841026, smoothness_loss: [[0.]], x_size_loss: 41.66364669799805, x_entropy_loss: 0.06018434092402458\n",
      "pred_loss: 1.7765722274780273, a_size_loss: 0.4011709690093994, a_entropy_loss: 0.059962477535009384, smoothness_loss: [[0.]], x_size_loss: 41.39675521850586, x_entropy_loss: 0.060017745941877365\n",
      "pred_loss: 1.7757233381271362, a_size_loss: 0.39862170815467834, a_entropy_loss: 0.05978946015238762, smoothness_loss: [[0.]], x_size_loss: 41.1314811706543, x_entropy_loss: 0.059850484132766724\n",
      "pred_loss: 1.7748712301254272, a_size_loss: 0.39608773589134216, a_entropy_loss: 0.05961572751402855, smoothness_loss: [[0.]], x_size_loss: 40.867835998535156, x_entropy_loss: 0.05968257412314415\n",
      "pred_loss: 1.7740145921707153, a_size_loss: 0.39356890320777893, a_entropy_loss: 0.05944129824638367, smoothness_loss: [[0.]], x_size_loss: 40.60580825805664, x_entropy_loss: 0.05951404571533203\n",
      "pred_loss: 1.7731530666351318, a_size_loss: 0.391065388917923, a_entropy_loss: 0.05926619842648506, smoothness_loss: [[0.]], x_size_loss: 40.34540939331055, x_entropy_loss: 0.05934492498636246\n",
      "pred_loss: 1.7722944021224976, a_size_loss: 0.3885769844055176, a_entropy_loss: 0.05909046530723572, smoothness_loss: [[0.]], x_size_loss: 40.08663558959961, x_entropy_loss: 0.05917523428797722\n",
      "pred_loss: 1.7714426517486572, a_size_loss: 0.38610410690307617, a_entropy_loss: 0.058914102613925934, smoothness_loss: [[0.]], x_size_loss: 39.82948684692383, x_entropy_loss: 0.05900499224662781\n"
     ]
    }
   ],
   "source": [
    "# Explain prediction for one node\n",
    "node_idx = 1000\n",
    "adj_mask, feat_mask = explainer.explain_node(x=x_exp, a=a_exp, node_idx=node_idx)"
   ]
  },
  {
   "cell_type": "code",
   "execution_count": 13,
   "metadata": {},
   "outputs": [
    {
     "data": {
      "image/png": "[encoded data removed]",
      "text/plain": [
       "<Figure size 640x480 with 1 Axes>"
      ]
     },
     "metadata": {},
     "output_type": "display_data"
    }
   ],
   "source": [
    "# Plot the result\n",
    "G = explainer.plot_subgraph(adj_mask, feat_mask, node_idx)"
   ]
  },
  {
   "cell_type": "code",
   "execution_count": null,
   "metadata": {},
   "outputs": [],
   "source": []
  }
 ],
 "metadata": {
  "kernelspec": {
   "display_name": ".venv",
   "language": "python",
   "name": "python3"
  },
  "language_info": {
   "codemirror_mode": {
    "name": "ipython",
    "version": 3
   },
   "file_extension": ".py",
   "mimetype": "text/x-python",
   "name": "python",
   "nbconvert_exporter": "python",
   "pygments_lexer": "ipython3",
   "version": "3.10.11"
  }
 },
 "nbformat": 4,
 "nbformat_minor": 2
}
