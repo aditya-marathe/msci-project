{
 "cells": [
  {
   "cell_type": "markdown",
   "metadata": {},
   "source": [
    "# Flux test"
   ]
  },
  {
   "cell_type": "code",
   "execution_count": 2,
   "metadata": {},
   "outputs": [],
   "source": [
    "import numpy as np\n",
    "import matplotlib.pyplot as plt\n",
    "from scipy.stats import lognorm\n",
    "import matplotlib.style\n",
    "import matplotlib as mpl\n",
    "import math\n",
    "\n",
    "#Set default figure size\n",
    "mpl.rcParams['figure.figsize'] = [12.0, 8.0]\n",
    "mpl.rcParams[\"legend.frameon\"] = False\n",
    "mpl.rcParams.update({'font.size': 22})\n",
    "\n",
    "#Could problem also switch these to rcParams calls\n",
    "plt.rc('text', usetex=True)\n",
    "#plt.rc('font', family='serif')"
   ]
  },
  {
   "cell_type": "markdown",
   "metadata": {},
   "source": [
    "From arXiv:2109.11049v2 the flux of neutrinos from the spallation neutron source is\n",
    "$$F_{SNS}=4.7 \\times10^7 \\nu cm^{−2} s^{−1}$$\n",
    "at a distance of 20m.\n",
    "\n",
    "1 cm$^2$ at a distance of 20m is a solid angle, $\\Omega = \\frac{A}{r^2} = \\frac{1}{2000^2} Sr$\n",
    "\n",
    "So the flux of neutrinos from the SNS is\n",
    "$$F_{SNS} = 19 \\times10^{14} \\nu Sr^{-1} s^{-1}$$\n"
   ]
  },
  {
   "cell_type": "markdown",
   "metadata": {},
   "source": [
    "From Leo's PPFX Paper arXiv:1607.00704v3 the neutrino flux is\n",
    "$$F_{NuMI} = 287 \\pm 22 \\nu_\\mu /m^2 / 10^6 POT$$"
   ]
  },
  {
   "cell_type": "code",
   "execution_count": 4,
   "metadata": {},
   "outputs": [
    {
     "name": "stdout",
     "output_type": "stream",
     "text": [
      "9.49074074074074\n"
     ]
    }
   ],
   "source": [
    "potPerWeek=20e18\n",
    "secondsPerWeek=60*60*24*7\n",
    "\n",
    "potPerWeek/secondsPerWeek\n",
    "\n",
    "Fnumi=287*(potPerWeek/1e6)/secondsPerWeek\n",
    "print(Fnumi/1e9)"
   ]
  },
  {
   "cell_type": "markdown",
   "metadata": {},
   "source": [
    "$F_{NuMI}=9.5 \\times 10^9 \\nu_\\mu /m^2 / s$\n",
    "\n",
    "1 m$^2$ at a distance of 1000m is a solid angle, $\\Omega = \\frac{A}{r^2} = \\frac{1}{1000^2} Sr$\n",
    "\n",
    "$F_{NuMI}=9.5 \\times 10^{15} \\nu_\\mu / Sr / s$"
   ]
  },
  {
   "cell_type": "code",
   "execution_count": null,
   "metadata": {},
   "outputs": [],
   "source": []
  }
 ],
 "metadata": {
  "kernelspec": {
   "display_name": "Python 3 (ipykernel)",
   "language": "python",
   "name": "python3"
  },
  "language_info": {
   "codemirror_mode": {
    "name": "ipython",
    "version": 3
   },
   "file_extension": ".py",
   "mimetype": "text/x-python",
   "name": "python",
   "nbconvert_exporter": "python",
   "pygments_lexer": "ipython3",
   "version": "3.9.7"
  }
 },
 "nbformat": 4,
 "nbformat_minor": 4
}
